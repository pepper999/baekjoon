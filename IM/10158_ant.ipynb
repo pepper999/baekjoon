{
 "cells": [
  {
   "cell_type": "markdown",
   "metadata": {},
   "source": [
    "### 10158 개미\n",
    "\n",
    "1. 대각선으로 움직인다고 하지만, 좌우 움직임과 상하 움직임을 나눠서 생각하면 편하다.\n",
    "\n",
    "2. 개미는 결국, 박스 안에서 계속해서 움직이는 것이기 때문에 개미가 총 얼마를 갔는지를 다 더해준다.\n",
    "\n",
    "3. 총 간 거리를 박스의 가로, 세로 길이만큼 나눈 몫이 개미가 얼마나 그 안의 모서리를 만나 반대쪽으로 이동하는지 이다.\n",
    "\n",
    "4. 안을 홀수번 이동했다면 마지막으로 오른쪽 벽에 부딫힌다는 소리이고 짝수번이라면 반대이다.\n",
    "\n",
    "5. 마찬가지로 홀수번 이동했으면 마지막으로 위쪽벽에 부딪힌다는 소리이고 짝수번이라면 반대이다.\n",
    "\n",
    "6. 왕복횟수(이동거리 // 박스의 길이)와 마지막에 부딪히고 얼마를 갔는지(이동거리 % 박스의 길이) 알아낸다면, 현재 좌표를 구할 수 있다."
   ]
  },
  {
   "cell_type": "code",
   "execution_count": 9,
   "metadata": {},
   "outputs": [
    {
     "name": "stdout",
     "output_type": "stream",
     "text": [
      "3 1\n"
     ]
    }
   ],
   "source": [
    "w, h = map(int, input().split())\n",
    "p, q = map(int, input().split())\n",
    "t = int(input())\n",
    "\n",
    "p += t\n",
    "q += t\n",
    "\n",
    "if (p // w) % 2 == 0:\n",
    "    print(p % w, end = ' ')\n",
    "else:\n",
    "    print(w - p % w, end = ' ')\n",
    "if (q // h) % 2 == 0:\n",
    "    print(q % h)\n",
    "else:\n",
    "    print(h - q % h)\n",
    "    "
   ]
  }
 ],
 "metadata": {
  "kernelspec": {
   "display_name": "Python 3",
   "language": "python",
   "name": "python3"
  },
  "language_info": {
   "codemirror_mode": {
    "name": "ipython",
    "version": 3
   },
   "file_extension": ".py",
   "mimetype": "text/x-python",
   "name": "python",
   "nbconvert_exporter": "python",
   "pygments_lexer": "ipython3",
   "version": "3.9.6"
  },
  "orig_nbformat": 4
 },
 "nbformat": 4,
 "nbformat_minor": 2
}
