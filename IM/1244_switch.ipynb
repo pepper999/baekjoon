{
 "cells": [
  {
   "cell_type": "markdown",
   "metadata": {},
   "source": [
    "### 1244 스위치 켜고 끄기\n",
    "\n",
    "1. 조건문만 잘 만들면 댐\n",
    "\n",
    "2. 양쪽 모두 비교해서 같을 떄 비교해주는 거 while 문 조건 좀 신경써서 할 것"
   ]
  },
  {
   "cell_type": "code",
   "execution_count": 18,
   "metadata": {},
   "outputs": [
    {
     "name": "stdout",
     "output_type": "stream",
     "text": [
      "1 0 0 0 1 1 0 1 "
     ]
    }
   ],
   "source": [
    "def change(x):\n",
    "    if switch[x] == 1:\n",
    "        switch[x] = 0\n",
    "    else:\n",
    "        switch[x] = 1\n",
    "\n",
    "N = int(input())\n",
    "switch = [-1] + list(map(int, input().split()))\n",
    "stunum = int(input())\n",
    "for _ in range(stunum):\n",
    "    sex, num = map(int, input().split())\n",
    "    if sex == 1:\n",
    "        k = 1\n",
    "        while num * k <= N:\n",
    "            change(num * k)\n",
    "            k += 1\n",
    "    else:\n",
    "        change(num)\n",
    "        k = 1\n",
    "        while 0 < num - k and num + k <= N and switch[num-k] == switch[num+k]:\n",
    "            change(num-k)\n",
    "            change(num+k)\n",
    "            k += 1\n",
    "\n",
    "for i in range(1, N+1):\n",
    "    print(switch[i], end=\" \")\n",
    "    if i % 20 == 0:\n",
    "        print()"
   ]
  }
 ],
 "metadata": {
  "kernelspec": {
   "display_name": "Python 3",
   "language": "python",
   "name": "python3"
  },
  "language_info": {
   "codemirror_mode": {
    "name": "ipython",
    "version": 3
   },
   "file_extension": ".py",
   "mimetype": "text/x-python",
   "name": "python",
   "nbconvert_exporter": "python",
   "pygments_lexer": "ipython3",
   "version": "3.9.13"
  },
  "orig_nbformat": 4
 },
 "nbformat": 4,
 "nbformat_minor": 2
}
