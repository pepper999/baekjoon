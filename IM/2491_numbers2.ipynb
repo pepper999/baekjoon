{
 "cells": [
  {
   "cell_type": "markdown",
   "metadata": {},
   "source": [
    "### 2491 수열\n",
    "\n",
    "1. 증가하는 수열과 감소하는 수열을 모두 기록하면 된다.\n",
    "\n",
    "2. 수열의 원소들은 그 자체로 증가/감소하는 수열이기 때문에, 초기 길이 값 = 1\n",
    "\n",
    "3. 증가하는 수열 -> 왼쪽 원소보다 오른쪽 원소가 크면 해당 숫자에 길이 값 + 1\n",
    "\n",
    "4. 감소하는 수열은 반대로 작으면 감소 수열에 해당 위치의 길이 값 + 1\n",
    "\n",
    "5. 기록해놓은 수열들 중 최댓값을 print"
   ]
  },
  {
   "cell_type": "code",
   "execution_count": 5,
   "metadata": {},
   "outputs": [
    {
     "name": "stdout",
     "output_type": "stream",
     "text": [
      "2\n"
     ]
    }
   ],
   "source": [
    "N = int(input())\n",
    "nums = list(map(int, input().split()))\n",
    "# 증가/감소하는 수열의 길이를 저장하는 list 생성 (모든 원소의 초기 길이 값은 1)\n",
    "nums_in = [1] * N\n",
    "nums_de = [1] * N\n",
    "\n",
    "# 원 수열의 끝까지 순회하면서 오른쪽의 값이 크면 큰 순열의 길이 값 + 1 반대는 작은 순열의 길이 값 + 1\n",
    "for i in range(N-1):\n",
    "    if nums[i+1] >= nums[i]:\n",
    "        nums_in[i+1] = nums_in[i] + 1\n",
    "    if nums[i+1] <= nums[i]:\n",
    "        nums_de[i+1] = nums_de[i] + 1\n",
    "print(max(max(nums_in), max(nums_de)))"
   ]
  }
 ],
 "metadata": {
  "kernelspec": {
   "display_name": "Python 3",
   "language": "python",
   "name": "python3"
  },
  "language_info": {
   "codemirror_mode": {
    "name": "ipython",
    "version": 3
   },
   "file_extension": ".py",
   "mimetype": "text/x-python",
   "name": "python",
   "nbconvert_exporter": "python",
   "pygments_lexer": "ipython3",
   "version": "3.9.13"
  },
  "orig_nbformat": 4
 },
 "nbformat": 4,
 "nbformat_minor": 2
}
