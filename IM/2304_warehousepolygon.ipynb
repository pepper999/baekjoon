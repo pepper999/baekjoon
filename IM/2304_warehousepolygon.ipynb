{
 "cells": [
  {
   "cell_type": "markdown",
   "metadata": {},
   "source": [
    "### 2304 창고 다각형\n",
    "\n",
    "1. 최댓값을 기준으로 생각함\n",
    "\n",
    "2. 가장 높은 기둥을 기준으로 하여 양쪽의 넓이를 구함\n",
    "\n",
    "3. 맨앞에서부터 시작하여 진행하면서 실시간으로 가장 높은 기둥을 갱신\n",
    "\n",
    "4. 가장 높은 기둥이 나올때 까지 반복하면서, 이전의 가장 높은 기둥보다 더 높은 기둥이 나올때마다 이전 기둥부터 현재 기둥까지의 사각형 넓이를 구함\n",
    "\n",
    "5. 가장 높은 기둥을 기준으로 오른쪽은 반대로 진행(list를 단순히 reverse시켜서 계산)\n",
    "\n",
    "6. 왼쪽 다각형 + 오른쪽 다각형 + 가장 높은 기둥의 넓이 -> 최종 결과값"
   ]
  },
  {
   "cell_type": "code",
   "execution_count": 7,
   "metadata": {},
   "outputs": [
    {
     "name": "stdout",
     "output_type": "stream",
     "text": [
      "40\n"
     ]
    }
   ],
   "source": [
    "N = int(input())\n",
    "col = [list(map(int, input().split())) for _ in range(N)]\n",
    "col.sort()\n",
    "# 기준으로 쓸 가장 높은 기둥의 인덱스 값과, 높이 값 저장\n",
    "max_index = col.index(max(col, key = lambda x : x[1]))\n",
    "max_col = col[max_index][1]\n",
    "total = 0\n",
    "\n",
    "# 기둥을 탐색하여 현재까지 기둥 중 가장 높은 기둥을 저장하면서 저장할 때 마다 사각형의 넓이를 구하는 함수 정의\n",
    "def roof(arr):\n",
    "    result = 0\n",
    "    tempidx, tempcol = arr[0]\n",
    "    for nowidx, nowcol in arr[1:]:\n",
    "        if nowcol >= tempcol:\n",
    "            result += tempcol * abs(tempidx - nowidx)\n",
    "            tempidx, tempcol = nowidx, nowcol\n",
    "    return result\n",
    "\n",
    "# 왼쪽 다각형 + 오른쪽 다각형 + 기준이 되었던 기둥의 넓이를 더하여 최종 결과 산출\n",
    "print(roof(col[:max_index+1]) + roof(list(reversed(col[max_index:]))) + max_col)"
   ]
  }
 ],
 "metadata": {
  "kernelspec": {
   "display_name": "Python 3",
   "language": "python",
   "name": "python3"
  },
  "language_info": {
   "codemirror_mode": {
    "name": "ipython",
    "version": 3
   },
   "file_extension": ".py",
   "mimetype": "text/x-python",
   "name": "python",
   "nbconvert_exporter": "python",
   "pygments_lexer": "ipython3",
   "version": "3.9.13"
  },
  "orig_nbformat": 4
 },
 "nbformat": 4,
 "nbformat_minor": 2
}
