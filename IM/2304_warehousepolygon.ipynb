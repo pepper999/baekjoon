{
 "cells": [
  {
   "cell_type": "markdown",
   "metadata": {},
   "source": [
    "### 2304 창고 다각형\n",
    "\n",
    "1. 최댓값을 기준으로 생각함\n",
    "\n",
    "2. 가장 높은 기둥을 기준으로 하여 양쪽의 넓이를 구함"
   ]
  },
  {
   "cell_type": "code",
   "execution_count": 21,
   "metadata": {},
   "outputs": [
    {
     "name": "stdout",
     "output_type": "stream",
     "text": [
      "98\n"
     ]
    }
   ],
   "source": [
    "N = int(input())\n",
    "col = [list(map(int, input().split())) for _ in range(N)]\n",
    "col.sort()\n",
    "max_index = col.index(max(col, key = lambda x : x[1]))\n",
    "stack = []\n",
    "total = 0\n",
    "for i in range(max_index + 1):\n",
    "    if not stack:\n",
    "        stack.append(col[i])\n",
    "    elif stack[-1][1] < col[i][1]:\n",
    "        total += stack[-1][1] * (col[i][0] - stack[-1][0])\n",
    "        stack.append(col[i])\n",
    "total += col[max_index][1]\n",
    "stack = []\n",
    "for i in range(N-1, max_index-1, -1):\n",
    "    if not stack:\n",
    "        stack.append(col[i])\n",
    "    elif stack[-1][1] < col[i][1]:\n",
    "        total += stack[-1][1] * abs(col[i][0] - stack[-1][0])\n",
    "        stack.append(col[i])\n",
    "print(total)"
   ]
  },
  {
   "cell_type": "code",
   "execution_count": 14,
   "metadata": {},
   "outputs": [
    {
     "name": "stdout",
     "output_type": "stream",
     "text": [
      "[8, 10]\n",
      "32\n"
     ]
    }
   ],
   "source": [
    "print(stack[-1])\n",
    "print(total)"
   ]
  }
 ],
 "metadata": {
  "kernelspec": {
   "display_name": "Python 3",
   "language": "python",
   "name": "python3"
  },
  "language_info": {
   "codemirror_mode": {
    "name": "ipython",
    "version": 3
   },
   "file_extension": ".py",
   "mimetype": "text/x-python",
   "name": "python",
   "nbconvert_exporter": "python",
   "pygments_lexer": "ipython3",
   "version": "3.9.13"
  },
  "orig_nbformat": 4
 },
 "nbformat": 4,
 "nbformat_minor": 2
}
