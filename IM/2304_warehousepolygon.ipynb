{
 "cells": [
  {
   "cell_type": "markdown",
   "metadata": {},
   "source": [
    "### 2304 창고 다각형\n",
    "\n",
    "1. 최댓값을 기준으로 생각함\n",
    "\n",
    "2. 가장 높은 기둥을 기준으로 하여 양쪽의 넓이를 구함"
   ]
  },
  {
   "cell_type": "code",
   "execution_count": 19,
   "metadata": {},
   "outputs": [
    {
     "name": "stdout",
     "output_type": "stream",
     "text": [
      "[[15, 8], [13, 6], [11, 4], [8, 10], [5, 3], [4, 6], [2, 4]]\n"
     ]
    }
   ],
   "source": [
    "N = int(input())\n",
    "col = [list(map(int, input().split())) for _ in range(N)]\n",
    "col.sort()\n",
    "max_index, max_col = max(col, key = lambda x : x[1])\n",
    "total = 0\n",
    "\n",
    "def roof(arr):\n",
    "    result = 0\n",
    "    tempidx, tempcol = arr[0]\n",
    "    for nowidx, nowcol in arr[1:]:\n",
    "        if nowcol > tempcol:\n",
    "            result += tempcol * abs(tempidx - nowidx)\n",
    "            tempidx, tempcol = nowidx, nowcol\n",
    "    return result\n",
    "\n",
    "# print(roof(col[:max_index+1]) + roof() + max_col)\n",
    "\n",
    "print(list(reversed(col)))"
   ]
  },
  {
   "cell_type": "code",
   "execution_count": 20,
   "metadata": {},
   "outputs": [
    {
     "name": "stdout",
     "output_type": "stream",
     "text": [
      "8\n"
     ]
    }
   ],
   "source": [
    "print(max_index)"
   ]
  }
 ],
 "metadata": {
  "kernelspec": {
   "display_name": "Python 3",
   "language": "python",
   "name": "python3"
  },
  "language_info": {
   "codemirror_mode": {
    "name": "ipython",
    "version": 3
   },
   "file_extension": ".py",
   "mimetype": "text/x-python",
   "name": "python",
   "nbconvert_exporter": "python",
   "pygments_lexer": "ipython3",
   "version": "3.9.13"
  },
  "orig_nbformat": 4
 },
 "nbformat": 4,
 "nbformat_minor": 2
}
