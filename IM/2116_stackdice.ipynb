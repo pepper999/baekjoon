{
 "cells": [
  {
   "cell_type": "markdown",
   "metadata": {},
   "source": [
    "### 2116 주사위 쌓기\n",
    "\n",
    "1. 브루트포스로 풀면댐\n",
    "\n",
    "2. 맨 밑 주사위가 놓이는 경우의 수 6가지(어떤 면이 밑면이 될 것인가?)\n",
    "\n",
    "3. 주사위의 밑 면과 윗 면을 제외한 옆면은 모두 고를 수 있기 때문에, 옆면 중 최댓값을 구하면 됨\n",
    "\n",
    "4. 주사위를 조건에 맞게 하나씩 쌓아가면서 각 옆 면의 최댓값을 더해나감"
   ]
  },
  {
   "cell_type": "code",
   "execution_count": 6,
   "metadata": {},
   "outputs": [
    {
     "name": "stdout",
     "output_type": "stream",
     "text": [
      "29\n"
     ]
    }
   ],
   "source": [
    "N = int(input())\n",
    "\n",
    "dice_list = [list(map(int, input().split())) for _ in range(N)]\n",
    "pair = [5, 3, 4, 1, 2, 0]\n",
    "max_num = 0\n",
    "for i in range(6):\n",
    "    result = []\n",
    "    temp = list(range(1, 7))\n",
    "    next = dice_list[0][pair[i]]\n",
    "    temp.remove(dice_list[0][i])\n",
    "    temp.remove(next)\n",
    "    result.append(max(temp))\n",
    "    for j in range(1, N):\n",
    "        temp = list(range(1, 7))\n",
    "        temp.remove(next)\n",
    "        next = dice_list[j][pair[dice_list[j].index(next)]]\n",
    "        temp.remove(next)\n",
    "        result.append(max(temp))\n",
    "    max_num = max(max_num, sum(result))\n",
    "print(max_num)"
   ]
  }
 ],
 "metadata": {
  "kernelspec": {
   "display_name": "Python 3",
   "language": "python",
   "name": "python3"
  },
  "language_info": {
   "codemirror_mode": {
    "name": "ipython",
    "version": 3
   },
   "file_extension": ".py",
   "mimetype": "text/x-python",
   "name": "python",
   "nbconvert_exporter": "python",
   "pygments_lexer": "ipython3",
   "version": "3.9.13"
  },
  "orig_nbformat": 4
 },
 "nbformat": 4,
 "nbformat_minor": 2
}
