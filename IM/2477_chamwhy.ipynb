{
 "cells": [
  {
   "cell_type": "markdown",
   "metadata": {},
   "source": [
    "### 2477 참외밭\n",
    "\n",
    "1. 가장 긴 세로와 가로를 곱해서 큰 사각형의 넓이를 구함\n",
    "\n",
    "2. 가장 긴 세로의 양 옆 가로 길이 간의 차이가 작은 사각형의 세로\n",
    "\n",
    "3. 마찬가지로 가장 긴 가로의 양 옆 세로 길이 간의 차이가 작은 사각형의 가로임\n",
    "\n",
    "4. 위의 넓이를 바탕으로 최종 넓이를 구한다음에 평당 수확 가능한 참외를 곱하면 댐"
   ]
  },
  {
   "cell_type": "code",
   "execution_count": 15,
   "metadata": {},
   "outputs": [
    {
     "name": "stdout",
     "output_type": "stream",
     "text": [
      "700\n"
     ]
    }
   ],
   "source": [
    "K = int(input())\n",
    "bat = [list(map(int, input().split())) for _ in range(6)]\n",
    "# 가장 긴 세로와 가로 길이를 값과 인덱스값으로 나누어 저장\n",
    "row_max_idx = bat.index(max(bat, key = lambda x: x[1] if x[0] == 1 or x[0] == 2 else 0))\n",
    "row_max = max(bat, key = lambda x: x[1] if x[0] == 1 or x[0] == 2 else 0)[1]\n",
    "col_max_idx = bat.index(max(bat, key = lambda x: x[1] if x[0] == 3 or x[0] == 4 else 0))\n",
    "col_max = max(bat, key = lambda x: x[1] if x[0] == 3 or x[0] == 4 else 0)[1]\n",
    "\n",
    "# 인덱스를 기준으로 양옆 변의 길이를 구하여 그 차이를 저장\n",
    "if row_max_idx == 5:\n",
    "    small_row = abs(bat[row_max_idx - 5][1] - bat[row_max_idx - 1][1])\n",
    "else:\n",
    "    small_row = abs(bat[row_max_idx + 1][1] - bat[row_max_idx - 1][1])\n",
    "if col_max_idx == 5:\n",
    "    small_col = abs(bat[col_max_idx - 5][1] - bat[col_max_idx - 1][1])\n",
    "else:\n",
    "    small_col = abs(bat[col_max_idx + 1][1] - bat[col_max_idx - 1][1])\n",
    "\n",
    "# 큰 변을 곱한 큰 사각형의 넓이를 구하고 작은 변을 곱한 작은 사각형을 빼주면댐!\n",
    "print(K * ((row_max * col_max) - (small_row * small_col)))\n",
    "\n"
   ]
  }
 ],
 "metadata": {
  "kernelspec": {
   "display_name": "Python 3",
   "language": "python",
   "name": "python3"
  },
  "language_info": {
   "codemirror_mode": {
    "name": "ipython",
    "version": 3
   },
   "file_extension": ".py",
   "mimetype": "text/x-python",
   "name": "python",
   "nbconvert_exporter": "python",
   "pygments_lexer": "ipython3",
   "version": "3.9.13"
  },
  "orig_nbformat": 4
 },
 "nbformat": 4,
 "nbformat_minor": 2
}
