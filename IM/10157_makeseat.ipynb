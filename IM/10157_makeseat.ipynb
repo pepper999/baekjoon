{
 "cells": [
  {
   "cell_type": "markdown",
   "metadata": {},
   "source": [
    "### 10157 자리배정\n",
    "\n",
    "1. 델타탐색 응용 현재 좌표가 2차원리스트의 끝에 도달하거나, 이미 방문했던 좌표라면 방향을 순서대로 바꿔서 탐색하게 함\n",
    "\n",
    "2. 델타이동을 하면서 좌표를 탐색해나가다가, 이동 횟수가 정해진 K번째가 되면, 코드 종료"
   ]
  },
  {
   "cell_type": "code",
   "execution_count": 25,
   "metadata": {},
   "outputs": [
    {
     "name": "stdout",
     "output_type": "stream",
     "text": [
      "3 4\n"
     ]
    }
   ],
   "source": [
    "import sys\n",
    "\n",
    "C, R = map(int, input().split())\n",
    "K = int(input())\n",
    "if K > C * R:\n",
    "    print(0)\n",
    "    sys.exit()\n",
    "\n",
    "delta = [(1,0), (0,1), (-1,0), (0,-1)]\n",
    "seat = [[0 for _ in range(C)] for _ in range(R)]\n",
    "x, y = 0, 0\n",
    "dir = 0\n",
    "seat[0][0] = 1\n",
    "for i in range(2, K+1):\n",
    "    while True:\n",
    "        nx = x + delta[dir][0]\n",
    "        ny = y + delta[dir][1]\n",
    "        if 0 <= nx < R and 0 <= ny < C and not seat[nx][ny]:\n",
    "            seat[nx][ny] = i\n",
    "            x = nx\n",
    "            y = ny\n",
    "            break\n",
    "        else:\n",
    "            dir = (dir+1) % 4\n",
    "print(y + 1, x + 1)"
   ]
  },
  {
   "cell_type": "code",
   "execution_count": 26,
   "metadata": {},
   "outputs": [
    {
     "name": "stdout",
     "output_type": "stream",
     "text": [
      "[[1, 22, 21, 20, 19, 18, 17],\n",
      " [2, 23, 36, 35, 34, 33, 16],\n",
      " [3, 24, 37, 42, 41, 32, 15],\n",
      " [4, 25, 38, 39, 40, 31, 14],\n",
      " [5, 26, 27, 28, 29, 30, 13],\n",
      " [6, 7, 8, 9, 10, 11, 12]]\n"
     ]
    }
   ],
   "source": [
    "import pprint\n",
    "pprint.pprint(seat)"
   ]
  }
 ],
 "metadata": {
  "kernelspec": {
   "display_name": "Python 3",
   "language": "python",
   "name": "python3"
  },
  "language_info": {
   "codemirror_mode": {
    "name": "ipython",
    "version": 3
   },
   "file_extension": ".py",
   "mimetype": "text/x-python",
   "name": "python",
   "nbconvert_exporter": "python",
   "pygments_lexer": "ipython3",
   "version": "3.9.6"
  },
  "orig_nbformat": 4
 },
 "nbformat": 4,
 "nbformat_minor": 2
}
