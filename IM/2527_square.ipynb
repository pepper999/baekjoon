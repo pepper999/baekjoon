{
 "cells": [
  {
   "cell_type": "markdown",
   "metadata": {},
   "source": [
    "### 2527 직사각형\n",
    "\n",
    "1. 조건문만 잘 정하면 됨...\n",
    "\n",
    "2. 조건문 노가다만 하면 댑니다..."
   ]
  },
  {
   "cell_type": "code",
   "execution_count": null,
   "metadata": {},
   "outputs": [],
   "source": [
    "for _ in range(4):\n",
    "    # 각 사각형 좌표를 받아옴\n",
    "    x, y, p, q, x2, y2, p2, q2 = map(int, input().split())\n",
    "    # 사각형이 서로 떨어져 있는경우(x 좌표가 아예 겹치지 않거나 y 좌표가 겹치지 않는 경우)\n",
    "    if p < x2 or q < y2 or p2 < x or q2 < y:\n",
    "        print('d')\n",
    "    # 각 사각형의 왼쪽 끝과 오른쪽 끝이 맞닿아 있을 떄\n",
    "    elif p == x2 or p2 == x:\n",
    "        # 꼭지점만 맞닿아 있는 경우\n",
    "        if q == y2 or q2 == y:\n",
    "            print('c')\n",
    "        else:\n",
    "            print('b')\n",
    "    # 각 사각형의 위와 아래가 맞닿아 있을 때\n",
    "    elif q == y2 or q2 == y:\n",
    "        print('b')\n",
    "    # 그 외의 모든 경우\n",
    "    else:\n",
    "        print('a')"
   ]
  }
 ],
 "metadata": {
  "kernelspec": {
   "display_name": "Python 3",
   "language": "python",
   "name": "python3"
  },
  "language_info": {
   "codemirror_mode": {
    "name": "ipython",
    "version": 3
   },
   "file_extension": ".py",
   "mimetype": "text/x-python",
   "name": "python",
   "nbconvert_exporter": "python",
   "pygments_lexer": "ipython3",
   "version": "3.9.13"
  },
  "orig_nbformat": 4
 },
 "nbformat": 4,
 "nbformat_minor": 2
}
