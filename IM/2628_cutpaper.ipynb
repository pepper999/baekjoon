{
 "cells": [
  {
   "cell_type": "markdown",
   "metadata": {},
   "source": [
    "### 2628 종이자르기\n",
    "\n",
    "1. 모든 cut 경우의 수에 대해서 탐색!\n",
    "\n",
    "2. max 값 도출"
   ]
  },
  {
   "cell_type": "code",
   "execution_count": 6,
   "metadata": {},
   "outputs": [
    {
     "name": "stdout",
     "output_type": "stream",
     "text": [
      "30\n"
     ]
    }
   ],
   "source": [
    "N, M = map(int, input().split())\n",
    "K = int(input())\n",
    "row_cut = [0]\n",
    "col_cut = [0]\n",
    "for _ in range(K):\n",
    "    dir, cut = map(int, input().split())\n",
    "    if dir == 0:\n",
    "        row_cut.append(cut)\n",
    "    else:\n",
    "        col_cut.append(cut)\n",
    "row_cut.append(M)\n",
    "col_cut.append(N)\n",
    "row_cut.sort()\n",
    "col_cut.sort()\n",
    "max_area = 0\n",
    "for i in range(len(row_cut)-1):\n",
    "    for j in range(len(col_cut)-1):\n",
    "        row = row_cut[i+1] - row_cut[i]\n",
    "        col = col_cut[j+1] - col_cut[j]\n",
    "        max_area = max(row * col, max_area)\n",
    "print(max_area)\n"
   ]
  }
 ],
 "metadata": {
  "kernelspec": {
   "display_name": "Python 3",
   "language": "python",
   "name": "python3"
  },
  "language_info": {
   "codemirror_mode": {
    "name": "ipython",
    "version": 3
   },
   "file_extension": ".py",
   "mimetype": "text/x-python",
   "name": "python",
   "nbconvert_exporter": "python",
   "pygments_lexer": "ipython3",
   "version": "3.9.13"
  },
  "orig_nbformat": 4
 },
 "nbformat": 4,
 "nbformat_minor": 2
}
