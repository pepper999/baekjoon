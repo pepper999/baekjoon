{
 "cells": [
  {
   "cell_type": "markdown",
   "metadata": {},
   "source": [
    "### 2564 경비원\n",
    "\n",
    "1. 원점을 기준으로 오른쪽으로만 계산했을 때 가게와 동근이가 얼마나 떨어져있는지를 계산\n",
    "\n",
    "2. 바꾼 거리를 기준으로 동근이와 가게의 거리 차를 구하면 됨!\n",
    "\n",
    "3. 반대로 가는 경우가 더 가까운 경우가 존재하기 떄문에, 전체 루트 길이 - 거리 차이를 구하여 반대로 가는 경우도 구해서 둘 중 작은 값을 사용하면 됨"
   ]
  },
  {
   "cell_type": "code",
   "execution_count": 8,
   "metadata": {},
   "outputs": [
    {
     "name": "stdout",
     "output_type": "stream",
     "text": [
      "23\n"
     ]
    }
   ],
   "source": [
    "width, height = map(int, input().split())\n",
    "n = int(input().strip())\n",
    "store = list()\n",
    "\n",
    "# 원점을 기준으로 오른쪽으로만 갔을 때 원점과 얼마나 떨어져 있는지를 계산하는 함수 정의\n",
    "def calcDist(dir,dist):\n",
    "    if dir == 1:\n",
    "        return dist\n",
    "    elif dir == 2:\n",
    "        return width + height + (width - dist)\n",
    "    elif dir == 3:\n",
    "        return width + height + width + (height - dist)\n",
    "    else:\n",
    "        return width + dist\n",
    "\n",
    "for i in range(n+1):\n",
    "    if i == n:\n",
    "        direction, distance = map(int,input().split())\n",
    "    else:\n",
    "        store.append(list(map(int, input().split())))\n",
    "\n",
    "#  계산한 기준으로 path1 -> 오른쪽 이동시 거리 path2 -> 왼쪽 이동 시 거리를 둘 다 구함\n",
    "total = 0\n",
    "now_dist = calcDist(direction, distance)\n",
    "for i in range(n):\n",
    "    shop_dist = calcDist(store[i][0], store[i][1])\n",
    "    path1 = abs(now_dist - shop_dist)\n",
    "    path2 = 2 * width + 2 * height - path1\n",
    "    # 두 경로중 가까운 경로를 total 값에 더함\n",
    "    total += min(path1, path2)\n",
    "\n",
    "print(total)"
   ]
  }
 ],
 "metadata": {
  "kernelspec": {
   "display_name": "Python 3",
   "language": "python",
   "name": "python3"
  },
  "language_info": {
   "codemirror_mode": {
    "name": "ipython",
    "version": 3
   },
   "file_extension": ".py",
   "mimetype": "text/x-python",
   "name": "python",
   "nbconvert_exporter": "python",
   "pygments_lexer": "ipython3",
   "version": "3.9.13"
  },
  "orig_nbformat": 4
 },
 "nbformat": 4,
 "nbformat_minor": 2
}
