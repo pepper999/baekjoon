{
 "cells": [
  {
   "cell_type": "markdown",
   "metadata": {},
   "source": [
    "### 2559 수열\n",
    "\n",
    "1. 슬라이딩 윈도우를 만들어서 간단하게 해결 가능\n",
    "\n",
    "2. K번째 까지의 합을 구한뒤, temp_max를 설정한다.\n",
    "\n",
    "3. 한칸 전진할때마다, 맨 앞의 값을 빼고 한 칸뒤의 값을 더해주는 방식으로 진행\n",
    "\n",
    "4. 전진할떄마다 temp_max를 갱신한다음 마지막까지 돌았으면, temp_max print"
   ]
  },
  {
   "cell_type": "code",
   "execution_count": 5,
   "metadata": {},
   "outputs": [
    {
     "name": "stdout",
     "output_type": "stream",
     "text": [
      "31\n"
     ]
    }
   ],
   "source": [
    "N, K = map(int, input().split())\n",
    "\n",
    "temp = list(map(int, input().split()))\n",
    "# 슬라이딩 윈도우 초기값 설정\n",
    "window = sum(temp[:K])\n",
    "# 임시 max 값 설정\n",
    "temp_max = window\n",
    "\n",
    "# 슬라이딩 윈도우가 한칸 씩 전진하면서 임시 max 값 갱신\n",
    "for i in range(N - K):\n",
    "    window -= temp[i]\n",
    "    window += temp[i+K]\n",
    "    if temp_max < window:\n",
    "        temp_max = window\n",
    "\n",
    "# 최종 max 값 반환\n",
    "print(temp_max)"
   ]
  }
 ],
 "metadata": {
  "kernelspec": {
   "display_name": "Python 3",
   "language": "python",
   "name": "python3"
  },
  "language_info": {
   "codemirror_mode": {
    "name": "ipython",
    "version": 3
   },
   "file_extension": ".py",
   "mimetype": "text/x-python",
   "name": "python",
   "nbconvert_exporter": "python",
   "pygments_lexer": "ipython3",
   "version": "3.9.13"
  },
  "orig_nbformat": 4
 },
 "nbformat": 4,
 "nbformat_minor": 2
}
