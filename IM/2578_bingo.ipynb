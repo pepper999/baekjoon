{
 "cells": [
  {
   "cell_type": "markdown",
   "metadata": {},
   "source": [
    "### 2578 빙고"
   ]
  },
  {
   "cell_type": "code",
   "execution_count": 15,
   "metadata": {},
   "outputs": [
    {
     "name": "stdout",
     "output_type": "stream",
     "text": [
      "13\n"
     ]
    }
   ],
   "source": [
    "bingo = [list(map(int, input().split())) for _ in range(5)]\n",
    "target = list(map(int, input().split()))\n",
    "for _ in range(4):\n",
    "    target += list(map(int, input().split()))\n",
    "def check(x, y):\n",
    "    cnt = 0\n",
    "    if sum(bingo[x]) == 0:\n",
    "        cnt += 1\n",
    "    temp_sum = 0\n",
    "    for i in range(5):\n",
    "        temp_sum += bingo[i][y] \n",
    "    if temp_sum == 0:\n",
    "        cnt += 1\n",
    "    if x == y:\n",
    "        temp_sum = 0\n",
    "        for i in range(5):\n",
    "            temp_sum += bingo[i][i]\n",
    "        if temp_sum == 0:\n",
    "            cnt += 1\n",
    "        temp_sum = 0\n",
    "        for i in range(5):\n",
    "            temp_sum += bingo[i][4-i]\n",
    "        if temp_sum == 0:\n",
    "            cnt += 1\n",
    "    return cnt\n",
    "\n",
    "\n",
    "def bingo_game():\n",
    "    cnt = 0\n",
    "    for i in range(25):\n",
    "        for k in range(5):\n",
    "            for l in range(5):\n",
    "                if bingo[k][l] == target[i]:\n",
    "                    bingo[k][l] = 0\n",
    "                    cnt += check(k, l)\n",
    "                    if cnt >= 3:\n",
    "                        return i + 1\n",
    "                    \n",
    "print(bingo_game())"
   ]
  }
 ],
 "metadata": {
  "kernelspec": {
   "display_name": "Python 3",
   "language": "python",
   "name": "python3"
  },
  "language_info": {
   "codemirror_mode": {
    "name": "ipython",
    "version": 3
   },
   "file_extension": ".py",
   "mimetype": "text/x-python",
   "name": "python",
   "nbconvert_exporter": "python",
   "pygments_lexer": "ipython3",
   "version": "3.9.6"
  },
  "orig_nbformat": 4
 },
 "nbformat": 4,
 "nbformat_minor": 2
}
