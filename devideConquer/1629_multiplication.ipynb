{
 "cells": [
  {
   "cell_type": "markdown",
   "metadata": {},
   "source": [
    "### 1629 곱셈\n",
    "\n",
    "1. (AxB)%C = (A%C) * (B%C) % C 나머지 분배 법칙\n",
    "\n",
    "2. 이에 따라, 거듭제곱 모형을 분할하고 분할한다음, 차근차근 나머지를 계산해 나가면 됨!"
   ]
  },
  {
   "cell_type": "code",
   "execution_count": 2,
   "metadata": {},
   "outputs": [
    {
     "name": "stdout",
     "output_type": "stream",
     "text": [
      "4\n"
     ]
    }
   ],
   "source": [
    "A, B, C = map(int, input().split())\n",
    "\n",
    "def devide(A, B, C):\n",
    "    if B == 1:\n",
    "        return A % C\n",
    "    else:\n",
    "        temp = devide(A, B // 2, C)\n",
    "        if B % 2 == 0:\n",
    "            return (temp * temp) % C\n",
    "        else:\n",
    "            return (temp * temp * A) % C\n",
    "\n",
    "print(devide(A, B, C))"
   ]
  }
 ],
 "metadata": {
  "kernelspec": {
   "display_name": "Python 3",
   "language": "python",
   "name": "python3"
  },
  "language_info": {
   "codemirror_mode": {
    "name": "ipython",
    "version": 3
   },
   "file_extension": ".py",
   "mimetype": "text/x-python",
   "name": "python",
   "nbconvert_exporter": "python",
   "pygments_lexer": "ipython3",
   "version": "3.9.6"
  },
  "orig_nbformat": 4
 },
 "nbformat": 4,
 "nbformat_minor": 2
}
