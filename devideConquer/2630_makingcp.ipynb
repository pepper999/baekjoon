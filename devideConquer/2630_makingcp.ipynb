{
 "cells": [
  {
   "cell_type": "markdown",
   "metadata": {},
   "source": [
    "### 2630 색종이 만들기\n",
    "\n",
    "1. 쿼드트리를 만들어서 문제를 해결해나간다.\n",
    "\n",
    "2. 주어진 좌표를 4등분하는 재귀함수를 만들어서 나눌 수 없을 떄 까지 반복한다.\n",
    "\n",
    "3. 만약 모든 좌표의 색이 같을 경우 0이면, 결과 0에 1을 더하고 1이면 결과 1에 1을 더한다."
   ]
  },
  {
   "cell_type": "code",
   "execution_count": null,
   "metadata": {},
   "outputs": [],
   "source": [
    "N = int(input())\n",
    "paper = [list(map(int, input().split())) for _ in range(N)]\n",
    "rlt0 = 0\n",
    "rlt1 = 0\n",
    "\n",
    "# 쿼드트리를 만드는 함수 정의\n",
    "def half_half(x, y, N):\n",
    "    global rlt0, rlt1\n",
    "    # 나눠져있는 종이의 맨 왼쪽 맨 위의 값을 기준으로 색을 비교!\n",
    "    color = paper[x][y]\n",
    "    # 나눠진 종이를 기준으로 모든 값이 같은지를 비교한다.\n",
    "    for i in range(x, x+N):\n",
    "        for j in range(y, y+N):\n",
    "            # 같지 않다면 4등분을 해서 4등분된 종이를 기준으로 계속 반복\n",
    "            if paper[i][j] != color:\n",
    "                half_half(x, y, N // 2)\n",
    "                half_half(x, y + N // 2, N // 2)\n",
    "                half_half(x + N // 2, y, N // 2)\n",
    "                half_half(x + N // 2, y + N // 2, N // 2)\n",
    "                return\n",
    "    # 만약 모든 좌표의 색이 같을 떈, rlt 결과를 더함\n",
    "    if color == 0:\n",
    "        rlt0 += 1\n",
    "    else:\n",
    "        rlt1 += 1\n",
    "\n",
    "# result 값 출력\n",
    "half_half(0, 0, N)\n",
    "print(rlt0, rlt1, sep = '\\n')   "
   ]
  }
 ],
 "metadata": {
  "language_info": {
   "name": "python"
  },
  "orig_nbformat": 4
 },
 "nbformat": 4,
 "nbformat_minor": 2
}
