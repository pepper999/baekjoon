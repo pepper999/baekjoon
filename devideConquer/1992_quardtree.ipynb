{
 "cells": [
  {
   "cell_type": "markdown",
   "metadata": {},
   "source": [
    "### 1992 쿼드트리\n",
    "\n",
    "1. 기본적인 4분할 탐색을 재귀함수로 구현\n",
    "\n",
    "2. 출력 형식을 맞추는게 조금 까다로운데, 분할이 일어날 때마다 왼쪽 소괄호를 출력하고 분할이 끝날 때 오른쪽 소괄호를 출력"
   ]
  },
  {
   "cell_type": "code",
   "execution_count": null,
   "metadata": {},
   "outputs": [],
   "source": [
    "N = int(input())\n",
    "video = [list(map(int, list(input()))) for _ in range(N)]\n",
    "def quardtree(x, y, N):\n",
    "    color = video[x][y]\n",
    "    mid = N//2\n",
    "    for i in range(x, x + N):\n",
    "        for j in range(y, y + N):\n",
    "            if video[i][j] != color:\n",
    "                print('(', end='')\n",
    "                quardtree(x, y, mid)\n",
    "                quardtree(x, y+mid, mid)\n",
    "                quardtree(x+mid, y, mid)\n",
    "                quardtree(x+mid, y+mid, mid)\n",
    "                print(')', end='')\n",
    "                return\n",
    "    if color == 0:\n",
    "        print(0, end='')\n",
    "    else:\n",
    "        print(1, end='')\n",
    "\n",
    "quardtree(0, 0, N)"
   ]
  }
 ],
 "metadata": {
  "language_info": {
   "name": "python"
  },
  "orig_nbformat": 4
 },
 "nbformat": 4,
 "nbformat_minor": 2
}
