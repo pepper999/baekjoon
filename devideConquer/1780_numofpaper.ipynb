{
 "cells": [
  {
   "cell_type": "markdown",
   "metadata": {},
   "source": [
    "### 1780 종이의 개수\n",
    "\n",
    "1. 단순하게 9등분하는 분할정복 함수 정의\n",
    "\n",
    "2. 등분한 종이 내부에 모든 색이 같을 때 까지 9등분실시\n",
    "\n",
    "3. 분할된 각 종이의 색을 나누어서 rlt 1, 2, 3에 저장"
   ]
  },
  {
   "cell_type": "code",
   "execution_count": null,
   "metadata": {},
   "outputs": [],
   "source": [
    "N = int(input())\n",
    "paper = [list(map(int, input().split())) for _ in range(N)]\n",
    "rlt1, rlt2, rlt3 = 0, 0, 0\n",
    "def threetime(x, y, N):\n",
    "    global rlt1, rlt2, rlt3\n",
    "    color = paper[x][y]\n",
    "    for i in range(x, x+N):\n",
    "        for j in range(y, y+N):\n",
    "           # 9분할 재귀함수 정의\n",
    "            if paper[i][j] != color:\n",
    "                # 9분할된 종이에 각각 접근하는 반복문\n",
    "                for k in range(3):\n",
    "                    for l in range(3):\n",
    "                       threetime(x + k * N//3, y + l * N//3, N//3)\n",
    "                return\n",
    "    if color == -1:\n",
    "        rlt1 += 1\n",
    "    elif color == 0:\n",
    "        rlt2 += 1\n",
    "    else:\n",
    "        rlt3 += 1\n",
    "\n",
    "threetime(0,0,N)\n",
    "print(rlt1, rlt2, rlt3, sep = '\\n')"
   ]
  }
 ],
 "metadata": {
  "kernelspec": {
   "display_name": "Python 3",
   "language": "python",
   "name": "python3"
  },
  "language_info": {
   "codemirror_mode": {
    "name": "ipython",
    "version": 3
   },
   "file_extension": ".py",
   "mimetype": "text/x-python",
   "name": "python",
   "nbconvert_exporter": "python",
   "pygments_lexer": "ipython3",
   "version": "3.9.13"
  },
  "orig_nbformat": 4
 },
 "nbformat": 4,
 "nbformat_minor": 2
}
