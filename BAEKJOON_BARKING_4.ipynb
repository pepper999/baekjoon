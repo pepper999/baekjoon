{
 "cells": [
  {
   "cell_type": "markdown",
   "metadata": {},
   "source": [
    "# 바킹독 0x04 연결 리스트"
   ]
  },
  {
   "cell_type": "markdown",
   "metadata": {},
   "source": [
    "### 1158 요세푸스 문제\n"
   ]
  },
  {
   "cell_type": "markdown",
   "metadata": {},
   "source": [
    "1. 주어진 N 길이로 Node 를 연결\n",
    "  \n",
    "2. N 번쨰 Node 와 head 를 연결하여 순환리스트 형성\n",
    "3. K-1 번째 노드의 next값을 print + next.next값을 연결함\n",
    "4. N번 반복"
   ]
  },
  {
   "cell_type": "code",
   "execution_count": 33,
   "metadata": {},
   "outputs": [
    {
     "name": "stdout",
     "output_type": "stream",
     "text": [
      "<3, 6, 2, 7, 5, 1, 4>\n"
     ]
    }
   ],
   "source": [
    "class Node:\n",
    "    def __init__(self, data, next = None):\n",
    "        self.data = data\n",
    "        self.next = next\n",
    "\n",
    "\n",
    "N, K = map(int, input().split())\n",
    "\n",
    "head = Node(1)\n",
    "node = head\n",
    "\n",
    "for i in range(1, N):\n",
    "    while node:\n",
    "        if node.next is None:\n",
    "            node.next = Node(i+1)\n",
    "            break\n",
    "        node = node.next\n",
    "\n",
    "node = head\n",
    "\n",
    "while node:\n",
    "    if node.next is None:\n",
    "        node.next = head\n",
    "        break\n",
    "    node = node.next\n",
    "\n",
    "ls = []\n",
    "\n",
    "for i in range(N):\n",
    "    for j in range(K-1):\n",
    "        node = node.next\n",
    "    ls.append(str(node.next.data))\n",
    "    node.next = node.next.next\n",
    "\n",
    "print('<', end = '')\n",
    "print(', '.join(ls), end = '')\n",
    "print('>')\n",
    "    \n"
   ]
  },
  {
   "cell_type": "markdown",
   "metadata": {},
   "source": [
    "### 에디터"
   ]
  },
  {
   "cell_type": "markdown",
   "metadata": {},
   "source": []
  },
  {
   "cell_type": "code",
   "execution_count": 2,
   "metadata": {},
   "outputs": [],
   "source": [
    "class Node:\n",
    "    def __init__(self, data, next = None, prev = None):\n",
    "        self.data = data\n",
    "        self.next = next\n",
    "        self.prev = prev\n",
    "\n",
    "string = list(input())\n",
    "\n",
    "head = Node(0)\n",
    "node = head\n",
    "temp = head\n",
    "\n",
    "for i in range(len(string)):\n",
    "    while node:        \n",
    "        if node.next is None:\n",
    "            new_node = Node(string[i])\n",
    "            node.next = new_node\n",
    "            new_node.prev = node\n",
    "            tail = new_node\n",
    "            break\n",
    "        node = node.next\n",
    "\n",
    "node = tail\n",
    "\n",
    "M = int(input())\n",
    "for i in range(M):\n",
    "    ip = input().split()\n",
    "    if ip == 'L' and node.prev is not None:\n",
    "        node = node.prev\n",
    "    if ip == 'D' and node.next is not None:\n",
    "        node = node.next\n",
    "    if ip == 'B' and node.prev is not None:\n",
    "        node.prev = node.prev.prev\n",
    "    if ip[0] == 'P' and node.next is not None:\n",
    "        new_node = Node(ip[1])\n",
    "        new_node.next = node.next\n",
    "        new_node.prev = node\n",
    "        node.next = new_node\n",
    "        node = new_node\n",
    "    if ip[0] == 'P' and node.next is None:\n",
    "        new_node = Node(ip[1])\n",
    "        new_node.prev = node\n",
    "        node.next = new_node\n",
    "        node = new_node\n",
    "\n",
    "node = head.next\n",
    "while node.next != None:\n",
    "    print(node.data)\n",
    "    node = node.next\n",
    "        \n",
    "        \n",
    "\n",
    "\n",
    "\n",
    "\n",
    "        "
   ]
  }
 ],
 "metadata": {
  "kernelspec": {
   "display_name": "Python 3",
   "language": "python",
   "name": "python3"
  },
  "language_info": {
   "codemirror_mode": {
    "name": "ipython",
    "version": 3
   },
   "file_extension": ".py",
   "mimetype": "text/x-python",
   "name": "python",
   "nbconvert_exporter": "python",
   "pygments_lexer": "ipython3",
   "version": "3.9.13"
  },
  "orig_nbformat": 4
 },
 "nbformat": 4,
 "nbformat_minor": 2
}
