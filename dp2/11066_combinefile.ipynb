{
 "cells": [
  {
   "cell_type": "markdown",
   "metadata": {},
   "source": [
    "### 11066 파일 합치기"
   ]
  },
  {
   "cell_type": "code",
   "execution_count": 8,
   "metadata": {},
   "outputs": [
    {
     "name": "stdout",
     "output_type": "stream",
     "text": [
      "300\n",
      "864\n"
     ]
    }
   ],
   "source": [
    "T = int(input())\n",
    "for _ in range(T):\n",
    "    K = int(input())\n",
    "    novel = list(map(int, input().split()))\n",
    "    prefix = [0] * (K + 1)\n",
    "    for i in range(1, K+1):\n",
    "       prefix[i] = prefix[i-1] + novel[i-1]\n",
    "    dp = [[0 for _ in range(K+1)] for _ in range(K+1)]\n",
    "    for i in range(2, K+1):\n",
    "        for j in range(1, K+2-i):\n",
    "            dp[j][j+i-1] = min([dp[j][j+k] + dp[j+k+1][j+i-1] for k in range(i-1)]) + (prefix[j+i-1] - prefix[j-1])\n",
    "    print(dp[1][-1])"
   ]
  }
 ],
 "metadata": {
  "kernelspec": {
   "display_name": "Python 3",
   "language": "python",
   "name": "python3"
  },
  "language_info": {
   "codemirror_mode": {
    "name": "ipython",
    "version": 3
   },
   "file_extension": ".py",
   "mimetype": "text/x-python",
   "name": "python",
   "nbconvert_exporter": "python",
   "pygments_lexer": "ipython3",
   "version": "3.9.13"
  },
  "orig_nbformat": 4
 },
 "nbformat": 4,
 "nbformat_minor": 2
}
