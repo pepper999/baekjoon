{
 "cells": [
  {
   "cell_type": "markdown",
   "metadata": {},
   "source": [
    "### 11066 파일 합치기"
   ]
  },
  {
   "cell_type": "code",
   "execution_count": 7,
   "metadata": {},
   "outputs": [
    {
     "name": "stdout",
     "output_type": "stream",
     "text": [
      "300\n",
      "864\n"
     ]
    }
   ],
   "source": [
    "def dp(start, end):\n",
    "    if dinamic[start][end] != -1:\n",
    "        return dinamic[start][end]\n",
    "    if start == end:\n",
    "        return 0\n",
    "    temp_min = float('inf')\n",
    "    temp_sum = sum(nums[start:end+1])\n",
    "    for i in range(start, end):\n",
    "        temp = dp(start, i) + dp(i+1, end) + temp_sum\n",
    "        temp_min = min(temp_min, temp)\n",
    "        dinamic[start][end] = temp_min\n",
    "    return temp_min\n",
    "\n",
    "T = int(input())\n",
    "for t in range(T):\n",
    "    K = int(input())\n",
    "    nums = list(map(int, input().split()))\n",
    "    dinamic = [[-1 for _ in range(K+1)] for _ in range(K+1)]\n",
    "    print(dp(0, K-1))"
   ]
  }
 ],
 "metadata": {
  "kernelspec": {
   "display_name": "Python 3",
   "language": "python",
   "name": "python3"
  },
  "language_info": {
   "codemirror_mode": {
    "name": "ipython",
    "version": 3
   },
   "file_extension": ".py",
   "mimetype": "text/x-python",
   "name": "python",
   "nbconvert_exporter": "python",
   "pygments_lexer": "ipython3",
   "version": "3.9.13"
  },
  "orig_nbformat": 4
 },
 "nbformat": 4,
 "nbformat_minor": 2
}
