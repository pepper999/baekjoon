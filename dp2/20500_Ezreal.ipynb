{
 "cells": [
  {
   "cell_type": "markdown",
   "metadata": {},
   "source": [
    "### 20500 Ezreal 여눈부터 가네 ㅈㅈ\n",
    "\n",
    "1. DP로 해서 풀면댐\n",
    "\n",
    "2. 점화식 찾으면 댐 ( DP[i-1] + 2 * DP[i-2] )\n",
    "\n",
    "3. product로 중복을 허용한 모든 숫자들의 product를 구해서, 조건에 맞는 수의 숫자를 찾아서 검사하면서 점화식을 찾음"
   ]
  },
  {
   "cell_type": "code",
   "execution_count": null,
   "metadata": {},
   "outputs": [],
   "source": [
    "N = int(input())\n",
    "DP = [0] * (N+1)\n",
    "if N == 1:\n",
    "    print(0)\n",
    "elif N <= 3:\n",
    "    print(1)\n",
    "else:\n",
    "    DP[2] = 1\n",
    "    DP[3] = 1\n",
    "    # 점화식 적용\n",
    "    for i in range(4, N+1):\n",
    "        DP[i] = (DP[i-1] + 2 * DP[i-2]) % 1000000007\n",
    "    print(DP[N])"
   ]
  },
  {
   "cell_type": "code",
   "execution_count": null,
   "metadata": {},
   "outputs": [],
   "source": [
    "# 점화식을 찾기 위해서 직접 모든 겨웅의 수를 구해봄\n",
    "import itertools\n",
    "\n",
    "for i in range(2, 150):\n",
    "    rlt = list(itertools.product((1,5), repeat=i))\n",
    "    cnt = 0\n",
    "    for nums in rlt:\n",
    "        temp_num = int(''.join(map(str, nums)))\n",
    "        if temp_num % 15 == 0:\n",
    "            cnt += 1\n",
    "    print(cnt)"
   ]
  }
 ],
 "metadata": {
  "kernelspec": {
   "display_name": "Python 3",
   "language": "python",
   "name": "python3"
  },
  "language_info": {
   "codemirror_mode": {
    "name": "ipython",
    "version": 3
   },
   "file_extension": ".py",
   "mimetype": "text/x-python",
   "name": "python",
   "nbconvert_exporter": "python",
   "pygments_lexer": "ipython3",
   "version": "3.9.13"
  },
  "orig_nbformat": 4
 },
 "nbformat": 4,
 "nbformat_minor": 2
}
