{
 "cells": [
  {
   "cell_type": "markdown",
   "metadata": {},
   "source": [
    "### 1520 내리막 길\n",
    "\n",
    "1. DP + DFS 로 해결이 가능함!(바텀업 방식)\n",
    "\n",
    "2. 어짜피 특정 좌표에서 도착점으로 갈 수 있는 방법의 수는 중간지점까지 가는 경우의 수 * 중간지점부터 도착점까지 가는 경우의 수\n",
    "\n",
    "3. visited 행렬을 DP로 사용하여, 각 좌표까지 가는 경우의 수의 갯수를 기록\n",
    "\n",
    "4. visited 를 하지 않은 곳은 1을 기록하면서 가고, 이미 기록되어있던 곳은 그곳까지 갈 수 있는 경우의 수를 더해준다.\n",
    "\n",
    "5. 꼭 끝까지 DFS를 매번 돌리지 않더라도, 이러한 방식으로 끝까지가는 경우의 수 탐색 가능"
   ]
  },
  {
   "cell_type": "code",
   "execution_count": 9,
   "metadata": {},
   "outputs": [
    {
     "name": "stdout",
     "output_type": "stream",
     "text": [
      "5\n"
     ]
    }
   ],
   "source": [
    "delta = [(1,0), (0,1), (-1,0), (0,-1)]\n",
    "\n",
    "M, N = map(int, input().split())\n",
    "route = [list(map(int, input().split())) for _ in range(M)]\n",
    "visited = [[-1 for _ in range(N)] for _ in range(M)]\n",
    "\n",
    "# dfs 정의\n",
    "def dfs(x, y):\n",
    "    # 만약 마지막까지 갔다면, 경우의 수 1 추가\n",
    "    if x == M-1 and y == N-1:\n",
    "        return 1\n",
    "    # visited 행렬이 초기값이 아니라면, 이전에 끝까지 갈 수 있었던 루트이기 때문에, 경우의 수를 더해주기 위해 visited[x][y] 를 반환\n",
    "    if visited[x][y] != -1:\n",
    "        return visited[x][y]\n",
    "    rlt = 0\n",
    "    # 델타 탐색\n",
    "    for i in range(4):\n",
    "        nx = x + delta[i][0]\n",
    "        ny = y + delta[i][1]\n",
    "        if 0 <= nx < M and 0 <= ny < N and route[x][y] > route[nx][ny]:\n",
    "            rlt += dfs(nx, ny)\n",
    "    # 현재 위치에서 델타 탐색을 모두 거쳐서 더해진 경우의 수를 현재 좌표에 탐색(이를테면 아랫쪽에 끝까지 갈 수 있는 경우의 수 2, 오른쪽에 3이라면, 현재 좌표에서 갈 수 있는 경우의 수 5)\n",
    "    visited[x][y] = rlt\n",
    "    # 결과값 반환\n",
    "    return visited[x][y]\n",
    "print(dfs(0, 0))"
   ]
  }
 ],
 "metadata": {
  "kernelspec": {
   "display_name": "Python 3",
   "language": "python",
   "name": "python3"
  },
  "language_info": {
   "codemirror_mode": {
    "name": "ipython",
    "version": 3
   },
   "file_extension": ".py",
   "mimetype": "text/x-python",
   "name": "python",
   "nbconvert_exporter": "python",
   "pygments_lexer": "ipython3",
   "version": "3.9.13"
  },
  "orig_nbformat": 4
 },
 "nbformat": 4,
 "nbformat_minor": 2
}
