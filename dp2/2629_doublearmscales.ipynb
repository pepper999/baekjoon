{
 "cells": [
  {
   "cell_type": "markdown",
   "metadata": {},
   "source": [
    "### 2629 양팔저울"
   ]
  },
  {
   "cell_type": "code",
   "execution_count": null,
   "metadata": {},
   "outputs": [],
   "source": [
    "N_chu = int(input())\n",
    "chu = list(map(int, input().split()))\n",
    "N_ball = int(input())\n",
    "ball = list(map(int, input().split()))\n",
    "for i in range(N_ball):\n",
    "    dp = [[0 for _ in range(ball[i]+1)] for _ in range(N_chu)]\n",
    "    for j in range(1, N_chu+1):\n",
    "        for k in range(ball[i]+1):\n",
    "            if k < chu[i]:\n",
    "                dp[j][k] = dp[j-1][k]\n",
    "            elif k > chu[i]:\n",
    "                dp[j][k] = max[]\n",
    "\n"
   ]
  }
 ],
 "metadata": {
  "language_info": {
   "name": "python"
  },
  "orig_nbformat": 4
 },
 "nbformat": 4,
 "nbformat_minor": 2
}
