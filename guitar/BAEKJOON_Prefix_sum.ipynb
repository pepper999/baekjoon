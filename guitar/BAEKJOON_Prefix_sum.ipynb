{
 "cells": [
  {
   "cell_type": "markdown",
   "metadata": {},
   "source": [
    "# 누적 합"
   ]
  },
  {
   "cell_type": "markdown",
   "metadata": {},
   "source": [
    "### 2559 수열\n",
    "\n",
    "1. 간단한 누적합을 통해서 계산 가능!\n",
    "\n",
    "2. 누적합 리스트에서 i - j 구간합을 구하고 싶다면, list[j] - list[i-1] 을 구하면 된다."
   ]
  },
  {
   "cell_type": "code",
   "execution_count": 14,
   "metadata": {},
   "outputs": [
    {
     "name": "stdout",
     "output_type": "stream",
     "text": [
      "0\n"
     ]
    }
   ],
   "source": [
    "import sys\n",
    "input = sys.stdin.readline\n",
    "\n",
    "N, K = map(int, input().split())\n",
    "num = list(map(int, input().split()))\n",
    "c_num = [0]\n",
    "for i in range(1, N+1):\n",
    "    c_num.append(num[i-1] + c_num[i-1])\n",
    "temp_max = float('-inf')\n",
    "for i in range(K, N+1):\n",
    "    if temp_max < c_num[i] - c_num[i-K]:\n",
    "        temp_max = c_num[i] - c_num[i-K]\n",
    "print(temp_max)"
   ]
  },
  {
   "cell_type": "markdown",
   "metadata": {},
   "source": [
    "### 16139 인간-컴퓨터 상호작용\n",
    "\n",
    "1. 각 알파벳의 갯수를 누적합으로 2차원 리스트에 저장\n",
    "\n",
    "2. sys.stdin.readline 에 strip 을 안해서 계속 index error 가 나왔다.. ㅠ"
   ]
  },
  {
   "cell_type": "code",
   "execution_count": null,
   "metadata": {},
   "outputs": [],
   "source": [
    "import sys\n",
    "input = sys.stdin.readline\n",
    "\n",
    "S = list(input().strip())\n",
    "q = int(input().strip())\n",
    "# 각 좌표에서의 알파벳 갯수 누적합 리스트 생성\n",
    "cnt = [[0]*26]\n",
    "# 각 좌표에서 그 전 좌표의 알파벳 누적합을 받아서 계속 누적합 갱신\n",
    "for i in range(len(S)):\n",
    "    cnt.append(cnt[i][:])\n",
    "    cnt[i+1][ord(S[i]) - 97] += 1\n",
    "# \n",
    "for i in range(q):\n",
    "    a, l, r = input().strip().split()\n",
    "    l, r = int(l), int(r)\n",
    "    print(cnt[r+1][ord(a) - 97] - cnt[l][ord(a) - 97])"
   ]
  },
  {
   "cell_type": "markdown",
   "metadata": {},
   "source": [
    "### 25682 체스판 다시 칠하기\n",
    "\n",
    "1. 2차원 리스트의 누적합을 계산(맨 위쪽 맨 왼쪽 칸이 검정인 경우와 흰색인 경우에 다시 칠하는 횟수)\n",
    "\n",
    "2. 누적합은 (흰색인 경우 칠하는 누적합, 검정색인 경우 칠하는 누적합)으로 계산\n",
    "\n",
    "3. 모든 값을 비교하여 최솟값 출력"
   ]
  },
  {
   "cell_type": "code",
   "execution_count": null,
   "metadata": {},
   "outputs": [],
   "source": [
    "N, M, K = map(int, input().split())\n",
    "board = []\n",
    "for i in range(N):\n",
    "    board.append(list(input()))\n",
    "sum_board = [[[0,0] for _ in range(M+1)] for _ in range(N+1)]\n",
    "for i in range(1, N+1):\n",
    "    for j in range(1, M+1):\n",
    "        if ((i-1) + (j-1)) % 2 == 0:\n",
    "            if board[i-1][j-1] == 'B':\n",
    "                sum_board[i][j][0] += 1 + sum_board[i-1][j][0] + sum_board[i][j-1][0] - sum_board[i-1][j-1][0]\n",
    "                sum_board[i][j][1] += sum_board[i-1][j][1] + sum_board[i][j-1][1] - sum_board[i-1][j-1][1]\n",
    "            else:\n",
    "                sum_board[i][j][1] += 1 + sum_board[i-1][j][1] + sum_board[i][j-1][1] - sum_board[i-1][j-1][1]\n",
    "                sum_board[i][j][0] += sum_board[i-1][j][0] + sum_board[i][j-1][0] - sum_board[i-1][j-1][0]\n",
    "        else:\n",
    "            if board[i-1][j-1] == 'W':\n",
    "                sum_board[i][j][0] += 1 + sum_board[i-1][j][0] + sum_board[i][j-1][0] - sum_board[i-1][j-1][0]\n",
    "                sum_board[i][j][1] += sum_board[i-1][j][1] + sum_board[i][j-1][1] - sum_board[i-1][j-1][1]\n",
    "            else:\n",
    "                sum_board[i][j][1] += 1 + sum_board[i-1][j][1] + sum_board[i][j-1][1] - sum_board[i-1][j-1][1]\n",
    "                sum_board[i][j][0] += sum_board[i-1][j][0] + sum_board[i][j-1][0] - sum_board[i-1][j-1][0]\n",
    "min_cnt = float(\"inf\")\n",
    "for i in range(N-K+1):\n",
    "    for j in range(M-K+1):\n",
    "        w_sum = sum_board[i+K][j+K][0] - sum_board[i][j+K][0] - sum_board[i+K][j][0] + sum_board[i][j][0]\n",
    "        b_sum = sum_board[i+K][j+K][1] - sum_board[i][j+K][1] - sum_board[i+K][j][1] + sum_board[i][j][1]\n",
    "        if min(w_sum, b_sum) < min_cnt:\n",
    "            min_cnt = min(w_sum, b_sum)\n",
    "print(min_cnt)"
   ]
  }
 ],
 "metadata": {
  "kernelspec": {
   "display_name": "Python 3",
   "language": "python",
   "name": "python3"
  },
  "language_info": {
   "codemirror_mode": {
    "name": "ipython",
    "version": 3
   },
   "file_extension": ".py",
   "mimetype": "text/x-python",
   "name": "python",
   "nbconvert_exporter": "python",
   "pygments_lexer": "ipython3",
   "version": "3.10.8"
  },
  "orig_nbformat": 4
 },
 "nbformat": 4,
 "nbformat_minor": 2
}
