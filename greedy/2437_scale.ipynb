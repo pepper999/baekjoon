{
 "cells": [
  {
   "cell_type": "markdown",
   "metadata": {},
   "source": [
    "### 2437 scale\n",
    "\n",
    "1. 추를 무게순으로 정렬한다.\n",
    "\n",
    "2. 추들을 검사를 하면서, 간다\n",
    "\n",
    "3. 이번추까지 더한 값이 다음번 추의 무게보다 가볍다면, 중간에 비는 값이 있다는 뜻이므로, 바로 현재 더한 값 + 1 을 답으로 출력하면 됨!"
   ]
  },
  {
   "cell_type": "code",
   "execution_count": 7,
   "metadata": {},
   "outputs": [
    {
     "name": "stdout",
     "output_type": "stream",
     "text": [
      "35\n"
     ]
    }
   ],
   "source": [
    "def min_weights(arr):\n",
    "    arr.sort()  \n",
    "    current_weight = 0  \n",
    "\n",
    "    for weight in arr:\n",
    "        if weight > current_weight + 1:\n",
    "            break\n",
    "        current_weight += weight\n",
    "\n",
    "    return current_weight + 1  \n",
    "\n",
    "n = int(input())\n",
    "weights = list(map(int, input().split()))\n",
    "print(min_weights(weights))"
   ]
  }
 ],
 "metadata": {
  "kernelspec": {
   "display_name": "Python 3",
   "language": "python",
   "name": "python3"
  },
  "language_info": {
   "codemirror_mode": {
    "name": "ipython",
    "version": 3
   },
   "file_extension": ".py",
   "mimetype": "text/x-python",
   "name": "python",
   "nbconvert_exporter": "python",
   "pygments_lexer": "ipython3",
   "version": "3.9.13"
  },
  "orig_nbformat": 4
 },
 "nbformat": 4,
 "nbformat_minor": 2
}
