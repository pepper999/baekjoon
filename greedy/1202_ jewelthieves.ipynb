{
 "cells": [
  {
   "cell_type": "markdown",
   "metadata": {},
   "source": [
    "### 1202 보석 도둑\n",
    "\n",
    "1. heap 을 이용하면 굉장히 빠르게 정렬가능\n",
    "\n",
    "2. 보석이 무게순으로 정렬된 heap을 하나 만듦\n",
    "\n",
    "3. 가방을 무게순으로 정렬\n",
    "\n",
    "4. heap의 보석을 무게가 작은순으로 순회를 돌면서 가방에 들어가지 못하는 보석이 나올떄까지 heappop\n",
    "\n",
    "5. 위의 pop한 원소를 가치가 큰순으로 정렬하는 heap 에 push\n",
    "\n",
    "6. 두번째 heap 상에서 가치가 가장 큰 원소를 pop 해서 ans 에 더함"
   ]
  },
  {
   "cell_type": "code",
   "execution_count": null,
   "metadata": {},
   "outputs": [],
   "source": [
    "import heapq\n",
    "\n",
    "N, K = map(int, input().split())\n",
    "jewels = []\n",
    "jewels_2 = []\n",
    "bags = []\n",
    "ans = 0\n",
    "# 보석을 무게순으로 정렬시키는 heap 생성\n",
    "for _ in range(N):\n",
    "    heapq.heappush(jewels, list(map(int, input().split())))\n",
    "for _ in range(K):\n",
    "    bags.append(int(input()))\n",
    "# 가방도 무게순으로 정렬\n",
    "bags.sort()\n",
    "\n",
    "# 가방 리스트의 각 가방을 순회하면서\n",
    "for bag in bags:\n",
    "    # heap 내에서 가방에 담을 수 없는 보석이 나올 떄 까지 반복\n",
    "    while jewels and jewels[0][0] <= bag:\n",
    "        # heap 원소를 가치를 내림차순으로 정렬하는 heap 에 pop\n",
    "        heapq.heappush(jewels_2, -heapq.heappop(jewels)[1])\n",
    "    # 가치 heap 에 원소가 있으면, 현재 가방에 담을 수 있는 보석이 있다는 뜻\n",
    "    if jewels_2:\n",
    "        # 가치를 음수로 저장했기 떄문에 결과 변수에 - 해줌\n",
    "        ans -= heapq.heappop(jewels_2)\n",
    "    elif not jewels:\n",
    "        break\n",
    "\n",
    "print(ans)"
   ]
  }
 ],
 "metadata": {
  "kernelspec": {
   "display_name": "Python 3",
   "language": "python",
   "name": "python3"
  },
  "language_info": {
   "codemirror_mode": {
    "name": "ipython",
    "version": 3
   },
   "file_extension": ".py",
   "mimetype": "text/x-python",
   "name": "python",
   "nbconvert_exporter": "python",
   "pygments_lexer": "ipython3",
   "version": "3.9.13"
  },
  "orig_nbformat": 4
 },
 "nbformat": 4,
 "nbformat_minor": 2
}
