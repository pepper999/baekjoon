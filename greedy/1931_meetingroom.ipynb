{
 "cells": [
  {
   "cell_type": "markdown",
   "metadata": {},
   "source": [
    "### 1931 회의실 배정\n",
    "\n",
    "1. 끝나는 시간이 일찍일수록 무조건 더 많은 회의를 할 수 있다는 점을 활용\n",
    "\n",
    "2. 끝나는 시간을 기준으로 회의일정을 정렬하여, 앞에서부터 탐색\n",
    "\n",
    "3. 이전 회의가 끝나는 시간과 같거나 더 뒤에있는 시작지점을 계속 추가해나가면 됨\n",
    "\n",
    "4. 끝나는 시간이 같은 두 회의의 경우 시작하는 시간을 기준으로 정렬을 시켜줘야 88 과 같이 시작과 끝이 같은 회의를 인식할 수 있음!"
   ]
  },
  {
   "cell_type": "code",
   "execution_count": 7,
   "metadata": {},
   "outputs": [
    {
     "name": "stdout",
     "output_type": "stream",
     "text": [
      "11\n"
     ]
    }
   ],
   "source": [
    "N = int(input())\n",
    "\n",
    "meeting = [list(map(int, input().split())) for _ in range(N)]\n",
    "# 14 88 48 과 같은 쌍의 경우, 시작점으로 먼저 한번 sort를 해야 14 48 88 로 정렬이 되기 때문에, 결과값이 3으로 정상적으로 출력됨\n",
    "meeting.sort()\n",
    "# 종료시점으로 정렬\n",
    "meeting.sort(key = lambda x : x[1])\n",
    "# 맨 앞은 가장 일찍 끝나는 회의이기 때문에, 무조건 결과값에 포함\n",
    "select = [meeting[0]]\n",
    "# list를 처음부터 끝까지 돌면서, 이전에 추가한 회의의 종료시점보다 같거나 이후시점의 회의를 탐색\n",
    "for i in range(1, len(meeting)):\n",
    "    # 가장 최근에 추가한 회의를 기준으로 함\n",
    "    if select[-1][1] <= meeting[i][0]:\n",
    "        select.append(meeting[i])\n",
    "# 모든 회의 일정의 길이를 return\n",
    "print(len(select))"
   ]
  }
 ],
 "metadata": {
  "kernelspec": {
   "display_name": "Python 3",
   "language": "python",
   "name": "python3"
  },
  "language_info": {
   "codemirror_mode": {
    "name": "ipython",
    "version": 3
   },
   "file_extension": ".py",
   "mimetype": "text/x-python",
   "name": "python",
   "nbconvert_exporter": "python",
   "pygments_lexer": "ipython3",
   "version": "3.9.13"
  },
  "orig_nbformat": 4
 },
 "nbformat": 4,
 "nbformat_minor": 2
}
