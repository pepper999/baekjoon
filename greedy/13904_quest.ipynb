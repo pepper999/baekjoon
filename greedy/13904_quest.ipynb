{
 "cells": [
  {
   "cell_type": "markdown",
   "metadata": {},
   "source": [
    "### 13904 과제\n",
    "\n",
    "1. heapq 를 사용한 간단한 일정조율 문제\n",
    "\n",
    "2. 종료시간을 오름차순 이익을 내림차순으로 정렬\n",
    "\n",
    "3. heapq에 순서대로 과제를 push한다.\n",
    "\n",
    "4. 만약에, 과제의 종료시점보다 heap의 길이가 길다면 해당과제를 할 수 없다는 뜻이기 때문에 이때까지 했던 과제 중 가장 이익이 적은걸 pop"
   ]
  },
  {
   "cell_type": "code",
   "execution_count": null,
   "metadata": {},
   "outputs": [],
   "source": [
    "import heapq\n",
    "\n",
    "N = int(input())\n",
    "quests = [list(map(int, input().split())) for _ in range(N)]\n",
    "quests.sort(key = lambda x: (x[0], -x[1]))\n",
    "hq = []\n",
    "for i in range(N):\n",
    "    heapq.heappush(hq, quests[i][1])\n",
    "    if len(hq) > quests[i][0]:\n",
    "        heapq.heappop(hq)\n",
    "print(sum(hq))"
   ]
  }
 ],
 "metadata": {
  "kernelspec": {
   "display_name": "Python 3",
   "language": "python",
   "name": "python3"
  },
  "language_info": {
   "codemirror_mode": {
    "name": "ipython",
    "version": 3
   },
   "file_extension": ".py",
   "mimetype": "text/x-python",
   "name": "python",
   "nbconvert_exporter": "python",
   "pygments_lexer": "ipython3",
   "version": "3.9.13"
  },
  "orig_nbformat": 4
 },
 "nbformat": 4,
 "nbformat_minor": 2
}
