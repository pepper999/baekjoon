{
 "cells": [
  {
   "cell_type": "markdown",
   "metadata": {},
   "source": [
    "### 1781 컵라면\n",
    "\n",
    "1. heapq 를 사용하여 문제 해결이 가능!\n",
    "\n",
    "2. 종료시간순으로 오름차순으로 각 과제를 정렬\n",
    "\n",
    "3. 같은 종료시간은 컵라면이 많은 순으로 정렬\n",
    "\n",
    "4. 과제리스트를 순서대로 순회하면서 heap에 집어넣음\n",
    "\n",
    "5. 만약, 과제 데드라인보다 heap의 길이가 더 길면, 할 수 있는 과제보다 더 많다는 뜻이기 때문에, heap의 최솟값 pop"
   ]
  },
  {
   "cell_type": "code",
   "execution_count": 3,
   "metadata": {},
   "outputs": [
    {
     "name": "stdout",
     "output_type": "stream",
     "text": [
      "150\n"
     ]
    }
   ],
   "source": [
    "import sys\n",
    "input = sys.stdin.readline\n",
    "\n",
    "import heapq\n",
    "\n",
    "N = int(input())\n",
    "quest = [list(map(int, input().split())) for _ in range(N)]\n",
    "quest.sort(key = lambda x:(x[0], -x[1]))\n",
    "hq = []\n",
    "for i in range(N):\n",
    "    heapq.heappush(hq, quest[i][1])\n",
    "    if quest[i][0] < len(hq):\n",
    "        heapq.heappop(hq)\n",
    "print(sum(hq))"
   ]
  }
 ],
 "metadata": {
  "kernelspec": {
   "display_name": "Python 3",
   "language": "python",
   "name": "python3"
  },
  "language_info": {
   "codemirror_mode": {
    "name": "ipython",
    "version": 3
   },
   "file_extension": ".py",
   "mimetype": "text/x-python",
   "name": "python",
   "nbconvert_exporter": "python",
   "pygments_lexer": "ipython3",
   "version": "3.9.13"
  },
  "orig_nbformat": 4
 },
 "nbformat": 4,
 "nbformat_minor": 2
}
