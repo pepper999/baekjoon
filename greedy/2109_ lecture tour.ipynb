{
 "cells": [
  {
   "cell_type": "markdown",
   "metadata": {},
   "source": [
    "### 2109 순회강연\n",
    "\n",
    "1. 각 강연을 종료 날짜에 따라 정렬함\n",
    "\n",
    "2. 각 강연을 순서대로 heap에 넣음\n",
    "\n",
    "3. 넣다가 총 강연의 숫자가 해당 강연이 마감일을 지났다면 heap에 있는 강연들 중 가장 작은 값을 pop함\n",
    "\n",
    "4. 끝까지 순회한 후, heap의 모든 값을 더함"
   ]
  },
  {
   "cell_type": "code",
   "execution_count": 5,
   "metadata": {},
   "outputs": [
    {
     "name": "stdout",
     "output_type": "stream",
     "text": [
      "185\n"
     ]
    }
   ],
   "source": [
    "import sys\n",
    "input = sys.stdin.readline\n",
    "import heapq\n",
    "\n",
    "N = int(input())\n",
    "lectures = [list(map(int, input().split())) for _ in range(N)]\n",
    "lectures.sort(key= lambda x:x[1])\n",
    "hq = []\n",
    "for lecture in lectures:\n",
    "    heapq.heappush(hq, lecture[0])\n",
    "    if len(hq) > lecture[1]:\n",
    "        heapq.heappop(hq)\n",
    "print(sum(hq))"
   ]
  }
 ],
 "metadata": {
  "kernelspec": {
   "display_name": "Python 3",
   "language": "python",
   "name": "python3"
  },
  "language_info": {
   "codemirror_mode": {
    "name": "ipython",
    "version": 3
   },
   "file_extension": ".py",
   "mimetype": "text/x-python",
   "name": "python",
   "nbconvert_exporter": "python",
   "pygments_lexer": "ipython3",
   "version": "3.9.13"
  },
  "orig_nbformat": 4
 },
 "nbformat": 4,
 "nbformat_minor": 2
}
