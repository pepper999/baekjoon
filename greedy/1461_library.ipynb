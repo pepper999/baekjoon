{
 "cells": [
  {
   "cell_type": "markdown",
   "metadata": {},
   "source": [
    "### 1461 도서관\n",
    "\n",
    "1. 현재 좌표에서 왼쪽(음수좌표)와 오른쪽(양수좌표)로 나눈다.\n",
    "\n",
    "2. 나눈 좌표를 정렬한다음, M 개의 책을 한꺼번에 정리하는 경우를 고려한다.\n",
    "\n",
    "3. 거리에 저장한다.\n",
    "\n",
    "4. 거리 중 가장 먼 곳은 마지막에 가서 돌아오지 않는게 가장 이득이기 때문에, 한번만 더해줌\n",
    "\n",
    "5. 나머지 거리들은 다시 돌아와야 하기 때문에 2를 곱해서 더한다."
   ]
  },
  {
   "cell_type": "code",
   "execution_count": 3,
   "metadata": {},
   "outputs": [
    {
     "name": "stdout",
     "output_type": "stream",
     "text": [
      "163\n"
     ]
    }
   ],
   "source": [
    "n,m = map(int,input().split())\n",
    "book = list(map(int, input().split()))\n",
    "\n",
    "# 음수, 양수 나누기\n",
    "left = []\n",
    "right = []\n",
    "for item in book:\n",
    "    if item < 0:\n",
    "        left.append(item)\n",
    "    elif item > 0:\n",
    "        right.append(item)\n",
    "\n",
    "distance = []\n",
    "left.sort()\n",
    "# M개의 책을 들고갔다면, 가장먼곳부터 M개를 정리할 수 있기 때문에, 이렇게 함\n",
    "for i in range(len(left)//m):\n",
    "    distance.append(abs(left[m*i]))\n",
    "# 만약에 다 했는데 남아있는 책이 있다면, M 개보다 작기 때문에, 나머지 중 가장 긴 거리의 책만 정리하면 됨\n",
    "if len(left) % m > 0:\n",
    "    distance.append(abs(left[(len(left)//m)*m]))\n",
    "    \n",
    "right.sort(reverse = True)\n",
    "for i in range(len(right)//m):\n",
    "    distance.append(right[m*i]) \n",
    "if len(right) % m > 0:\n",
    "    distance.append(right[(len(right)//m)*m])    \n",
    "\n",
    "# 거리에 저장된 값들 정렬    \n",
    "distance.sort()\n",
    "# 가장 먼 책은 한번만 정리하면 됨\n",
    "result = distance.pop()\n",
    "# 나머지는 왕복해야함\n",
    "result += 2*sum(distance)\n",
    "print(result)    "
   ]
  }
 ],
 "metadata": {
  "kernelspec": {
   "display_name": "Python 3",
   "language": "python",
   "name": "python3"
  },
  "language_info": {
   "codemirror_mode": {
    "name": "ipython",
    "version": 3
   },
   "file_extension": ".py",
   "mimetype": "text/x-python",
   "name": "python",
   "nbconvert_exporter": "python",
   "pygments_lexer": "ipython3",
   "version": "3.9.13"
  },
  "orig_nbformat": 4
 },
 "nbformat": 4,
 "nbformat_minor": 2
}
