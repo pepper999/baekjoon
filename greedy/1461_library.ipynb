{
 "cells": [
  {
   "cell_type": "markdown",
   "metadata": {},
   "source": [
    "### 1461 도서관"
   ]
  },
  {
   "cell_type": "code",
   "execution_count": 21,
   "metadata": {},
   "outputs": [
    {
     "name": "stdout",
     "output_type": "stream",
     "text": [
      "163\n"
     ]
    }
   ],
   "source": [
    "import heapq\n",
    "\n",
    "N, M = map(int, input().split())\n",
    "books = list(map(int, input().split()))\n",
    "books.sort()\n",
    "books_right = []\n",
    "books_left = []\n",
    "rlt = 0\n",
    "if M == 1:\n",
    "    for book in books:\n",
    "        rlt += abs(book)\n",
    "else:\n",
    "    for book in books:\n",
    "        if book >= 0:\n",
    "            heapq.heappush(books_right, -book)\n",
    "        else:\n",
    "            heapq.heappush(books_left, book)\n",
    "    if books_left[0] > books_right[0]:\n",
    "        rlt -= heapq.heappop(books_left)\n",
    "    else:\n",
    "        rlt -= heapq.heappop(books_right)\n",
    "    while len(books_left) >= M:\n",
    "        rlt -= 2 * (heapq.heappop(books_left))\n",
    "        for _ in range(M-1):\n",
    "            heapq.heappop(books_left)\n",
    "    while len(books_right) >= M:\n",
    "        rlt -= 2 * (heapq.heappop(books_right))\n",
    "        for _ in range(M-1):\n",
    "            heapq.heappop(books_right)\n",
    "    if books_left:\n",
    "        rlt -= 2 * (heapq.heappop(books_left))\n",
    "    if books_right:\n",
    "        rlt -= 2 * (heapq.heappop(books_right))\n",
    "print(rlt)"
   ]
  }
 ],
 "metadata": {
  "kernelspec": {
   "display_name": "Python 3",
   "language": "python",
   "name": "python3"
  },
  "language_info": {
   "codemirror_mode": {
    "name": "ipython",
    "version": 3
   },
   "file_extension": ".py",
   "mimetype": "text/x-python",
   "name": "python",
   "nbconvert_exporter": "python",
   "pygments_lexer": "ipython3",
   "version": "3.9.13"
  },
  "orig_nbformat": 4
 },
 "nbformat": 4,
 "nbformat_minor": 2
}
