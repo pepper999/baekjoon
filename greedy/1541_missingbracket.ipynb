{
 "cells": [
  {
   "cell_type": "markdown",
   "metadata": {},
   "source": [
    "### 1541 잃어버린 괄호\n",
    "\n",
    "1. 빼기가 나온 다음의 값들을 모두 괄호로 묶는 것이 최솟값!\n",
    "\n",
    "2. 빼기 를 기준으로 입력값을 나눔(빼기를 기준으로 나누었기 떄문에, 맨앞 덩어리에는 양수 값들만이 존재)\n",
    "\n",
    "3. 두번째 덩어리부터는 빼기이기 떄문에, 괄호로 묶어서 모든 값들을 더한 다음 첫번째 양수 덩어리에서 뺴는게 최솟값을 구하는 방법"
   ]
  },
  {
   "cell_type": "code",
   "execution_count": 6,
   "metadata": {},
   "outputs": [
    {
     "name": "stdout",
     "output_type": "stream",
     "text": [
      "0\n"
     ]
    }
   ],
   "source": [
    "# 입력값을 뺴기 연산자를 기준으로 나눔\n",
    "str = list(input().split('-'))\n",
    "# total 값 지정\n",
    "total = 0\n",
    "# 맨 앞의 덩어리는 빼기 연산자가 나오기 전이므로 모두 더함\n",
    "for i in str[0].split('+'):\n",
    "    total += int(i)\n",
    "\n",
    "# 그 뒤의 덩어리는 뺴기 연산자 이후의 숫자들이기 때문에, 괄호로 묶었다고 가정하면, 모두 뺴기 기호로 표시가 가능\n",
    "# 모든 숫자를 뺴줌\n",
    "for i in str[1:]:\n",
    "    for j in i.split('+'):\n",
    "        total -= int(j)\n",
    "        \n",
    "print(total)"
   ]
  }
 ],
 "metadata": {
  "kernelspec": {
   "display_name": "Python 3",
   "language": "python",
   "name": "python3"
  },
  "language_info": {
   "codemirror_mode": {
    "name": "ipython",
    "version": 3
   },
   "file_extension": ".py",
   "mimetype": "text/x-python",
   "name": "python",
   "nbconvert_exporter": "python",
   "pygments_lexer": "ipython3",
   "version": "3.9.13"
  },
  "orig_nbformat": 4
 },
 "nbformat": 4,
 "nbformat_minor": 2
}
