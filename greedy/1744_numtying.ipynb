{
 "cells": [
  {
   "cell_type": "markdown",
   "metadata": {},
   "source": [
    "### 1744 수 묶기\n",
    "\n",
    "1. 일단 주어진 수열을 내림차순으로 정렬\n",
    "\n",
    "2. 정렬된 수열을 순회하면서 현재 숫자가 1보다 크다면, 2라면 stack1에 저장\n",
    "\n",
    "3. 다음번 수도 1보다 크다면 둘을 곱해서 더하는 것이 이득\n",
    "\n",
    "4. 1은 그냥 더하는게 이득이므로 그냥 더함\n",
    "\n",
    "5. 1보다 작은수는(0부터) stack2에 저장해놓음(선입후출이므로 오름차순으로 정렬)\n",
    "\n",
    "6. 음수의 경우 가장 작은값들끼리 곱하는 것이 이득임\n",
    "\n",
    "7. stack2의 맨뒤(절대값이 가장 큰 값)을 pop 해가면서 곱해감\n",
    "\n",
    "8. stack1과 stack2에 남아있는 숫자들을 모두 더함"
   ]
  },
  {
   "cell_type": "code",
   "execution_count": 25,
   "metadata": {},
   "outputs": [],
   "source": [
    "N = int(input())\n",
    "nums = [int(input()) for _ in range(N)]\n",
    "nums.sort(reverse=True)\n",
    "rlt = 0\n",
    "stack1 = []\n",
    "# 음수를 저장해놓을 stack 정의\n",
    "stack2 = []\n",
    "for i in range(N):\n",
    "    # 이번 숫자가 1보다 크고, stack에 저장된 숫자가 없다면 stack에 저장\n",
    "    if nums[i] > 1 and not stack1:\n",
    "        stack1.append(nums[i])\n",
    "    # 1보다 크고 stack에 저장된 숫자가 있다면, 둘을 곱해서 결과에 저장\n",
    "    elif nums[i] > 1 and stack1:\n",
    "        num1 = stack1.pop()\n",
    "        num2 = nums[i]\n",
    "        rlt += num1 * num2\n",
    "    # 만약 1이면 그냥 결과값에 더하는 것이 가장 이득\n",
    "    elif nums[i] == 1:\n",
    "        rlt += nums[i]\n",
    "    # 1보다 작으면 음수를 저장하는 stack에 저장(0부터는 절대값이 가장 큰 값끼리 곱하는 것이 가장 이득)\n",
    "    elif nums[i] < 1:\n",
    "        stack2.append(nums[i])\n",
    "# 스택에 남아있는 숫자가 있다면 더해줌\n",
    "if stack1:\n",
    "    rlt += stack1.pop()\n",
    "# 음수들을 절대값이 큰 순서대로 받아옴\n",
    "while stack2:\n",
    "    if len(stack2) >= 2:\n",
    "        num1 = stack2.pop()\n",
    "        num2 = stack2.pop()\n",
    "        # 곱해서 더함\n",
    "        rlt += num1 * num2\n",
    "    # 하나만 남으면, 나머지 숫자를 결과에 더함\n",
    "    else:\n",
    "        rlt += stack2.pop()\n",
    "print(rlt)"
   ]
  }
 ],
 "metadata": {
  "kernelspec": {
   "display_name": "Python 3",
   "language": "python",
   "name": "python3"
  },
  "language_info": {
   "codemirror_mode": {
    "name": "ipython",
    "version": 3
   },
   "file_extension": ".py",
   "mimetype": "text/x-python",
   "name": "python",
   "nbconvert_exporter": "python",
   "pygments_lexer": "ipython3",
   "version": "3.9.13"
  },
  "orig_nbformat": 4
 },
 "nbformat": 4,
 "nbformat_minor": 2
}
