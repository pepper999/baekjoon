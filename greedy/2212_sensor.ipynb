{
 "cells": [
  {
   "cell_type": "markdown",
   "metadata": {},
   "source": [
    "### 2212 센서\n",
    "\n",
    "1. K 개의 덩어리로 나눴을 떄 덩어리들의 길이의 합\n",
    "\n",
    "2. 센서들을 좌표순서대로 sort\n",
    "\n",
    "3. 센서들간의 간격을 저장하는 리스트를 만듦\n",
    "\n",
    "4. 각 간격을 구해서 할당\n",
    "\n",
    "5. 각 간격 중, 가장 큰 간격을 사이에 두는 것이 최소한의 수신 가능영역의 길이임\n",
    "\n",
    "6. 즉 내림차순으로 정렬된 간격 K-1 개를 제외한 값들의 합이 정답!"
   ]
  },
  {
   "cell_type": "code",
   "execution_count": null,
   "metadata": {},
   "outputs": [],
   "source": [
    "N = int(input())\n",
    "K = int(input())\n",
    "\n",
    "sensors = list(set(map(int, input().split())))\n",
    "sensors.sort()\n",
    "gap = [0] * (len(sensors) - 1)\n",
    "\n",
    "for i in range(1, len(sensors)):\n",
    "    gap[i - 1] = sensors[i] - sensors[i - 1]\n",
    "gap.sort()\n",
    "\n",
    "print(sum(gap[:len(gap) - K + 1]))"
   ]
  }
 ],
 "metadata": {
  "kernelspec": {
   "display_name": "Python 3",
   "language": "python",
   "name": "python3"
  },
  "language_info": {
   "codemirror_mode": {
    "name": "ipython",
    "version": 3
   },
   "file_extension": ".py",
   "mimetype": "text/x-python",
   "name": "python",
   "nbconvert_exporter": "python",
   "pygments_lexer": "ipython3",
   "version": "3.9.13"
  },
  "orig_nbformat": 4
 },
 "nbformat": 4,
 "nbformat_minor": 2
}
