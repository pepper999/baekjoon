{
 "cells": [
  {
   "cell_type": "markdown",
   "metadata": {},
   "source": [
    "### 2374 같은 수로 만들기\n",
    "\n",
    "1. 수열의 숫자를 앞에서 부터 하나씩 입력을 받는다.\n",
    "\n",
    "2. 어느 위치던 max_num 보다 작은 숫자가 나오면, max_num 까지 위치의 숫자를 더해줌\n",
    "\n",
    "3. 같은 숫자가 나오면, 함께 더해줘야하기 때문에, 넘어감\n",
    "\n",
    "4. [4, 3, 4, 5, 1] 와 같은 경우 4를 stack 에 append, 3을 만날 경우 stack을 pop한 뒤 3을 append\n",
    "\n",
    "5. 4를 만났기 때문에 cnt + (4 - 3) 그리고 max num 갱신 후 stack을 pop한 뒤 4를 append\n",
    "\n",
    "6. 5를 만났기 때문에 cnt + (5 - 4) 그리고 max num 갱신 후 stack을 pop한 뒤 5를 append\n",
    "\n",
    "7. 마지막 숫자가 max_num 보다 작은 1이기 때문에, max num 만큼 마지막 숫자 +"
   ]
  },
  {
   "cell_type": "code",
   "execution_count": 3,
   "metadata": {},
   "outputs": [
    {
     "name": "stdout",
     "output_type": "stream",
     "text": [
      "4\n"
     ]
    }
   ],
   "source": [
    "n = int(input())\n",
    "cnt = 0\n",
    "# 첫 입력 숫자를 바로 stack 으로 불러옴\n",
    "stack = [int(input())]\n",
    "# 첫 숫자를 초기 max 값으로 설정\n",
    "max_num = stack[-1]\n",
    "# 두번째 숫자부터 시작 수열 맨 끝까지 탐색\n",
    "for _ in range(n - 1):\n",
    "    # 각입력을 받음\n",
    "    num = int(input())\n",
    "    # 스택의 숫자보다 입력받은 숫자가 크다면\n",
    "    if stack[-1] < num:\n",
    "        # 같아질때까지 더해야하는 숫자의 수를 더해줌\n",
    "        cnt += num - stack[-1]\n",
    "        # 현재 입력 받은 숫자가 현재 max 값보다 크면 갱신해줌\n",
    "        max_num = max(max_num, num)\n",
    "    # stack에 있었던 숫자는 비교를 다 끝냈으므로 pop\n",
    "    stack.pop()\n",
    "    stack.append(num)\n",
    "# 마지막 숫자는 이후에 비교할 수 없으므로, max num이 될 수 있을 떄까지 더해주는 횟수 +\n",
    "cnt += max_num * len(stack) - sum(stack)\n",
    "print(cnt)"
   ]
  }
 ],
 "metadata": {
  "kernelspec": {
   "display_name": "Python 3",
   "language": "python",
   "name": "python3"
  },
  "language_info": {
   "codemirror_mode": {
    "name": "ipython",
    "version": 3
   },
   "file_extension": ".py",
   "mimetype": "text/x-python",
   "name": "python",
   "nbconvert_exporter": "python",
   "pygments_lexer": "ipython3",
   "version": "3.9.13"
  },
  "orig_nbformat": 4
 },
 "nbformat": 4,
 "nbformat_minor": 2
}
