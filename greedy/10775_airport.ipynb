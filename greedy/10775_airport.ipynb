{
 "cells": [
  {
   "cell_type": "markdown",
   "metadata": {},
   "source": [
    "### 10775 공항\n",
    "\n",
    "1. 최대한 큰 크기의 gate에 비행기를 넣은것이 가장 좋음\n",
    "\n",
    "2. 비행기가 들어갈 수 있는 gate 를 역순으로 돌면서 가장 큰 게이트에 비행기를 집어넣음\n",
    "\n",
    "3. 딕셔너리에 최근에 집어넣은 비행기의 gate를 저장해놓음으로써, 같은 크기의 비행기를 받았을 때를 최적화함"
   ]
  },
  {
   "cell_type": "code",
   "execution_count": null,
   "metadata": {},
   "outputs": [],
   "source": [
    "import sys\n",
    "\n",
    "input = sys.stdin.readline\n",
    "\n",
    "G = int(input())\n",
    "P = int(input())\n",
    "\n",
    "visited = [0] * (G+1)\n",
    "gates = {i: i for i in range(G+1)}\n",
    "\n",
    "for _ in range(P):\n",
    "    gate = int(input())\n",
    "    # 같은 크기의 비행기를 받게 되면 더 효율적으로 탐색을 가능하게 해줌\n",
    "    for i in range(gates[gate], 0, -1):\n",
    "        if not visited[i]:\n",
    "            visited[i] = True\n",
    "            gates[gate] = i\n",
    "            break\n",
    "    else:\n",
    "        break\n",
    "\n",
    "print(sum(visited))"
   ]
  }
 ],
 "metadata": {
  "kernelspec": {
   "display_name": "Python 3",
   "language": "python",
   "name": "python3"
  },
  "language_info": {
   "codemirror_mode": {
    "name": "ipython",
    "version": 3
   },
   "file_extension": ".py",
   "mimetype": "text/x-python",
   "name": "python",
   "nbconvert_exporter": "python",
   "pygments_lexer": "ipython3",
   "version": "3.9.13"
  },
  "orig_nbformat": 4
 },
 "nbformat": 4,
 "nbformat_minor": 2
}
