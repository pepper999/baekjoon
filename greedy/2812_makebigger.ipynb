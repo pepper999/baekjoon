{
 "cells": [
  {
   "cell_type": "markdown",
   "metadata": {},
   "source": [
    "### 2812 크게 만들기\n",
    "\n",
    "1. 정해진 K 개 만큼의 숫자를 지워야함!\n",
    "\n",
    "2. 결과값을 저장할 stack을 생성\n",
    "\n",
    "3. 주어진 숫자를 하나씩 확인하면서, stack 의 숫자보다 크다면 stack 의 숫자를 pop 하고 push 한다.\n",
    "\n",
    "4. 아니라면, pop하지 않고 append 한다.\n",
    "\n",
    "5. 만약, K 횟수가 끝났다면 그냥 append만 한다.\n",
    "\n",
    "6. 만약, 끝까지 순회했는데 K 개를 제거하지 못한다면 맨 뒤부터 제거해준다."
   ]
  },
  {
   "cell_type": "code",
   "execution_count": null,
   "metadata": {},
   "outputs": [],
   "source": [
    "N, K = map(int, input().split())\n",
    "nums= list(map(int, list(input())))\n",
    "rlt = []\n",
    "for num in nums:\n",
    "    # 삭제 횟수가 남아있고, rlt에 숫자가 있고, num 이 rlt 의 숫자보다 크면 rlt 숫자를 제거\n",
    "    while K > 0 and rlt and rlt[-1] < num:\n",
    "        rlt.pop()\n",
    "        K -= 1\n",
    "    rlt.append(num)\n",
    "# 만약 삭제 횟수가 남았다면, 뒷자리부터 제거\n",
    "while K > 0:\n",
    "    rlt.pop()\n",
    "    K -= 1\n",
    "# 결과값 양식에 맞춰서 출력\n",
    "print(''.join(list(map(str, rlt))))"
   ]
  }
 ],
 "metadata": {
  "kernelspec": {
   "display_name": "Python 3",
   "language": "python",
   "name": "python3"
  },
  "language_info": {
   "codemirror_mode": {
    "name": "ipython",
    "version": 3
   },
   "file_extension": ".py",
   "mimetype": "text/x-python",
   "name": "python",
   "nbconvert_exporter": "python",
   "pygments_lexer": "ipython3",
   "version": "3.9.13"
  },
  "orig_nbformat": 4
 },
 "nbformat": 4,
 "nbformat_minor": 2
}
