{
 "cells": [
  {
   "cell_type": "markdown",
   "metadata": {},
   "source": [
    "### 2138 전구와 스위치\n",
    "\n",
    "1. 현재 좌표에서 영향을 미칠 수 있는 스위치는 현재 -1 좌표까지이다.\n",
    "\n",
    "2. 즉, 현재-1 좌표의 스위치가 목표와 다르다면, 현재 좌표의 스위치를 변경한다.\n",
    "\n",
    "3. 맨 처음 스위치를 바꾸는 경우와 바꾸지 않는 경우 두개로만 나눔"
   ]
  },
  {
   "cell_type": "code",
   "execution_count": null,
   "metadata": {},
   "outputs": [],
   "source": [
    "def sol():\n",
    "    N = int(input())\n",
    "    before = list(map(int, list(input())))\n",
    "    after = list(map(int, list(input())))\n",
    "    if before == after:\n",
    "        print(0)\n",
    "        return\n",
    "    now1 = before[:]\n",
    "    now2 = before[:]\n",
    "    now2[0] = 1 - now2[0]\n",
    "    now2[1] = 1 - now2[1]\n",
    "    flag = 0\n",
    "    min_cnt = float('inf')\n",
    "    for before in (now1, now2):\n",
    "        cnt = 0\n",
    "        if before[0] != now1[0]:\n",
    "            cnt += 1  \n",
    "        for i in range(1, N):\n",
    "            if before[i-1] != after[i-1]:\n",
    "                for j in (i-1, i, i+1):\n",
    "                    if j < N:\n",
    "                        before[j] = 1 - before[j]\n",
    "                cnt += 1\n",
    "                if before == after:\n",
    "                    min_cnt = min(min_cnt, cnt)\n",
    "                    flag = 1\n",
    "                    break\n",
    "    if flag == 1:\n",
    "        print(min_cnt)\n",
    "    else:\n",
    "        print(-1)\n",
    "sol()"
   ]
  }
 ],
 "metadata": {
  "kernelspec": {
   "display_name": "Python 3",
   "language": "python",
   "name": "python3"
  },
  "language_info": {
   "codemirror_mode": {
    "name": "ipython",
    "version": 3
   },
   "file_extension": ".py",
   "mimetype": "text/x-python",
   "name": "python",
   "nbconvert_exporter": "python",
   "pygments_lexer": "ipython3",
   "version": "3.9.13"
  },
  "orig_nbformat": 4
 },
 "nbformat": 4,
 "nbformat_minor": 2
}
