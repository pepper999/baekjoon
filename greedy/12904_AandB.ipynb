{
 "cells": [
  {
   "cell_type": "markdown",
   "metadata": {},
   "source": [
    "### 12904 A와 B\n",
    "\n",
    "1. T 를 제거해 나가면서 S가 될 수 있는지를 판단하면 된다.\n",
    "\n",
    "2. T의 맨끝이 A라면, 제거하고 그대로 나두고 맨끝이 B라면 제거하고 반대로 뒤집는다.\n",
    "\n",
    "3. 매번 제거를 반복할 때 마다 T를 S와 비교하여 같다면 그 즉시 1 출력\n",
    "\n",
    "4. 아니라면, 계속 돌림. T의 문자를 모두 제거했지만 일치하지 않는다면 0출력"
   ]
  },
  {
   "cell_type": "code",
   "execution_count": 19,
   "metadata": {},
   "outputs": [
    {
     "name": "stdout",
     "output_type": "stream",
     "text": [
      "1\n"
     ]
    }
   ],
   "source": [
    "def sol():\n",
    "    S = input()\n",
    "    T = input()\n",
    "    while T:\n",
    "        # 만약 T 와 S 가 같다면 1 출력\n",
    "        if T == S:\n",
    "            return 1\n",
    "        # 만약 T의 맨뒤가 A라면, 제거\n",
    "        if T[-1] == 'A':\n",
    "            T = T[:-1]\n",
    "        # 만약 T의 맨뒤가 B라면, 뒤집은 다음 추가할 수 있으므로 제거하고 뒤집음\n",
    "        elif T[-1] == 'B':\n",
    "            T = T[:-1][::-1]\n",
    "    return 0\n",
    "\n",
    "print(sol())"
   ]
  }
 ],
 "metadata": {
  "kernelspec": {
   "display_name": "Python 3",
   "language": "python",
   "name": "python3"
  },
  "language_info": {
   "codemirror_mode": {
    "name": "ipython",
    "version": 3
   },
   "file_extension": ".py",
   "mimetype": "text/x-python",
   "name": "python",
   "nbconvert_exporter": "python",
   "pygments_lexer": "ipython3",
   "version": "3.9.13"
  },
  "orig_nbformat": 4
 },
 "nbformat": 4,
 "nbformat_minor": 2
}
