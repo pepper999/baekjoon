{
 "cells": [
  {
   "cell_type": "markdown",
   "metadata": {},
   "source": [
    "### 1700 멀티탭 스캐줄링\n",
    "\n",
    "1. 멀티탭에 빈 공간이 있으면, 순서대로 멀티탭에 넣음\n",
    "\n",
    "2. 멀티탭에 빈 공간이 없는데 멀티탭에 없는 전기용품이 나오면 현재 이후의 사용순서를 탐색\n",
    "\n",
    "3. 이후 사용순서에 없는 전기용품이 꽂혀있으면 그 즉시 해당 전기용품을 제거\n",
    "\n",
    "4. 모두 이후에 사용한다면, 가장 나중에 나오는 전기용품 순서로 제거한다음 현재 사용순서의 전기용품을 꽂고 cnt += 1 카운트"
   ]
  },
  {
   "cell_type": "code",
   "execution_count": 5,
   "metadata": {},
   "outputs": [
    {
     "name": "stdout",
     "output_type": "stream",
     "text": [
      "2\n"
     ]
    }
   ],
   "source": [
    "# 해결 함수 정의\n",
    "def sol():\n",
    "    N, K = map(int, input().split())\n",
    "    # 만약에 멀티탭이 모든 계획보다 크기가 크다면 바로 0 출력\n",
    "    if N >= K:\n",
    "        print(0)\n",
    "        return\n",
    "    cnt = 0\n",
    "    order = list(map(int, input().split()))\n",
    "    multitab = []\n",
    "    for i in range(K):\n",
    "        # 멀티탭에 공간이 남아있다면, 멀티탭에 현재 전기용품을 꽂음\n",
    "        if len(multitab) < N and order[i] not in multitab:\n",
    "            multitab.append(order[i])\n",
    "        # 멀티탭에 공간이 없다면 이후 순서를 탐색\n",
    "        elif order[i] not in multitab:\n",
    "            far_idx = 0\n",
    "            temp = 0\n",
    "            for now in multitab:\n",
    "                # 현재 멀티탭에 꽂혀있는 전기용품중 이후에 안쓰는게 있다면, 바로 뽑음\n",
    "                if now not in order[i:]:\n",
    "                    temp = now\n",
    "                    break\n",
    "                # 만약 이후에 사용하는 전기용품이라면 이후에 언제 사용하게 되는지를 조사\n",
    "                elif order[i:].index(now) > far_idx:\n",
    "                    far_idx = order[i:].index(now)\n",
    "                    temp = now\n",
    "            # 조사한 모든 전기용품 중에 안쓰거나 가장 나중에 쓰는 제품을 뽑고 그자리에 현재 전기용품을 꽂음\n",
    "            multitab[multitab.index(temp)] = order[i]\n",
    "            cnt += 1\n",
    "    print(cnt)\n",
    "\n",
    "sol()"
   ]
  }
 ],
 "metadata": {
  "kernelspec": {
   "display_name": "Python 3",
   "language": "python",
   "name": "python3"
  },
  "language_info": {
   "codemirror_mode": {
    "name": "ipython",
    "version": 3
   },
   "file_extension": ".py",
   "mimetype": "text/x-python",
   "name": "python",
   "nbconvert_exporter": "python",
   "pygments_lexer": "ipython3",
   "version": "3.9.13"
  },
  "orig_nbformat": 4
 },
 "nbformat": 4,
 "nbformat_minor": 2
}
