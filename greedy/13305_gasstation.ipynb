{
 "cells": [
  {
   "cell_type": "markdown",
   "metadata": {},
   "source": [
    "### 13305 주유소\n",
    "\n",
    "1. 순차적으로 진행하면서 temp_min 에 주유 최솟값을 저장한다.\n",
    "\n",
    "2. 현재 위치까지 오는길에서 기름 최솟값에서 주유하는 것이 이득임\n",
    "\n",
    "3. temp_min 에 현재 탐색시점까지의 temp_min 값을 할당한다.\n",
    "\n",
    "4. 좌표마다 비교하면서 끝까지 탐색하며, road * temp_min 값을 구한다."
   ]
  },
  {
   "cell_type": "code",
   "execution_count": 6,
   "metadata": {},
   "outputs": [
    {
     "name": "stdout",
     "output_type": "stream",
     "text": [
      "10\n"
     ]
    }
   ],
   "source": [
    "N = int(input())\n",
    "road = list(map(int, input().split()))\n",
    "price = list(map(int, input().split()))\n",
    "total = 0\n",
    "# 첫 주유는 무조건 첫 좌표에서 실시\n",
    "temp_min = price[0]\n",
    "for i in range(len(road)):\n",
    "        # temp_min 과 해당 주유소의 기름 값을 비교해서 더 싼곳에서 주유한다고 가정\n",
    "        if temp_min <= price[i]:\n",
    "            total += road[i] * temp_min\n",
    "        else:\n",
    "            temp_min = price[i]\n",
    "            total += road[i] * temp_min\n",
    "print(total)"
   ]
  }
 ],
 "metadata": {
  "kernelspec": {
   "display_name": "Python 3",
   "language": "python",
   "name": "python3"
  },
  "language_info": {
   "codemirror_mode": {
    "name": "ipython",
    "version": 3
   },
   "file_extension": ".py",
   "mimetype": "text/x-python",
   "name": "python",
   "nbconvert_exporter": "python",
   "pygments_lexer": "ipython3",
   "version": "3.9.13"
  },
  "orig_nbformat": 4
 },
 "nbformat": 4,
 "nbformat_minor": 2
}
