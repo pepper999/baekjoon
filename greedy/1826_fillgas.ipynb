{
 "cells": [
  {
   "cell_type": "markdown",
   "metadata": {},
   "source": [
    "### 1826 연료 채우기\n",
    "\n",
    "1. 주유소를 지나치면서 주유소에 채워넣을 수 있는 연료를 heap에 기록\n",
    "\n",
    "2. 만약, 다음주유소거리보다 현재 기름이 적으면, heap에서 가장 큰값부터 현재 기름에 더해서 다음 주유소까지 갈 수 있을 떄 까지 반복\n",
    "\n",
    "3. 만약, 못가면 바로 -1 출력"
   ]
  },
  {
   "cell_type": "code",
   "execution_count": null,
   "metadata": {},
   "outputs": [],
   "source": [
    "import heapq\n",
    "\n",
    "def sol():\n",
    "    N = int(input())\n",
    "    stations = [list(map(int, input().split())) for _ in range(N)]\n",
    "    L, P = map(int, input().split())\n",
    "    stations.append([L, 0])\n",
    "    stations.sort()\n",
    "    cnt = 0\n",
    "    hq = []\n",
    "    for i in range(N+1):\n",
    "        if stations[i][0] > P:\n",
    "            while hq:\n",
    "                P -= heapq.heappop(hq)\n",
    "                cnt += 1\n",
    "                if P >= stations[i][0]:\n",
    "                    break\n",
    "        if not hq and P < stations[i][0]:\n",
    "            print(-1)\n",
    "            return\n",
    "        else:\n",
    "            heapq.heappush(hq, -stations[i][1])\n",
    "    print(cnt)\n",
    "sol()"
   ]
  }
 ],
 "metadata": {
  "kernelspec": {
   "display_name": "Python 3",
   "language": "python",
   "name": "python3"
  },
  "language_info": {
   "codemirror_mode": {
    "name": "ipython",
    "version": 3
   },
   "file_extension": ".py",
   "mimetype": "text/x-python",
   "name": "python",
   "nbconvert_exporter": "python",
   "pygments_lexer": "ipython3",
   "version": "3.9.13"
  },
  "orig_nbformat": 4
 },
 "nbformat": 4,
 "nbformat_minor": 2
}
