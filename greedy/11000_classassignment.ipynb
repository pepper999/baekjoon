{
 "cells": [
  {
   "cell_type": "markdown",
   "metadata": {},
   "source": [
    "### 11000 강의실 배정\n",
    "\n",
    "1. 강의를 시작시간 / 종료시간을 기준으로 정렬한다.\n",
    "\n",
    "2. 빈 강의실의 목록을 만든다.\n",
    "\n",
    "3. 강의를 순서대로 순회하면서, 강의실에 진행중인 수업중 가장 빨리 끝나는 강의를 검색하고, 그 이후라면 현재 강의의 종료시간으로 교체\n",
    "\n",
    "4. 위 과정을 반복하는데, heapq 자료구조를 이용해서 검색하고 교체하는 시간을 줄일 수 있음"
   ]
  },
  {
   "cell_type": "code",
   "execution_count": 10,
   "metadata": {},
   "outputs": [
    {
     "name": "stdout",
     "output_type": "stream",
     "text": [
      "2\n"
     ]
    }
   ],
   "source": [
    "import sys\n",
    "import heapq\n",
    "input = sys.stdin.readline\n",
    "\n",
    "N = int(input())\n",
    "# 빈 강의실 목록 정리\n",
    "empty_rooms = []\n",
    "lectures = [list(map(int, input().split())) for _ in range(N)]\n",
    "lectures.sort(key=lambda x: (x[0], x[1]))\n",
    "# 각 강의의 리스트를 순회\n",
    "for lecture in lectures:\n",
    "    start, end = lecture\n",
    "    # 만약 현재 강의의 시작이 가장 먼저 끝나는 강의보다 늦으면 해당강의를 pop함\n",
    "    if empty_rooms and empty_rooms[0] <= start:\n",
    "        heapq.heappop(empty_rooms)\n",
    "    # 들어갈 수 있는 강의장이 없으면, pop 없이 push된다.\n",
    "    heapq.heappush(empty_rooms, end)\n",
    "    \n",
    "print(len(empty_rooms))"
   ]
  }
 ],
 "metadata": {
  "kernelspec": {
   "display_name": "Python 3",
   "language": "python",
   "name": "python3"
  },
  "language_info": {
   "codemirror_mode": {
    "name": "ipython",
    "version": 3
   },
   "file_extension": ".py",
   "mimetype": "text/x-python",
   "name": "python",
   "nbconvert_exporter": "python",
   "pygments_lexer": "ipython3",
   "version": "3.9.13"
  },
  "orig_nbformat": 4
 },
 "nbformat": 4,
 "nbformat_minor": 2
}
