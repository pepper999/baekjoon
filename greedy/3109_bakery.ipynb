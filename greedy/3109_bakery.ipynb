{
 "cells": [
  {
   "cell_type": "markdown",
   "metadata": {},
   "source": [
    "### 3109 빵집\n",
    "\n",
    "1. 만약 한 출발점에서 끝까지 도달할 수 있는 파이프의 경우의 수가 여러가지라면 최대한 위쪽 경로로 이동하는 것이 가장 이득임\n",
    "\n",
    "2. 그렇기 때문에, 백트래킹을 위쪽 대각선 - 앞 - 아래쪽 대각선 순으로 탐색을 실시하게 함.\n",
    "\n",
    "3. 백트래킹은 가능한 위쪽 파이프부터 계속해서 탐색하기 때문에, 최초로 마지막까지 연결된 파이프가 최대한 위쪽으로 설치한 파이프임.\n",
    "\n",
    "4. 한 경우의 수를 통해서 파이프를 끝까지 연결했다면, 해당 시작점에 대한 백트래킹을 즉시 종료해야함\n",
    "\n",
    "5. 모든 출발점에 대해서 다시 백트래킹 시도!\n",
    "\n",
    "- 재귀에서 한번 연결에 실패한 좌표의 visited 여부를 다시 바꾸어주지 않는 이유는, 한번 실패한 좌표에선 어떻게 하나 마지막까지 연결될 수 없기 떄문에 그대로 나둬서 효율성을 증가시킬 수 있음"
   ]
  },
  {
   "cell_type": "code",
   "execution_count": 8,
   "metadata": {},
   "outputs": [
    {
     "name": "stdout",
     "output_type": "stream",
     "text": [
      "2\n"
     ]
    }
   ],
   "source": [
    "import sys\n",
    "input = sys.stdin.readline\n",
    "\n",
    "R, C = map(int, input().split())\n",
    "graph = [list(input().strip()) for _ in range(R)]\n",
    "\n",
    "delta = [(-1,1),(0,1),(1,1)]\n",
    "rlt = []\n",
    "# 백트래킹 기법을 사용해서 그래프 탐색\n",
    "def back(x, y):\n",
    "    # 만약 파이프가 끝까지 갔다면, True 값 return\n",
    "    if y == C - 1:\n",
    "        return True\n",
    "    # 갈 수 있는 좌표에 대해서 파이프 설치 가능 여부 탐색\n",
    "    for i in range(3):\n",
    "        nx, ny = x + delta[i][0], y + delta[i][1]\n",
    "        if 0 <= nx < R and 0 <= ny < C and graph[nx][ny] == '.':\n",
    "            # 갈 수 있다면 방문표시\n",
    "            graph[nx][ny] = 'x'\n",
    "            # 만약 파이프가 끝까지 도달했다면, True 값을 반환함으로써 백트래킹이 맨 처음까지 되돌아올 수 있게 만듦\n",
    "            if back(nx, ny):\n",
    "                return True\n",
    "    return False\n",
    "\n",
    "cnt = 0\n",
    "# 만약 해당좌표에서 끝까지 연결이 가능하다면 개수를 + 1\n",
    "for i in range(R):\n",
    "    if back(i, 0):\n",
    "        cnt += 1\n",
    "print(cnt)"
   ]
  }
 ],
 "metadata": {
  "kernelspec": {
   "display_name": "Python 3",
   "language": "python",
   "name": "python3"
  },
  "language_info": {
   "codemirror_mode": {
    "name": "ipython",
    "version": 3
   },
   "file_extension": ".py",
   "mimetype": "text/x-python",
   "name": "python",
   "nbconvert_exporter": "python",
   "pygments_lexer": "ipython3",
   "version": "3.9.6"
  },
  "orig_nbformat": 4
 },
 "nbformat": 4,
 "nbformat_minor": 2
}
