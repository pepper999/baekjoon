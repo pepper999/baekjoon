{
 "cells": [
  {
   "cell_type": "markdown",
   "metadata": {},
   "source": [
    "### 13164 행복 유치원\n",
    "\n",
    "1. 키 리스트를 정렬한다음, 그 차이를 계산해서 리스트에 저장\n",
    "\n",
    "2. 키 차이를 정렬한다음에, 작은순으로 N-K+1 갯수만큼 더하면 된다"
   ]
  },
  {
   "cell_type": "code",
   "execution_count": null,
   "metadata": {},
   "outputs": [],
   "source": [
    "N, K = map(int, input().split())\n",
    "children = list(map(int, input().split()))\n",
    "children.sort()\n",
    "dp = [0] * (N)\n",
    "for i in range(1, N):\n",
    "    dp[i-1] = children[i] - children[i-1]\n",
    "dp.sort()\n",
    "print(sum(dp[:N-K+1]))"
   ]
  }
 ],
 "metadata": {
  "kernelspec": {
   "display_name": "Python 3",
   "language": "python",
   "name": "python3"
  },
  "language_info": {
   "codemirror_mode": {
    "name": "ipython",
    "version": 3
   },
   "file_extension": ".py",
   "mimetype": "text/x-python",
   "name": "python",
   "nbconvert_exporter": "python",
   "pygments_lexer": "ipython3",
   "version": "3.9.13"
  },
  "orig_nbformat": 4
 },
 "nbformat": 4,
 "nbformat_minor": 2
}
