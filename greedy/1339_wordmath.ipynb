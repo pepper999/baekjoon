{
 "cells": [
  {
   "cell_type": "markdown",
   "metadata": {},
   "source": [
    "### 1339 단어 수학\n",
    "\n",
    "1. zfill 이용 각 string 을 가장 긴 string 길이에 맞춰서 0을 맨 앞에 넣어준다\n",
    "\n",
    "2. string을 돌면서 각 문자열이 몇번째 자리에 위치하는지를 알아낸다.\n",
    "\n",
    "3. 10 ** 자릿수로, 각 문자열의 위치에 따른 실제 숫자를 dict 에 저장해놓는다. (ABC 에서 A가 실제로 나타내는 수는 A * 100 이다.)\n",
    "\n",
    "4. 각 가중치를 내림차순으로 정렬한다음, 앞에서부터 가장 높은 수를 배분한다.\n",
    "\n",
    "5. 모두 배분한다음, 다 더한 결과값을 출력함."
   ]
  },
  {
   "cell_type": "code",
   "execution_count": null,
   "metadata": {},
   "outputs": [],
   "source": [
    "N = int(input())\n",
    "strings = [input() for _ in range(N)]\n",
    "max_len = max(len(string) for string in strings)\n",
    "# zfill 을 사용해서 글자수가 작은 문자열을 0으로 채워줌\n",
    "strings = [string.zfill(max_len) for string in strings]\n",
    "# 각 자릿수에 해당하는 가중치를 저장하는 딕셔너리를 정의한다.\n",
    "char_to_digit = {char: 0 for char in 'ABCDEFGHIJKLMNOPQRSTUVWXYZ'}\n",
    "# 문자열을 순회하면서, 각 자릿수에 해당하는 가중치를 딕셔너리에 저장한다.\n",
    "for i in range(N):\n",
    "    for j in range(max_len):\n",
    "        if strings[i][j] != '0':\n",
    "            char_to_digit[strings[i][j]] += 10 ** (max_len - j - 1)\\\n",
    "# 가중치를 내림차순으로 정렬한다.\n",
    "nums = list(char_to_digit.values())\n",
    "nums.sort(reverse=True)\n",
    "rlt = 0\n",
    "# 가중치의 값들에 큰순으로 숫자를 배치한다.\n",
    "for i in range(10):\n",
    "    rlt += nums[i] * (9-i)\n",
    "print(rlt)\n"
   ]
  }
 ],
 "metadata": {
  "kernelspec": {
   "display_name": "Python 3",
   "language": "python",
   "name": "python3"
  },
  "language_info": {
   "codemirror_mode": {
    "name": "ipython",
    "version": 3
   },
   "file_extension": ".py",
   "mimetype": "text/x-python",
   "name": "python",
   "nbconvert_exporter": "python",
   "pygments_lexer": "ipython3",
   "version": "3.9.13"
  },
  "orig_nbformat": 4
 },
 "nbformat": 4,
 "nbformat_minor": 2
}
