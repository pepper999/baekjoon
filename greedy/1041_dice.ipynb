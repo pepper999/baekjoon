{
 "cells": [
  {
   "cell_type": "markdown",
   "metadata": {},
   "source": [
    "### 1041 주사위\n",
    "\n",
    "1. 큰 정육면체를 만든다고 생각하면, 각 주사위가 보일 수 있는 면은 한면/두면/세면으로 나눌 수 있다.\n",
    "\n",
    "2. 각각의 주사위가 몇개가 나올 수 있는지를 구하고, 각 주사위가 나올 수 있는 최솟값을 구한다.\n",
    "\n",
    "3. 나오는 갯수 * 최솟값 -> 간단하게 구할 수 있음"
   ]
  },
  {
   "cell_type": "code",
   "execution_count": 5,
   "metadata": {},
   "outputs": [
    {
     "name": "stdout",
     "output_type": "stream",
     "text": [
      "500\n"
     ]
    }
   ],
   "source": [
    "def sol():\n",
    "    N = int(input())\n",
    "    nums = list(map(int, input().split()))\n",
    "    min_list = []\n",
    "    rlt = 0\n",
    "    if N == 1:\n",
    "        nums.sort()\n",
    "        for i in range(5):\n",
    "            rlt += nums[i]\n",
    "        print(rlt)\n",
    "        return\n",
    "    min_list.append(min(nums[0], nums[5]))\n",
    "    min_list.append(min(nums[1], nums[4]))\n",
    "    min_list.append(min(nums[2], nums[3]))\n",
    "    min_list.sort()\n",
    "    min_one = min_list[0]\n",
    "    min_two = min_list[0] + min_list[1]\n",
    "    min_three = sum(min_list)\n",
    "    one_side = 4 * (N-2) * (N-1) + (N-2) ** 2\n",
    "    two_side = 4 * (N-1) + 4 * (N-2)\n",
    "    three_side = 4\n",
    "    rlt += one_side * min_one\n",
    "    rlt += two_side * min_two\n",
    "    rlt += three_side * min_three\n",
    "    print(rlt)\n",
    "sol()\n"
   ]
  }
 ],
 "metadata": {
  "kernelspec": {
   "display_name": "Python 3",
   "language": "python",
   "name": "python3"
  },
  "language_info": {
   "codemirror_mode": {
    "name": "ipython",
    "version": 3
   },
   "file_extension": ".py",
   "mimetype": "text/x-python",
   "name": "python",
   "nbconvert_exporter": "python",
   "pygments_lexer": "ipython3",
   "version": "3.9.13"
  },
  "orig_nbformat": 4
 },
 "nbformat": 4,
 "nbformat_minor": 2
}
