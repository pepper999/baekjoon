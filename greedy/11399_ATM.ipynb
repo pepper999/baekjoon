{
 "cells": [
  {
   "cell_type": "markdown",
   "metadata": {},
   "source": [
    "### 11399 ATM\n",
    "\n",
    "1. 사람들이 오름차순으로 정렬된 상태에서의 누적합을 구하면 됨!"
   ]
  },
  {
   "cell_type": "code",
   "execution_count": 7,
   "metadata": {},
   "outputs": [
    {
     "name": "stdout",
     "output_type": "stream",
     "text": [
      "39\n"
     ]
    }
   ],
   "source": [
    "N = int(input())\n",
    "people = list(map(int, input().split()))\n",
    "people.sort()\n",
    "temp = 0\n",
    "total = 0\n",
    "# 정렬된 사람들을 기준으로 list의 맨끝까지의 누적합을 구함\n",
    "for i in range(len(people)):\n",
    "    temp += people[i]\n",
    "    total += temp\n",
    "print(total)"
   ]
  }
 ],
 "metadata": {
  "kernelspec": {
   "display_name": "Python 3",
   "language": "python",
   "name": "python3"
  },
  "language_info": {
   "codemirror_mode": {
    "name": "ipython",
    "version": 3
   },
   "file_extension": ".py",
   "mimetype": "text/x-python",
   "name": "python",
   "nbconvert_exporter": "python",
   "pygments_lexer": "ipython3",
   "version": "3.9.13"
  },
  "orig_nbformat": 4
 },
 "nbformat": 4,
 "nbformat_minor": 2
}
