{
 "cells": [
  {
   "cell_type": "markdown",
   "metadata": {},
   "source": [
    "### 1715 카드 정렬하기\n",
    "\n",
    "1. heap 자료구조를 사용하는 것이 핵심!\n",
    "\n",
    "2. 작은 카드부터 하나씩 하나씩 더하는 것이 최솟값이 됨\n",
    "\n",
    "3. heapify 함수를 통해서 heap 자료구조로 카드를 정렬함\n",
    "\n",
    "4. 가장 작은 수 2개를 뽑아내서 더한 값을 rlt에 더해주고, 더한 값을 heap에 다시 넣는다\n",
    "\n",
    "5. 더 합칠 카드가 없다면, 반복을 종료하고 결과값을 반환한다.\n",
    "\n",
    "6. N == 1 이라면 합칠 필요가 없기 때문에 0을 출력함 "
   ]
  },
  {
   "cell_type": "code",
   "execution_count": null,
   "metadata": {},
   "outputs": [],
   "source": [
    "import heapq\n",
    "\n",
    "N = int(input())\n",
    "cards = [int(input()) for _ in range(N)]\n",
    "# 리스트를 힙으로 바꿈\n",
    "heapq.heapify(cards)\n",
    "rlt = 0\n",
    "# 합칠 카드가 남아있다면 힙에서 가장 작은 카드덱 2개를 뽑음\n",
    "while len(cards) >= 2:\n",
    "    card1 = heapq.heappop(cards)\n",
    "    card2 = heapq.heappop(cards)\n",
    "    # 결과값에 더함\n",
    "    rlt += card1 + card2\n",
    "    # 더한 카드 갯수를 다시 힙에 넣음\n",
    "    heapq.heappush(cards, card1 + card2)\n",
    "if N == 1:\n",
    "    print(0)\n",
    "else:\n",
    "    print(rlt)"
   ]
  }
 ],
 "metadata": {
  "kernelspec": {
   "display_name": "Python 3",
   "language": "python",
   "name": "python3"
  },
  "language_info": {
   "codemirror_mode": {
    "name": "ipython",
    "version": 3
   },
   "file_extension": ".py",
   "mimetype": "text/x-python",
   "name": "python",
   "nbconvert_exporter": "python",
   "pygments_lexer": "ipython3",
   "version": "3.9.13"
  },
  "orig_nbformat": 4
 },
 "nbformat": 4,
 "nbformat_minor": 2
}
