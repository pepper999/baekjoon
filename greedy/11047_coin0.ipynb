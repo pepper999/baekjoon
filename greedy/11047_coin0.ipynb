{
 "cells": [
  {
   "cell_type": "markdown",
   "metadata": {},
   "source": [
    "### 11047 동전 0\n",
    "\n",
    "1. 숫자가 큰 동전부터 몇개의 동전이 K 안에 들어가는지를 계산하면 된다\n",
    "\n",
    "2. i + 1 번쨰 동전은 i번째 동전의 배수이기 때문에, 가능한 알고리즘"
   ]
  },
  {
   "cell_type": "code",
   "execution_count": 5,
   "metadata": {},
   "outputs": [
    {
     "name": "stdout",
     "output_type": "stream",
     "text": [
      "6\n"
     ]
    }
   ],
   "source": [
    "N, K = map(int, input().split())\n",
    "coins = [int(input()) for _ in range(N)]\n",
    "cnt = 0\n",
    "for i in range(N-1, -1, -1):\n",
    "    cnt += K // coins[i]\n",
    "    K %= coins[i]\n",
    "print(cnt)"
   ]
  }
 ],
 "metadata": {
  "kernelspec": {
   "display_name": "Python 3",
   "language": "python",
   "name": "python3"
  },
  "language_info": {
   "codemirror_mode": {
    "name": "ipython",
    "version": 3
   },
   "file_extension": ".py",
   "mimetype": "text/x-python",
   "name": "python",
   "nbconvert_exporter": "python",
   "pygments_lexer": "ipython3",
   "version": "3.9.13"
  },
  "orig_nbformat": 4
 },
 "nbformat": 4,
 "nbformat_minor": 2
}
