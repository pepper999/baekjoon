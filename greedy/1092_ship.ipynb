{
 "cells": [
  {
   "cell_type": "markdown",
   "metadata": {},
   "source": [
    "### 1092 배\n",
    "\n",
    "1. 사실상 완탐인데.. 이게 왜 그리디인지 모르겠다.."
   ]
  },
  {
   "cell_type": "code",
   "execution_count": null,
   "metadata": {},
   "outputs": [],
   "source": [
    "# import sys\n",
    "# input = sys.stdin.readline\n",
    "\n",
    "def sol():\n",
    "    n = int(input())\n",
    "    cranes = list(map(int, input().split()))\n",
    "    m = int(input())\n",
    "    boxes = list(map(int, input().split()))\n",
    "\n",
    "    cranes.sort(reverse=True)\n",
    "    boxes.sort(reverse=True)\n",
    "\n",
    "    time = 0\n",
    "    if cranes[0] < boxes[0]:\n",
    "        print(-1)\n",
    "        return\n",
    "\n",
    "    while len(boxes)>0:\n",
    "        for crane in cranes:\n",
    "            for box in boxes:\n",
    "                if crane >= box:\n",
    "                    boxes.remove(box)\n",
    "                    break\n",
    "        \n",
    "        time+=1\n",
    "\n",
    "    print(time)\n",
    "sol()"
   ]
  }
 ],
 "metadata": {
  "kernelspec": {
   "display_name": "Python 3",
   "language": "python",
   "name": "python3"
  },
  "language_info": {
   "codemirror_mode": {
    "name": "ipython",
    "version": 3
   },
   "file_extension": ".py",
   "mimetype": "text/x-python",
   "name": "python",
   "nbconvert_exporter": "python",
   "pygments_lexer": "ipython3",
   "version": "3.9.13"
  },
  "orig_nbformat": 4
 },
 "nbformat": 4,
 "nbformat_minor": 2
}
