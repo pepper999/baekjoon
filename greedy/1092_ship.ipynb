{
 "cells": [
  {
   "cell_type": "markdown",
   "metadata": {},
   "source": [
    "### 1092 배"
   ]
  },
  {
   "cell_type": "code",
   "execution_count": 7,
   "metadata": {},
   "outputs": [
    {
     "name": "stdout",
     "output_type": "stream",
     "text": [
      "2\n"
     ]
    }
   ],
   "source": [
    "def sol():\n",
    "    N = int(input())\n",
    "    cranes = list(map(int, input().split()))\n",
    "    M = int(input())\n",
    "    boxes = list(map(int, input().split()))\n",
    "    cranes.sort(reverse=True)\n",
    "    boxes.sort(reverse=True)\n",
    "    if boxes[0] > cranes[0]:\n",
    "        print(-1)\n",
    "        return\n",
    "    else:\n",
    "        time = 0\n",
    "        while boxes:\n",
    "            if not boxes:\n",
    "                break\n",
    "            for crane in cranes:\n",
    "                for box in boxes:\n",
    "                    if crane >= box:\n",
    "                        boxes.remove(box)\n",
    "                        break\n",
    "            time+=1\n",
    "    print(time)\n",
    "    return\n",
    "sol()"
   ]
  }
 ],
 "metadata": {
  "kernelspec": {
   "display_name": "Python 3",
   "language": "python",
   "name": "python3"
  },
  "language_info": {
   "codemirror_mode": {
    "name": "ipython",
    "version": 3
   },
   "file_extension": ".py",
   "mimetype": "text/x-python",
   "name": "python",
   "nbconvert_exporter": "python",
   "pygments_lexer": "ipython3",
   "version": "3.9.13"
  },
  "orig_nbformat": 4
 },
 "nbformat": 4,
 "nbformat_minor": 2
}
