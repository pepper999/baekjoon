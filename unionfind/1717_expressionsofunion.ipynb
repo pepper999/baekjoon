{
 "cells": [
  {
   "cell_type": "markdown",
   "metadata": {},
   "source": [
    "### 1717 집합의 표현\n",
    "\n",
    "1. 기본적인 유니온 파인드"
   ]
  },
  {
   "cell_type": "code",
   "execution_count": null,
   "metadata": {},
   "outputs": [],
   "source": [
    "import sys\n",
    "input = sys.stdin.readline\n",
    "sys.setrecursionlimit(int(1e9))\n",
    "\n",
    "n, m = map(int, input().split())\n",
    "root = [i for i in range(n+1)]\n",
    "\n",
    "def find_root(x):\n",
    "    if root[x] != x:\n",
    "        root[x] = find_root(root[x])\n",
    "    return root[x]\n",
    "\n",
    "def union(a,b):\n",
    "    a = find_root(a)\n",
    "    b = find_root(b)\n",
    "    if a < b:\n",
    "        root[b] = a\n",
    "    else:\n",
    "        root[a] = b\n",
    "\n",
    "for _ in range(m):\n",
    "    o, a, b = map(int, input().split())\n",
    "    if o == 0:\n",
    "        union(a, b)\n",
    "    elif o == 1:\n",
    "        if find_root(a) == find_root(b):\n",
    "            print('YES')\n",
    "        else:\n",
    "            print('NO')"
   ]
  }
 ],
 "metadata": {
  "kernelspec": {
   "display_name": "Python 3",
   "language": "python",
   "name": "python3"
  },
  "language_info": {
   "codemirror_mode": {
    "name": "ipython",
    "version": 3
   },
   "file_extension": ".py",
   "mimetype": "text/x-python",
   "name": "python",
   "nbconvert_exporter": "python",
   "pygments_lexer": "ipython3",
   "version": "3.9.13"
  },
  "orig_nbformat": 4
 },
 "nbformat": 4,
 "nbformat_minor": 2
}
