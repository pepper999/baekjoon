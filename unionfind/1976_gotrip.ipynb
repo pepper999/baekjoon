{
 "cells": [
  {
   "cell_type": "markdown",
   "metadata": {},
   "source": [
    "### 1976 여행 가자\n",
    "\n",
    "1. 간단한 유니온 파인드 문제"
   ]
  },
  {
   "cell_type": "code",
   "execution_count": null,
   "metadata": {},
   "outputs": [],
   "source": [
    "import sys\n",
    "sys.setrecursionlimit(int(1e6))\n",
    "def sol():\n",
    "    def find_parents(a):\n",
    "        if parents[a] != a:\n",
    "            parents[a] = find_parents(parents[a])\n",
    "        return parents[a]\n",
    "\n",
    "    def union(a, b):\n",
    "        a = find_parents(a)\n",
    "        b = find_parents(b)\n",
    "        if a < b:\n",
    "            parents[b] = a\n",
    "        else:\n",
    "            parents[a] = b\n",
    "\n",
    "    N = int(input())\n",
    "    M = int(input())\n",
    "    parents = [i for i in range(N+1)]\n",
    "    for i in range(1, N+1):\n",
    "        edge = list(map(int, input().split()))\n",
    "        for j in range(1, N+1):\n",
    "            if edge[j-1] == 1:\n",
    "                union(i, j)\n",
    "    plans = list(map(int, input().split()))\n",
    "    for i in range(M-1):\n",
    "        if find_parents(plans[i]) != find_parents(plans[i+1]):\n",
    "            print('NO')\n",
    "            return\n",
    "    print('YES')\n",
    "\n",
    "sol()"
   ]
  }
 ],
 "metadata": {
  "kernelspec": {
   "display_name": "Python 3",
   "language": "python",
   "name": "python3"
  },
  "language_info": {
   "codemirror_mode": {
    "name": "ipython",
    "version": 3
   },
   "file_extension": ".py",
   "mimetype": "text/x-python",
   "name": "python",
   "nbconvert_exporter": "python",
   "pygments_lexer": "ipython3",
   "version": "3.9.13"
  },
  "orig_nbformat": 4
 },
 "nbformat": 4,
 "nbformat_minor": 2
}
