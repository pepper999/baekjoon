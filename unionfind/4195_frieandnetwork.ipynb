{
 "cells": [
  {
   "cell_type": "markdown",
   "metadata": {},
   "source": [
    "### 4195  친구 네트워크\n",
    "\n",
    "1. union 단계에서 a, b의 네트워크 숫자를 더해준다.\n",
    "\n",
    "2. 그 즉시, 네트워크 크기를 출력한다."
   ]
  },
  {
   "cell_type": "code",
   "execution_count": null,
   "metadata": {},
   "outputs": [],
   "source": [
    "def find(a):\n",
    "    if parents[a] != a:\n",
    "        parents[a] = find(parents[a])\n",
    "    return parents[a]\n",
    "\n",
    "def union(a, b):\n",
    "    a = find(a)\n",
    "    b = find(b)\n",
    "    if a != b:\n",
    "        parents[b] = a\n",
    "        size[a] += size[b]\n",
    "    print(size[a])\n",
    "\n",
    "T = int(input())\n",
    "for t in range(T):\n",
    "    F = int(input())\n",
    "    parents = {}\n",
    "    size = {}\n",
    "    for f in range(F):\n",
    "        friend1, friend2 = input().split()\n",
    "        if friend1 not in parents:\n",
    "            parents[friend1] = friend1\n",
    "            size[friend1] = 1\n",
    "        if friend2 not in parents:\n",
    "            parents[friend2] = friend2\n",
    "            size[friend2] = 1\n",
    "        union(friend1, friend2)"
   ]
  }
 ],
 "metadata": {
  "kernelspec": {
   "display_name": "Python 3",
   "language": "python",
   "name": "python3"
  },
  "language_info": {
   "codemirror_mode": {
    "name": "ipython",
    "version": 3
   },
   "file_extension": ".py",
   "mimetype": "text/x-python",
   "name": "python",
   "nbconvert_exporter": "python",
   "pygments_lexer": "ipython3",
   "version": "3.11.4"
  },
  "orig_nbformat": 4
 },
 "nbformat": 4,
 "nbformat_minor": 2
}
