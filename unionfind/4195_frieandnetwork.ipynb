{
 "cells": [
  {
   "cell_type": "markdown",
   "metadata": {},
   "source": [
    "### 4195  친구 네트워크"
   ]
  },
  {
   "cell_type": "code",
   "execution_count": 2,
   "metadata": {},
   "outputs": [
    {
     "name": "stdout",
     "output_type": "stream",
     "text": [
      "2\n",
      "3\n",
      "4\n",
      "2\n",
      "2\n",
      "4\n"
     ]
    }
   ],
   "source": [
    "import sys\n",
    "sys.setrecursionlimit = (int(1e9))\n",
    "def union(a, b):\n",
    "    a = find(a)\n",
    "    b = find(b)\n",
    "    if a != b:\n",
    "        parents[b] = a\n",
    "        network_size[a] += network_size[b]\n",
    "    else:\n",
    "        parents[a] = b\n",
    "\n",
    "def find(a):\n",
    "    if a != parents[a]:\n",
    "        a = find(parents[a])\n",
    "    return parents[a]\n",
    "    \n",
    "T = int(input())\n",
    "for t in range(T):\n",
    "    N = int(input())\n",
    "    parents = {}\n",
    "    network_size = {}\n",
    "    for _ in range(N):\n",
    "        friend1, friend2 = input().split()\n",
    "        if friend1 not in parents:\n",
    "            parents[friend1] = friend1\n",
    "            network_size[friend1] = 1\n",
    "        if friend2 not in parents:\n",
    "            parents[friend2] = friend2\n",
    "            network_size[friend2] = 1\n",
    "        union(friend1, friend2)\n",
    "        print(network_size[find(friend1)])"
   ]
  }
 ],
 "metadata": {
  "kernelspec": {
   "display_name": "Python 3",
   "language": "python",
   "name": "python3"
  },
  "language_info": {
   "codemirror_mode": {
    "name": "ipython",
    "version": 3
   },
   "file_extension": ".py",
   "mimetype": "text/x-python",
   "name": "python",
   "nbconvert_exporter": "python",
   "pygments_lexer": "ipython3",
   "version": "3.11.4"
  },
  "orig_nbformat": 4
 },
 "nbformat": 4,
 "nbformat_minor": 2
}
