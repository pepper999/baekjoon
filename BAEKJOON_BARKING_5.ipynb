{
 "cells": [
  {
   "cell_type": "markdown",
   "metadata": {},
   "source": [
    "# 바킹독 0x05 스택"
   ]
  },
  {
   "cell_type": "markdown",
   "metadata": {},
   "source": [
    "### 10828 스택\n",
    "  1. python 의 list를 이용해 stack 자료구조형과 유사한 자료구조를 형성\n",
    "  \n",
    "  2. stack 의 여러 기능을 함수를 정의하여 간단하게 구현\n"
   ]
  },
  {
   "cell_type": "code",
   "execution_count": null,
   "metadata": {},
   "outputs": [],
   "source": [
    "import sys\n",
    "input = sys.stdin.readline\n",
    "\n",
    "class stack:\n",
    "    def __init__(self):\n",
    "        self.top = []\n",
    "    \n",
    "    def size(self):\n",
    "        return len(self.top)\n",
    "    \n",
    "    def empty(self) -> bool :\n",
    "        return len(self.top) == 0\n",
    "    \n",
    "    def push(self, item):\n",
    "        self.top.append(item)\n",
    "\n",
    "    def pop(self):\n",
    "        if not self.empty():\n",
    "            return self.top.pop(-1)\n",
    "        else:\n",
    "            return -1\n",
    "    \n",
    "    def peek(self):\n",
    "        if not self.empty():\n",
    "            return self.top[-1]\n",
    "        else:\n",
    "            return -1\n",
    "\n",
    "\n",
    "stk = stack()\n",
    "\n",
    "N = int(input())\n",
    "for _ in range(N):\n",
    "    i = list(input().split())\n",
    "    if i[0] == 'pop':\n",
    "        item = stack.pop(stk)\n",
    "        print(item)\n",
    "    elif i[0] == 'size':\n",
    "        print(stack.size(stk))\n",
    "    elif i[0] == 'top':\n",
    "        print(stack.peek(stk))\n",
    "    elif i[0] == 'empty':\n",
    "        if stack.empty(stk) == True:\n",
    "            print(1)\n",
    "        else:\n",
    "            print(0)\n",
    "    else:\n",
    "        stack.push(stk, i[1])"
   ]
  },
  {
   "cell_type": "markdown",
   "metadata": {},
   "source": [
    "### 10773 제로\n",
    "  1. pop 과 push 만 구현한다면 쉽게 풀 수 있음!"
   ]
  },
  {
   "cell_type": "code",
   "execution_count": null,
   "metadata": {},
   "outputs": [],
   "source": [
    "import sys\n",
    "input = sys.stdin.readline\n",
    "\n",
    "class stack:\n",
    "    def __init__(self):\n",
    "        self.top = []\n",
    "    \n",
    "    def push(self, item):\n",
    "        self.top.append(item)\n",
    "\n",
    "    def pop(self):\n",
    "        if not self.empty():\n",
    "            return self.top.pop(-1)\n",
    "        else:\n",
    "            return -1\n",
    "\n",
    "stk = stack()\n",
    "\n",
    "K = int(input())\n",
    "for i in range(K):\n",
    "    num = int(input())\n",
    "    if num == 0:\n",
    "        stk.pop()\n",
    "    else:\n",
    "        stk.push(num)\n",
    "\n",
    "print(sum(stk.top))"
   ]
  },
  {
   "cell_type": "markdown",
   "metadata": {},
   "source": [
    "### 스택 수열\n",
    "  \n",
    "  1. 마찬가지로, push 와 pop 만 구현할 수 있다면 간단하게 풀림!! "
   ]
  },
  {
   "cell_type": "code",
   "execution_count": null,
   "metadata": {},
   "outputs": [],
   "source": [
    "import sys\n",
    "input = sys.stdin.readline\n",
    "\n",
    "class stack:\n",
    "    def __init__(self):\n",
    "        self.top = []\n",
    "\n",
    "    \n",
    "    def push(self, item):\n",
    "        self.top.append(item)\n",
    "    \n",
    "    def pop(self):\n",
    "        self.top.pop(-1)\n",
    "    \n",
    "    def peek(self):\n",
    "        if not self.empty():\n",
    "            return self.top[-1]\n",
    "        else:\n",
    "            return 0\n",
    "    \n",
    "    def empty(self) -> bool:\n",
    "        return len(self.top) == 0\n",
    "\n",
    "N = int(input())\n",
    "stk = stacK()\n",
    "j = 1\n",
    "for i in range(1, N+1):\n",
    "    num = int(input())\n",
    "    if stk.peek() <= num:\n",
    "        while stk.peek() <=num:\n",
    "            stk.push(j)\n",
    "            j += 1\n",
    "            print('+')\n",
    "    else:\n",
    "        stk.pop()\n",
    "        print('-')"
   ]
  },
  {
   "cell_type": "markdown",
   "metadata": {},
   "source": [
    "### 2493 탑\n",
    "  1. "
   ]
  },
  {
   "cell_type": "code",
   "execution_count": 11,
   "metadata": {},
   "outputs": [],
   "source": [
    "import sys\n",
    "input = sys.stdin.readline\n",
    "\n",
    "class stack:\n",
    "    def __init__(self):\n",
    "        self.top = []\n",
    "\n",
    "    \n",
    "    def push(self, item):\n",
    "        self.top.append(item)\n",
    "    \n",
    "    def pop(self):\n",
    "        self.top.pop(-1)\n",
    "    \n",
    "    def peek(self):\n",
    "        if not self.empty():\n",
    "            return self.top[-1]\n",
    "        else:\n",
    "            return 0\n",
    "    \n",
    "    def empty(self) -> bool:\n",
    "        return len(self.top) == 0\n",
    "\n",
    "skt = stack()\n",
    "\n",
    "N = int(input())\n",
    "ls = list(map(int, input().split()))\n",
    "cnt = 0\n",
    "for i in ls:\n",
    "    if skt.top() < i:\n",
    "        print(cnt)\n",
    "    else:\n",
    "        skt.push(i)\n",
    "        cnt = i\n",
    "        print(cnt)"
   ]
  }
 ],
 "metadata": {
  "kernelspec": {
   "display_name": "Python 3",
   "language": "python",
   "name": "python3"
  },
  "language_info": {
   "codemirror_mode": {
    "name": "ipython",
    "version": 3
   },
   "file_extension": ".py",
   "mimetype": "text/x-python",
   "name": "python",
   "nbconvert_exporter": "python",
   "pygments_lexer": "ipython3",
   "version": "3.9.13"
  },
  "orig_nbformat": 4
 },
 "nbformat": 4,
 "nbformat_minor": 2
}
