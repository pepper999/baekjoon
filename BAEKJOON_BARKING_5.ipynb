{
 "cells": [
  {
   "cell_type": "markdown",
   "metadata": {},
   "source": [
    "# 바킹독 0x05 스택"
   ]
  },
  {
   "cell_type": "markdown",
   "metadata": {},
   "source": [
    "### 10828 스택\n",
    "  1. python 의 list를 이용해 stack 자료구조형과 유사한 자료구조를 형성\n",
    "  \n",
    "  2. stack 의 여러 기능을 함수를 정의하여 간단하게 구현\n"
   ]
  },
  {
   "cell_type": "code",
   "execution_count": null,
   "metadata": {},
   "outputs": [],
   "source": [
    "import sys\n",
    "input = sys.stdin.readline\n",
    "\n",
    "class stack:\n",
    "    def __init__(self):\n",
    "        self.top = []\n",
    "    \n",
    "    def size(self):\n",
    "        return len(self.top)\n",
    "    \n",
    "    def empty(self) -> bool :\n",
    "        return len(self.top) == 0\n",
    "    \n",
    "    def push(self, item):\n",
    "        self.top.append(item)\n",
    "\n",
    "    def pop(self):\n",
    "        if not self.empty():\n",
    "            return self.top.pop(-1)\n",
    "        else:\n",
    "            return -1\n",
    "    \n",
    "    def peek(self):\n",
    "        if not self.empty():\n",
    "            return self.top[-1]\n",
    "        else:\n",
    "            return -1\n",
    "\n",
    "\n",
    "stk = stack()\n",
    "\n",
    "N = int(input())\n",
    "for _ in range(N):\n",
    "    i = list(input().split())\n",
    "    if i[0] == 'pop':\n",
    "        item = stack.pop(stk)\n",
    "        print(item)\n",
    "    elif i[0] == 'size':\n",
    "        print(stack.size(stk))\n",
    "    elif i[0] == 'top':\n",
    "        print(stack.peek(stk))\n",
    "    elif i[0] == 'empty':\n",
    "        if stack.empty(stk) == True:\n",
    "            print(1)\n",
    "        else:\n",
    "            print(0)\n",
    "    else:\n",
    "        stack.push(stk, i[1])"
   ]
  },
  {
   "cell_type": "markdown",
   "metadata": {},
   "source": [
    "### 10773 제로\n",
    "  1. pop 과 push 만 구현한다면 쉽게 풀 수 있음!"
   ]
  },
  {
   "cell_type": "code",
   "execution_count": null,
   "metadata": {},
   "outputs": [],
   "source": [
    "import sys\n",
    "input = sys.stdin.readline\n",
    "\n",
    "class stack:\n",
    "    def __init__(self):\n",
    "        self.top = []\n",
    "    \n",
    "    def push(self, item):\n",
    "        self.top.append(item)\n",
    "\n",
    "    def pop(self):\n",
    "        if not self.empty():\n",
    "            return self.top.pop(-1)\n",
    "        else:\n",
    "            return -1\n",
    "\n",
    "stk = stack()\n",
    "\n",
    "K = int(input())\n",
    "for i in range(K):\n",
    "    num = int(input())\n",
    "    if num == 0:\n",
    "        stk.pop()\n",
    "    else:\n",
    "        stk.push(num)\n",
    "\n",
    "print(sum(stk.top))"
   ]
  },
  {
   "cell_type": "markdown",
   "metadata": {},
   "source": [
    "### 스택 수열\n",
    "  \n",
    "  1. 마찬가지로, push 와 pop 만 구현할 수 있다면 간단하게 풀림!! "
   ]
  },
  {
   "cell_type": "code",
   "execution_count": null,
   "metadata": {},
   "outputs": [],
   "source": [
    "import sys\n",
    "input = sys.stdin.readline\n",
    "\n",
    "class stack:\n",
    "    def __init__(self):\n",
    "        self.top = []\n",
    "\n",
    "    \n",
    "    def push(self, item):\n",
    "        self.top.append(item)\n",
    "    \n",
    "    def pop(self):\n",
    "        self.top.pop(-1)\n",
    "    \n",
    "    def peek(self):\n",
    "        if not self.empty():\n",
    "            return self.top[-1]\n",
    "        else:\n",
    "            return 0\n",
    "    \n",
    "    def empty(self) -> bool:\n",
    "        return len(self.top) == 0\n",
    "\n",
    "N = int(input())\n",
    "stk = stacK()\n",
    "j = 1\n",
    "for i in range(1, N+1):\n",
    "    num = int(input())\n",
    "    if stk.peek() <= num:\n",
    "        while stk.peek() <=num:\n",
    "            stk.push(j)\n",
    "            j += 1\n",
    "            print('+')\n",
    "    else:\n",
    "        stk.pop()\n",
    "        print('-')"
   ]
  },
  {
   "cell_type": "markdown",
   "metadata": {},
   "source": [
    "### 2493 탑\n",
    "  1. Stack 을 사용하여 해결 가능\n",
    "  \n",
    "  2. Stack 에 탑의 높이와 위치 정보를 dictionary 형태로 저장\n",
    "\n",
    "  3. 탑의 높이가 Stack의 peek보다 크다면, Stack 의 peek 값이 input 보다 클 때 까지 pop 반복\n",
    "\n",
    "  4. peek 값이 탑의 높이 보다 크거나 더 pop할 것이 없을 경우에, peek의 value 에 저장된 위치 정보 호출\n",
    "\n",
    "  5. input이 모두 처리될 때 까지 반복."
   ]
  },
  {
   "cell_type": "code",
   "execution_count": 1,
   "metadata": {},
   "outputs": [
    {
     "ename": "KeyboardInterrupt",
     "evalue": "",
     "output_type": "error",
     "traceback": [
      "\u001b[0;31m---------------------------------------------------------------------------\u001b[0m",
      "\u001b[0;31mKeyboardInterrupt\u001b[0m                         Traceback (most recent call last)",
      "Cell \u001b[0;32mIn[1], line 26\u001b[0m\n\u001b[1;32m     22\u001b[0m         \u001b[39mreturn\u001b[39;00m \u001b[39mlen\u001b[39m(\u001b[39mself\u001b[39m\u001b[39m.\u001b[39mtop) \u001b[39m==\u001b[39m \u001b[39m0\u001b[39m\n\u001b[1;32m     24\u001b[0m skt \u001b[39m=\u001b[39m stack()\n\u001b[0;32m---> 26\u001b[0m N \u001b[39m=\u001b[39m \u001b[39mint\u001b[39m(\u001b[39minput\u001b[39;49m())\n\u001b[1;32m     27\u001b[0m ls \u001b[39m=\u001b[39m \u001b[39mlist\u001b[39m(\u001b[39mmap\u001b[39m(\u001b[39mint\u001b[39m, \u001b[39minput\u001b[39m()\u001b[39m.\u001b[39msplit()))\n\u001b[1;32m     28\u001b[0m dict_ls \u001b[39m=\u001b[39m {}\n",
      "\u001b[0;31mKeyboardInterrupt\u001b[0m: "
     ]
    }
   ],
   "source": [
    "import sys\n",
    "input = sys.stdin.readline\n",
    "\n",
    "class stack:\n",
    "    def __init__(self):\n",
    "        self.top = []\n",
    "    \n",
    "    def push(self, item):\n",
    "        self.top.append(item)\n",
    "    \n",
    "    def pop(self):\n",
    "        self.top.pop(-1)\n",
    "    \n",
    "    def peek(self):\n",
    "        if not self.empty():\n",
    "            return self.top[-1]\n",
    "        else:\n",
    "            return {0:0}\n",
    "    \n",
    "    def empty(self) -> bool:\n",
    "        return len(self.top) == 0\n",
    "\n",
    "skt = stack()\n",
    "\n",
    "N = int(input())\n",
    "ls = list(map(int, input().split()))\n",
    "\n",
    "# list로 저장한 input 값을 하나씩 반복\n",
    "for i in range(len(ls)):\n",
    "        # dict 형태로 저장된 stack 의 peek 값에서 value 값 즉 높이를 호출, input 탑의 높이와 비교\n",
    "        # peek의 높이가 더 클 경우, peek 값의 key 값 즉 위치 정보를 print\n",
    "        if list(skt.peek().values())[0] >= ls[i]:\n",
    "            print(list(skt.peek().keys())[0], end = ' ')\n",
    "            skt.push({i+1:ls[i]})\n",
    "        # input의 높이가 더 클 경우, peek 값을 pop하면서 input보다 높은 peek 값을 찾음.\n",
    "        # 더 큰 peek 값을 찾았거나, stack 의 끝까지 찾지 못했다면, 위치정보를 호출.\n",
    "        else:\n",
    "            while list(skt.peek().values())[0] < ls[i] and list(skt.peek().values())[0] != 0:\n",
    "                skt.pop()\n",
    "            print(list(skt.peek().keys())[0], end = ' ')\n",
    "            skt.push({i+1:ls[i]})"
   ]
  }
 ],
 "metadata": {
  "kernelspec": {
   "display_name": "Python 3",
   "language": "python",
   "name": "python3"
  },
  "language_info": {
   "codemirror_mode": {
    "name": "ipython",
    "version": 3
   },
   "file_extension": ".py",
   "mimetype": "text/x-python",
   "name": "python",
   "nbconvert_exporter": "python",
   "pygments_lexer": "ipython3",
   "version": "3.10.8"
  },
  "orig_nbformat": 4
 },
 "nbformat": 4,
 "nbformat_minor": 2
}
