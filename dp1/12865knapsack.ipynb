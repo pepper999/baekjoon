{
 "cells": [
  {
   "cell_type": "markdown",
   "metadata": {},
   "source": [
    "### 12865 평범한 배낭\n",
    "\n",
    "1. 2차원 행렬을 통해서 풂\n",
    "\n",
    "2. x 차원은 각 가방, y 차원은 무게가 i 일 때 x 들어갈 수 있는 최대의 가치\n",
    "\n",
    "3. 물건의 무게를 순회하면서, y 보다 작을 때 물건이 들어갈 수 있는 경우 vs 이전에 다른 물건이 들어갔을 떄의 최대값 비교\n",
    "\n",
    "4. 2차원 dp 행렬을 끝까지 돌면서 최댓값 갱신"
   ]
  },
  {
   "cell_type": "code",
   "execution_count": 15,
   "metadata": {},
   "outputs": [
    {
     "name": "stdout",
     "output_type": "stream",
     "text": [
      "14\n"
     ]
    }
   ],
   "source": [
    "N, K = map(int, input().split())\n",
    "stuff = [list(map(int, input().split())) for _ in range(N)]\n",
    "dp = [[0 for _ in range(K+1)] for _ in range(N+1)]\n",
    "\n",
    "# dp 행렬을 순회하면서 검사\n",
    "for i in range(1, N+1):\n",
    "    for j in range(1, K+1):\n",
    "        weight, val = stuff[i-1]\n",
    "        # 현재 행렬의 무게 < 현재 물건의 무게이면 배낭에 물건을 넣지 못함. 이전 값들중 최대 값으로 갱신\n",
    "        if j < weight:\n",
    "            dp[i][j] = dp[i-1][j]\n",
    "        # 배낭에 물건을 넣을 수 있다면, 현재 물건을 넣는 경우 vs 다른 물건을 넣은 경우 중 최대 를 비교해서 최댓값 갱신\n",
    "        else:\n",
    "            dp[i][j] = max(dp[i-1][j], val + dp[i-1][j-weight])\n",
    "print(dp[-1][-1])"
   ]
  }
 ],
 "metadata": {
  "kernelspec": {
   "display_name": "Python 3",
   "language": "python",
   "name": "python3"
  },
  "language_info": {
   "codemirror_mode": {
    "name": "ipython",
    "version": 3
   },
   "file_extension": ".py",
   "mimetype": "text/x-python",
   "name": "python",
   "nbconvert_exporter": "python",
   "pygments_lexer": "ipython3",
   "version": "3.9.13"
  },
  "orig_nbformat": 4
 },
 "nbformat": 4,
 "nbformat_minor": 2
}
