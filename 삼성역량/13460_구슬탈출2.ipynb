{
 "cells": [
  {
   "cell_type": "markdown",
   "metadata": {},
   "source": [
    "### 구슬 탈출 \n",
    "\n",
    "1. bfs 돌리면 댐"
   ]
  },
  {
   "cell_type": "code",
   "execution_count": null,
   "metadata": {},
   "outputs": [],
   "source": [
    "from collections import deque\n",
    "\n",
    "def init():\n",
    "    rx, ry, bx, by = 0, 0, 0, 0\n",
    "    for i in range(n):\n",
    "        for j in range(m):\n",
    "            if graph[i][j] == 'R':\n",
    "                rx, ry = i, j\n",
    "            elif graph[i][j] == 'B':\n",
    "                bx, by = i, j\n",
    "    q.append((rx, ry, bx, by, 1))\n",
    "    visited[rx][ry][bx][by] = True\n",
    "\n",
    "\n",
    "def move(x, y, dx, dy):\n",
    "    c = 0\n",
    "    while graph[x + dx][y + dy] != '#' and graph[x][y] != 'O':\n",
    "        x += dx\n",
    "        y += dy\n",
    "        c += 1\n",
    "    return x, y, c\n",
    "\n",
    "\n",
    "def bfs():\n",
    "    while q:\n",
    "        crx, cry, cbx, cby, cnt = q.popleft()\n",
    "        if cnt > 10: break\n",
    "        for i in range(4):\n",
    "            nrx, nry, rc = move(crx, cry, *d[i])  \n",
    "            nbx, nby, bc = move(cbx, cby, *d[i])  \n",
    "            if graph[nbx][nby] != 'O':  \n",
    "                if graph[nrx][nry] == 'O':  \n",
    "                    print(cnt)\n",
    "                    return\n",
    "                if nrx == nbx and nry == nby:  \n",
    "                    if rc > bc:  \n",
    "                        nrx -= d[i][0]\n",
    "                        nry -= d[i][1]\n",
    "                    else:\n",
    "                        nbx -= d[i][0]\n",
    "                        nby -= d[i][1]\n",
    "                if not visited[nrx][nry][nbx][nby]:\n",
    "                    visited[nrx][nry][nbx][nby] = True\n",
    "                    q.append((nrx, nry, nbx, nby, cnt + 1))\n",
    "    print(-1)\n",
    "\n",
    "\n",
    "d = [(-1, 0), (1, 0), (0, 1), (0, -1)]\n",
    "q = deque()\n",
    "n, m = map(int, input().split())\n",
    "graph = [list(input()) for _ in range(n)]\n",
    "visited = [[[[False] * m for _ in range(n)] for _ in range(m)] for _ in range(n)]\n",
    "\n",
    "init()\n",
    "bfs()"
   ]
  }
 ],
 "metadata": {
  "language_info": {
   "name": "python"
  }
 },
 "nbformat": 4,
 "nbformat_minor": 2
}
