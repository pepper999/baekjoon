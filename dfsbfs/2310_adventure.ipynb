{
 "cells": [
  {
   "cell_type": "markdown",
   "metadata": {},
   "source": [
    "### 2310 어드벤처 게임\n",
    "\n",
    "1. 재귀로 해결!\n",
    "\n",
    "2. 재귀함수에 현재의 돈을 저장해놓아서 진행하면서 계속 비교하면서 전진함\n",
    "\n",
    "3. 진행이 불가능한 상황에서는 재귀함수 종료, 결국 재귀함수로 종착지에 도착했다면 Yes 출력"
   ]
  },
  {
   "cell_type": "code",
   "execution_count": 14,
   "metadata": {},
   "outputs": [
    {
     "name": "stdout",
     "output_type": "stream",
     "text": [
      "No\n",
      "Yes\n"
     ]
    }
   ],
   "source": [
    "def dfs(now, money):\n",
    "    global flag\n",
    "    # 만약 현재 좌표가 목표점이라면, 성공표시\n",
    "    if now == N:\n",
    "        flag = 1\n",
    "        return\n",
    "    else:\n",
    "        for i in range(2, len(graph[now])):\n",
    "            next = graph[now][i]\n",
    "            if not visited[next]:\n",
    "                # 래프리콘을 만났다면, 현재 돈 갱신\n",
    "                if graph[next][0] == 'L':\n",
    "                    visited[next] = 1\n",
    "                    dfs(next, max(money, graph[next][1]))\n",
    "                    visited[next] = 0\n",
    "                # 트롤을 만났다면, 현재 돈이 요구치보다 높거나 같을때만 진행\n",
    "                elif graph[next][0] == 'T':\n",
    "                    if money >= graph[next][1]:\n",
    "                        visited[next] = 1\n",
    "                        dfs(next, money - graph[next][1])\n",
    "                        visited[next] = 0\n",
    "                # 빈방이라면 그냥 진행\n",
    "                else:\n",
    "                    visited[next] = 1\n",
    "                    dfs(next, money)\n",
    "                    visited[next] = 0\n",
    "    \n",
    "while True:\n",
    "    N = int(input())\n",
    "    if N == 0:\n",
    "        break\n",
    "    graph = [[] for _ in range(N+1)]\n",
    "    for i in range(1, N+1):\n",
    "        info = list(map(lambda x: int(x) if x.isdigit() else x, input().split()))\n",
    "        for j in range(len(info)-1):\n",
    "            graph[i].append(info[j])\n",
    "    visited = [0] * (N+1)\n",
    "    flag = 0\n",
    "    dfs(1,0)\n",
    "    if flag:\n",
    "        print('Yes')\n",
    "    else:\n",
    "        print('No')"
   ]
  },
  {
   "cell_type": "code",
   "execution_count": 11,
   "metadata": {},
   "outputs": [
    {
     "data": {
      "text/plain": [
       "[[], ['E', 0, 2, 3], ['L', 201, 2, 3], ['L', 10, 4], ['T', 15, 2, 3, 1]]"
      ]
     },
     "execution_count": 11,
     "metadata": {},
     "output_type": "execute_result"
    }
   ],
   "source": [
    "graph"
   ]
  }
 ],
 "metadata": {
  "kernelspec": {
   "display_name": "Python 3",
   "language": "python",
   "name": "python3"
  },
  "language_info": {
   "codemirror_mode": {
    "name": "ipython",
    "version": 3
   },
   "file_extension": ".py",
   "mimetype": "text/x-python",
   "name": "python",
   "nbconvert_exporter": "python",
   "pygments_lexer": "ipython3",
   "version": "3.9.13"
  },
  "orig_nbformat": 4
 },
 "nbformat": 4,
 "nbformat_minor": 2
}
