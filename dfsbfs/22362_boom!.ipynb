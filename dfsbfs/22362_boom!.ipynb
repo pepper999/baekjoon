{
 "cells": [
  {
   "cell_type": "markdown",
   "metadata": {},
   "source": [
    "### 22362 폭발의 연쇄\n",
    "\n",
    "1. 주어진 좌표를 기준으로, 폭탄의 범위만큼 반복하면서 델타탐색을 실시\n",
    "\n",
    "2. 델타탐색 실시 중, 다른 폭탄을 만나게 되면 다시 해당 좌표에서 델타탐색을 실시하는 재귀함수를 구성\n",
    "\n",
    "3. 만난 폭탄은 이미 터졌으므로, 0 으로 바꿔주어 다시 탐색하는 경우를 없게 만듦"
   ]
  },
  {
   "cell_type": "code",
   "execution_count": null,
   "metadata": {},
   "outputs": [],
   "source": [
    "# delta 탐색 함수 정의\n",
    "def search(x, y):\n",
    "    global cnt\n",
    "    # 지정된 폭탄의 범위만큼 돌면서 탐색\n",
    "    for i in range(1, D + 1):\n",
    "        for j in range(4):\n",
    "            nx = x + (delta[j][0] * i)\n",
    "            ny = y + (delta[j][1] * i)\n",
    "            # 폭탄을 만나게 되면, 터뜨리고 카운트하고 다시 해당 좌표에서 탐색\n",
    "            if 0 <= nx < W and 0 <= ny < H and booms[nx][ny] == -1:\n",
    "                booms[nx][ny] = 0\n",
    "                cnt += 1\n",
    "                search(nx, ny)\n",
    "\n",
    "while True:\n",
    "    W, H, N, D, B = map(int, input().split())\n",
    "    # 종료 조건 명시\n",
    "    if W == H == N == D == B == 0:\n",
    "        break\n",
    "    # 폭탄들을 표시하는 그래프 만듦\n",
    "    booms = [[0 for _ in range(H)] for _ in range(W)]\n",
    "    delta = [(0,-1), (0,1), (1,0), (-1,0)]\n",
    "    cnt = 1\n",
    "    for i in range(N):\n",
    "        x, y = map(int , input().split())\n",
    "        booms[x-1][y-1] = -1\n",
    "        if i == B-1:\n",
    "            bbang = [x-1, y-1]\n",
    "            booms[x-1][y-1] = 0\n",
    "    search(bbang[0], bbang[1])\n",
    "    print(cnt)\n",
    "    \n",
    "\n",
    "\n",
    "\n"
   ]
  }
 ],
 "metadata": {
  "language_info": {
   "name": "python"
  },
  "orig_nbformat": 4
 },
 "nbformat": 4,
 "nbformat_minor": 2
}
