{
 "cells": [
  {
   "cell_type": "markdown",
   "metadata": {},
   "source": [
    "### 16946 벽 부수고 이동하기 4\n",
    "\n",
    "1. 모든 벽을 다 돌면서 탐색을 하게 되면 너무 느림\n",
    "\n",
    "2. 벽이 아닌 지점에서 탐색을 하면서, 해당 지점에서 갈 수 있는 좌표를 탐색\n",
    "\n",
    "3. 더이상 탐색할 수 없게 된다면, 해당 지역의 모든 좌표를 돌아본 것!\n",
    "\n",
    "4. 모든 좌표에 대해서 탐색을 실시했다면 벽에서 상하좌우를 탐색\n",
    "\n",
    "5. 어떤 좌표에서, 벽이 아닌 곳이 나온다면 해당 벽을 부수면 갈 수 있는 곳이므로 그 좌표가 속한 지역의 좌표 갯수를 더해줌\n",
    "\n",
    "6. 만약 벽의 두개 이상의 좌표가 동일한 지역을 접하고 있을 수도 있기 때문에, 방문한 지역을 따로 저장해서 중복 저장 방지"
   ]
  },
  {
   "cell_type": "code",
   "execution_count": null,
   "metadata": {},
   "outputs": [],
   "source": [
    "# dfs 함수 정의\n",
    "def dfs(x,y,num):\n",
    "    stack = [[x,y]]\n",
    "    visited[x][y] = num\n",
    "    cnt = 1\n",
    "    while stack:\n",
    "        x, y = stack.pop()\n",
    "        for i in range(4):\n",
    "            nx = x + delta[i][0]\n",
    "            ny = y + delta[i][1]\n",
    "            # 만약 탐색가능한 좌표를 만나면, 해당 지역의 좌표갯수 cnt + 1\n",
    "            if 0 <= nx < N and 0 <= ny < M and not visited[nx][ny] and not graph[nx][ny]:\n",
    "                stack.append([nx,ny])\n",
    "                visited[nx][ny] = num\n",
    "                cnt += 1\n",
    "    # 해당 지역의 좌표갯수 return\n",
    "    return cnt\n",
    "\n",
    "N, M = map(int, input().split())\n",
    "graph = []\n",
    "wall = []\n",
    "delta = [(-1,0), (1,0), (0,-1), (0,1)]\n",
    "for i in range(N):\n",
    "    graph.append(list(map(int, list(input()))))\n",
    "    for j in range(M):\n",
    "        if graph[i][j] == 1:\n",
    "            wall.append([i,j])\n",
    "visited = [[0 for _ in range(M)] for _ in range(N)]\n",
    "# visited 행렬과 graph 에서 값이 안햇갈릴 수 있게 지역번호 2번부터 시작\n",
    "num = 2\n",
    "cnt_list = [0,0]\n",
    "for i in range(N):\n",
    "    for j in range(M):\n",
    "        if not graph[i][j] and not visited[i][j]:\n",
    "            # 해당 지역에 좌표가 몇개가 있는지를 저장\n",
    "            cnt_list.append(dfs(i, j, num))\n",
    "            num += 1\n",
    "# 모든 벽좌표에 대해서 갈 수 있는 좌표를 탐색\n",
    "for i, j in wall:\n",
    "    x, y = i, j\n",
    "    cnt = 1\n",
    "    visit = []\n",
    "    # 상하좌우를 탐색\n",
    "    for k in range(4):\n",
    "        nx = x + delta[k][0]\n",
    "        ny = y + delta[k][1]\n",
    "        # 좌표가 정상적인 범위내에 있고 아직 방문하지 않은 좌표라면 더해줌\n",
    "        if 0 <= nx < N and 0 <= ny < M and visited[nx][ny] not in visit:\n",
    "            visit.append(visited[nx][ny])\n",
    "            cnt += cnt_list[visited[nx][ny]]\n",
    "    # 벽좌표의 값 갱신\n",
    "    graph[i][j] = cnt % 10\n",
    "for i in range(N):\n",
    "    print(''.join(list(map(str, graph[i]))))"
   ]
  }
 ],
 "metadata": {
  "kernelspec": {
   "display_name": "Python 3",
   "language": "python",
   "name": "python3"
  },
  "language_info": {
   "codemirror_mode": {
    "name": "ipython",
    "version": 3
   },
   "file_extension": ".py",
   "mimetype": "text/x-python",
   "name": "python",
   "nbconvert_exporter": "python",
   "pygments_lexer": "ipython3",
   "version": "3.9.13"
  },
  "orig_nbformat": 4
 },
 "nbformat": 4,
 "nbformat_minor": 2
}
