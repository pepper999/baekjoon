{
 "cells": [
  {
   "cell_type": "markdown",
   "metadata": {},
   "source": [
    "### 13913 숨바꼭질 4\n",
    "\n",
    "1. 경로를 저장하는 리스트를 따로 하나 더 만듦\n",
    "\n",
    "2. 경로 저장 리스트의 인덱스 == 해당 좌표 이전에 어디에 있었는가?\n",
    "\n",
    "3. 마지막에 경로 저장 리스트를 돌면서 결과값 반환"
   ]
  },
  {
   "cell_type": "code",
   "execution_count": 30,
   "metadata": {},
   "outputs": [
    {
     "name": "stdout",
     "output_type": "stream",
     "text": [
      "4\n",
      "5 4 8 16 17\n"
     ]
    }
   ],
   "source": [
    "from collections import deque\n",
    "\n",
    "N, K = map(int, input().split())\n",
    "visited = [0] * 200001\n",
    "path = [0] * 200001\n",
    "def bfs(N):\n",
    "    que = deque([N])\n",
    "    visited[N] = 1\n",
    "    while que:\n",
    "        now = que.popleft()\n",
    "        if now == K:\n",
    "            print(visited[now]-1)\n",
    "            rlt = []\n",
    "            # 역순으로 도착점부터 출발점까지 경로 리스트를 순회하면서 결과값 찾기\n",
    "            while now != N:\n",
    "                rlt.append(now)\n",
    "                now = path[now]\n",
    "            rlt.append(N)\n",
    "            # 역순이기 떄문에 뒤집어서 반환\n",
    "            print(*rlt[::-1])\n",
    "        delta = [now+1, now-1, now*2]\n",
    "        for next in delta:\n",
    "            if 0 <= next < 200001 and not visited[next]:\n",
    "                que.append(next)\n",
    "                visited[next] = visited[now] + 1\n",
    "                path[next] = now\n",
    "bfs(N)"
   ]
  }
 ],
 "metadata": {
  "kernelspec": {
   "display_name": "Python 3",
   "language": "python",
   "name": "python3"
  },
  "language_info": {
   "codemirror_mode": {
    "name": "ipython",
    "version": 3
   },
   "file_extension": ".py",
   "mimetype": "text/x-python",
   "name": "python",
   "nbconvert_exporter": "python",
   "pygments_lexer": "ipython3",
   "version": "3.9.13"
  },
  "orig_nbformat": 4
 },
 "nbformat": 4,
 "nbformat_minor": 2
}
