{
 "cells": [
  {
   "cell_type": "markdown",
   "metadata": {},
   "source": [
    "### 1245 농장 관리\n",
    "\n",
    "1. 8방향 전부 자신보다 작거나 같은 값인 좌표를 찾는다.\n",
    "\n",
    "2. 만약 주위에 자신과 같은 높이의 좌표가 있다면, 그 좌표에서 다시 8방향을 탐색시킴\n",
    "\n",
    "3. 모든 갈 수 있는 같은 높이의 좌표를 다 탐색했을 떄, 더 높은 좌표가 없다면 산봉우리\n",
    "\n",
    "4. 아니라면, 다시 다른 좌표를 탐색하러 간다."
   ]
  },
  {
   "cell_type": "code",
   "execution_count": null,
   "metadata": {},
   "outputs": [],
   "source": [
    "import sys\n",
    "sys.setrecursionlimit(10 ** 6)\n",
    "\n",
    "N, M = map(int, input().split())\n",
    "farm = [list(map(int, input().split())) for _ in range(N)]\n",
    "\n",
    "\n",
    "dx = [1, -1, 0, 0, 1, 1, -1, -1]\n",
    "dy = [0, 0, 1, -1, 1, -1, -1, 1]\n",
    "visited = [[0 for _ in range(M)] for _ in range(N)]\n",
    "\n",
    "def dfs(x, y):\n",
    "    global istop\n",
    "    visited[x][y] = 1\n",
    "    for i in range(8):\n",
    "        nx = x + dx[i]\n",
    "        ny = y + dy[i]\n",
    "        if 0 <= nx < N and 0 <= ny < M:\n",
    "            # 만약 자신보다 더 높은 좌표가 주위에 있다면 산봉우리 X\n",
    "            if farm[x][y] < farm[nx][ny]:\n",
    "                istop = 0\n",
    "            # 방문하지 않았고 자신과 같은 높이의 좌표가 주위에 있다면\n",
    "            if not visited[nx][ny] and farm[x][y] == farm[nx][ny]:\n",
    "                # 다시 그 좌표에서 8방향으로 탐색\n",
    "                dfs(nx, ny)\n",
    "\n",
    "cnt = 0\n",
    "for i in range(N):\n",
    "    for j in range(M):\n",
    "        if farm[i][j] > 0 and not visited[i][j]:\n",
    "            istop = 1\n",
    "            dfs(i, j)\n",
    "            if istop:\n",
    "                cnt += 1\n",
    "print(cnt)"
   ]
  }
 ],
 "metadata": {
  "kernelspec": {
   "display_name": "Python 3",
   "language": "python",
   "name": "python3"
  },
  "language_info": {
   "codemirror_mode": {
    "name": "ipython",
    "version": 3
   },
   "file_extension": ".py",
   "mimetype": "text/x-python",
   "name": "python",
   "nbconvert_exporter": "python",
   "pygments_lexer": "ipython3",
   "version": "3.9.13"
  },
  "orig_nbformat": 4
 },
 "nbformat": 4,
 "nbformat_minor": 2
}
