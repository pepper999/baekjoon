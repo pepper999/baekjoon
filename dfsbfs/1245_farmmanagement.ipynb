{
 "cells": [
  {
   "cell_type": "markdown",
   "metadata": {},
   "source": [
    "### 1245 농장 관리"
   ]
  },
  {
   "cell_type": "code",
   "execution_count": null,
   "metadata": {},
   "outputs": [],
   "source": [
    "from collections import deque\n",
    "\n",
    "N, M = map(int, input().split())\n",
    "farm = [list(map(int, input().split())) for _ in range(N)]\n",
    "\n",
    "delta = [(1,0), (-1,0), (0,1), (0,-1)]\n",
    "\n",
    "def bfs():\n",
    "    cnt = 0\n",
    "    top = -1\n",
    "    que = deque([[0,0]])\n",
    "    visited = [[0 for _ in range(M)] for _ in range(N)]\n",
    "    visited[0][0] = 1\n",
    "    while que:\n",
    "        x, y = que.pop()\n",
    "        flag = 1\n",
    "        for i in range(4):\n",
    "            nx = x + delta[i][0]\n",
    "            ny = y + delta[i][1]\n",
    "            if 0 <= nx < N and 0 <= ny < M and not visited[nx][ny]:\n",
    "                que.append([nx, ny])\n",
    "                visited[nx][ny] = 1\n",
    "                if farm[x][y] < farm[nx][ny]:\n",
    "                    flag = 0\n",
    "        if flag == 1:\n",
    "            top = farm[nx][ny]\n",
    "            cnt += 1\n"
   ]
  }
 ],
 "metadata": {
  "language_info": {
   "name": "python"
  },
  "orig_nbformat": 4
 },
 "nbformat": 4,
 "nbformat_minor": 2
}
