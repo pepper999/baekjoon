{
 "cells": [
  {
   "cell_type": "markdown",
   "metadata": {},
   "source": [
    "### 12851 숨바꼭질 2\n",
    "\n",
    "1. bfs 구현(bfs로 구현하면 맨 처음 K에 도달한 경우의 수가 무조건 최단 거리)\n",
    "\n",
    "2. 최단거리로 도착할 수 있는 원소들만 탐색해나감(visited[next] == visited[now]+1)\n",
    "\n",
    "3. 만약에 수빈이가 동생보다 같거나 뒤에 있다면 수빈이의 위치 - 동생의 위치 값을 반환하면됨"
   ]
  },
  {
   "cell_type": "code",
   "execution_count": 7,
   "metadata": {},
   "outputs": [
    {
     "name": "stdout",
     "output_type": "stream",
     "text": [
      "4\n",
      "2\n"
     ]
    }
   ],
   "source": [
    "from collections import deque\n",
    "\n",
    "N, K = map(int, input().split())\n",
    "\n",
    "min_time = float('inf')\n",
    "cnt = 0\n",
    "visited = [0] * (2*K)\n",
    "\n",
    "# bfs 정의\n",
    "def bfs(now):\n",
    "    cnt, rlt = 0, 0\n",
    "    que = deque([now])\n",
    "    while que:\n",
    "        now = que.popleft()\n",
    "        if now == K:\n",
    "            rlt = visited[now]\n",
    "            cnt += 1\n",
    "        else:\n",
    "            for next in (now-1, now+1, now*2):\n",
    "                # 방문한적이 없거나, 최단거리로 방문하는 경우의 와 같은 시간이 걸리면 탐색\n",
    "                if 0 <= next < 2*K and (not visited[next] or visited[next] == visited[now]+1):\n",
    "                    que.append(next)\n",
    "                    visited[next] = visited[now] + 1\n",
    "    return rlt, cnt\n",
    "\n",
    "if N >= K:\n",
    "    print(N-K, 1, sep= '\\n')\n",
    "else:\n",
    "    print(*bfs(N), sep = '\\n')"
   ]
  }
 ],
 "metadata": {
  "kernelspec": {
   "display_name": "Python 3",
   "language": "python",
   "name": "python3"
  },
  "language_info": {
   "codemirror_mode": {
    "name": "ipython",
    "version": 3
   },
   "file_extension": ".py",
   "mimetype": "text/x-python",
   "name": "python",
   "nbconvert_exporter": "python",
   "pygments_lexer": "ipython3",
   "version": "3.9.13"
  },
  "orig_nbformat": 4
 },
 "nbformat": 4,
 "nbformat_minor": 2
}
