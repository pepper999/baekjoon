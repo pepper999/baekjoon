{
 "cells": [
  {
   "cell_type": "markdown",
   "metadata": {},
   "source": [
    "### 15686 치킨 배달\n",
    "\n",
    "1. 단순한 bfs 문제\n",
    "\n",
    "2. combinations 로 남겨놓을 치킨집을 정함\n",
    "\n",
    "3. 정해진 치킨집 하에서의 치킨거리를 각각 구함\n",
    "\n",
    "4. 그 거리의 합이 최소가 되는 조합을 찾아내면 됨!"
   ]
  },
  {
   "cell_type": "code",
   "execution_count": null,
   "metadata": {},
   "outputs": [],
   "source": [
    "from collections import deque\n",
    "from itertools import combinations\n",
    "\n",
    "N, M = map(int, input().split())\n",
    "graph = []\n",
    "start = []\n",
    "delta = [(0,1),(0,-1),(1,0),(-1,0)]\n",
    "\n",
    "for i in range(N):\n",
    "    graph.append(list(map(int, input().split())))\n",
    "    for j in range(N):\n",
    "        if graph[i][j] == 2:\n",
    "            start.append([i,j])\n",
    "# M 개의 치킨집을 남기는 경우의 수 구함\n",
    "start_M = list(combinations(start, M)) \n",
    "temp_min = float('inf')\n",
    "\n",
    "# bfs 함수 정의\n",
    "def bfs(point):\n",
    "    visited = [[-1 for _ in range(N)] for _ in range(N)]\n",
    "    for i, j in point:\n",
    "        visited[i][j] = 0\n",
    "    temp_sum = 0\n",
    "    que = deque(point)\n",
    "    while que:\n",
    "        x, y = que.popleft()\n",
    "        for i in range(4):\n",
    "            nx = x + delta[i][0]\n",
    "            ny = y + delta[i][1]\n",
    "            if 0 <= nx < N and 0 <= ny < N and visited[nx][ny] == -1:\n",
    "                # 만약 집에 도착하면 이때까지의 거리를 더해줌\n",
    "                if graph[nx][ny] == 1:\n",
    "                    temp_sum += visited[x][y] + 1\n",
    "                que.append([nx, ny])\n",
    "                visited[nx][ny] = visited[x][y] + 1\n",
    "    return temp_sum\n",
    "                \n",
    "#모든 조합에 대해서 탐색을 실시함\n",
    "for i in start_M:\n",
    "    temp_sum  = bfs(i)\n",
    "    # 돌릴떄마다 최솟값을 갱신함\n",
    "    temp_min = min(temp_sum, temp_min)\n",
    "print(temp_min)"
   ]
  }
 ],
 "metadata": {
  "language_info": {
   "name": "python"
  },
  "orig_nbformat": 4
 },
 "nbformat": 4,
 "nbformat_minor": 2
}
