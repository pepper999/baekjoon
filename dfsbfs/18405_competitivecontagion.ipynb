{
 "cells": [
  {
   "cell_type": "markdown",
   "metadata": {},
   "source": [
    "### 18405 경쟁적 전염\n",
    "\n",
    "1. 굉장히 기초적인 BFS 문제\n",
    "\n",
    "2. 먼저 좌표를 받아오는 과정에서 함께 각 바이러스의 초기위치를 함께 저장해 놓는다\n",
    "\n",
    "3. 초기 위치와 함께 바이러스 정보를 저장함\n",
    "\n",
    "4. 바이러스는 작은것부터 퍼져나가기 때문에, 바이러스 정보를 한번 sort 해서 사용"
   ]
  },
  {
   "cell_type": "code",
   "execution_count": 43,
   "metadata": {},
   "outputs": [
    {
     "name": "stdout",
     "output_type": "stream",
     "text": [
      "0\n"
     ]
    }
   ],
   "source": [
    "from collections import deque\n",
    "\n",
    "delta = [(1,0), (-1,0), (0,1), (0,-1)]\n",
    "\n",
    "def bfs():\n",
    "    que = deque(spot)\n",
    "    while que:\n",
    "        virus, s, x, y = que.popleft()\n",
    "        if s == S:\n",
    "            return\n",
    "        for i in range(4):\n",
    "            nx = x + delta[i][0]\n",
    "            ny = y + delta[i][1]\n",
    "            if 0 <= nx < N and 0 <= ny < N and not examiner[nx][ny]:\n",
    "                # 좌표에 바로 바이러스 정보 입력\n",
    "                examiner[nx][ny] = virus\n",
    "                que.append((virus, s+1, nx, ny))\n",
    "\n",
    "N, K = map(int, input().split())\n",
    "examiner = []\n",
    "spot = []\n",
    "for i in range(N):\n",
    "    examiner.append(list(map(int, input().split())))\n",
    "    for j in range(N):\n",
    "        if examiner[i][j] != 0:\n",
    "            # 초기 que 에 저장할 초기 바이러스 위치 저장 (바이러스 정보, 초기시간, x좌표, y좌표)로 저장\n",
    "            spot.append(((examiner[i][j], 0, i, j)))\n",
    "spot.sort()\n",
    "S, X, Y = map(int, input().split())\n",
    "bfs()\n",
    "print(examiner[X-1][Y-1])"
   ]
  },
  {
   "cell_type": "code",
   "execution_count": 41,
   "metadata": {},
   "outputs": [
    {
     "name": "stdout",
     "output_type": "stream",
     "text": [
      "[(1, 0, 0), (2, 0, 2), (3, 2, 0)]\n"
     ]
    }
   ],
   "source": [
    "print(spot)"
   ]
  }
 ],
 "metadata": {
  "kernelspec": {
   "display_name": "Python 3",
   "language": "python",
   "name": "python3"
  },
  "language_info": {
   "codemirror_mode": {
    "name": "ipython",
    "version": 3
   },
   "file_extension": ".py",
   "mimetype": "text/x-python",
   "name": "python",
   "nbconvert_exporter": "python",
   "pygments_lexer": "ipython3",
   "version": "3.9.13"
  },
  "orig_nbformat": 4
 },
 "nbformat": 4,
 "nbformat_minor": 2
}
