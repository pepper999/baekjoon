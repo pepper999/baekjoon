{
 "cells": [
  {
   "cell_type": "markdown",
   "metadata": {},
   "source": [
    "### 17471 게리맨더링\n",
    "\n",
    "1. permutations 을 사용하여, 지역구를 두개로 나눔\n",
    "\n",
    "2. permutations 에 속한 지역구를 1번, 속하지 않은 지역구를 2번으로 나눔\n",
    "\n",
    "3. 각 지역구만을 순회하는 함수 정의한 뒤, 두 지역구에 대해서 탐색 실시\n",
    "\n",
    "4. 탐색한 선거구 갯수의 합이 총 지역구의 갯수와 동일하다면, 해당 경우의 수에서 유권자 수의 차이를 구함\n",
    "\n",
    "5. 모든 permutation 에 대해서 차이를 구하여 그 최솟값을 최종 결과로 적용"
   ]
  },
  {
   "cell_type": "code",
   "execution_count": 44,
   "metadata": {},
   "outputs": [
    {
     "name": "stdout",
     "output_type": "stream",
     "text": [
      "0\n"
     ]
    }
   ],
   "source": [
    "import itertools\n",
    "\n",
    "def dfs(x):\n",
    "    visited = [x[0]]\n",
    "    stack = [x[0]]\n",
    "    temp_sum = 0\n",
    "    while stack:\n",
    "        now = stack.pop()\n",
    "        temp_sum += people[now-1]\n",
    "        for next in node[now]:\n",
    "            # 해당 지역구에 해당하면서 아직 방문하지 않은 지역구 방문\n",
    "            if next not in visited and next in x:\n",
    "                stack.append(next)\n",
    "                visited.append(next)\n",
    "    return temp_sum, len(visited)\n",
    "\n",
    "N = int(input())\n",
    "people = list(map(int, input().split()))\n",
    "sum1 = sum(people)\n",
    "rlt = float('inf')\n",
    "\n",
    "node = [[] for _ in range(N+1)]\n",
    "for i in range(1, N+1):\n",
    "    info = list(map(int, input().split()))\n",
    "    for j in range(1, info[0]+1):\n",
    "        node[i].append(info[j])\n",
    "\n",
    "for i in range(1, N // 2 + 1):\n",
    "    devides = list(itertools.permutations(range(1,N+1), i))\n",
    "    for devide in devides:\n",
    "        sum1, party1 = dfs(devide)\n",
    "        sum2, party2 = dfs([i for i in range(1, N+1) if i not in devide])\n",
    "        # 두 탐색 결과의 합이 총 지역구 수의 합과 같다면, 최솟값 갱신\n",
    "        if party1 + party2 == N:\n",
    "            rlt = min(rlt, abs(sum1 - sum2))\n",
    "if rlt != float('inf'):\n",
    "    print(rlt)\n",
    "else:\n",
    "    print(-1)"
   ]
  }
 ],
 "metadata": {
  "kernelspec": {
   "display_name": "Python 3",
   "language": "python",
   "name": "python3"
  },
  "language_info": {
   "codemirror_mode": {
    "name": "ipython",
    "version": 3
   },
   "file_extension": ".py",
   "mimetype": "text/x-python",
   "name": "python",
   "nbconvert_exporter": "python",
   "pygments_lexer": "ipython3",
   "version": "3.9.13"
  },
  "orig_nbformat": 4
 },
 "nbformat": 4,
 "nbformat_minor": 2
}
