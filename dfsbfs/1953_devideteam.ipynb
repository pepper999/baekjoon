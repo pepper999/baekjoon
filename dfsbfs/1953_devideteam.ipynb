{
 "cells": [
  {
   "cell_type": "markdown",
   "metadata": {},
   "source": [
    "### 1953 팀배분\n",
    "\n",
    "1. 단순히 그래프를 이분하는 문제!\n",
    "\n",
    "2. 사이가 좋지 않은 사람들끼지 노드를 연결한다고 생각하면 됨\n",
    "\n",
    "3. 즉 연결된 노드끼리는 다른 팀으로 이분하기만 하면 된다!\n",
    "\n",
    "4. 각각의 팀을 각각의 리스트에 저장해놓고, 최종 결과때 print"
   ]
  },
  {
   "cell_type": "code",
   "execution_count": null,
   "metadata": {},
   "outputs": [],
   "source": [
    "N = int(input())\n",
    "node = [[] for _ in range(N+1)]\n",
    "\n",
    "# dfs 정의\n",
    "def dfs(start):\n",
    "    stack = [start]\n",
    "    visited[start] = 1\n",
    "    while stack:\n",
    "        now = stack.pop()\n",
    "        # 만약 현재 노드가 팀 1에 속해있다면, party1 리스트에 저장\n",
    "        if visited[now] == 1:\n",
    "            party1.append(now)\n",
    "        # 아니라면, party2 리스트에 저장\n",
    "        else:\n",
    "            party2.append(now)\n",
    "        # 다음 노드에 대해서 방문하지 않았다면, 현재 노드의 visted * -1\n",
    "        for next in node[now]:\n",
    "            if next and not visited[next]:\n",
    "                visited[next] = visited[now] * (-1)\n",
    "                stack.append(next)\n",
    "\n",
    "for i in range(N):\n",
    "    info = list(map(int, input().split()))\n",
    "    for j in info[1:]:\n",
    "        node[i+1].append(j)\n",
    "visited = [0] * (N+1)\n",
    "party1 = []\n",
    "party2 = []\n",
    "\n",
    "for i in range(1, N+1):\n",
    "    if visited[i] == 0:\n",
    "        dfs(i)\n",
    "print(len(party1))\n",
    "print(*sorted(party1))\n",
    "print(len(party2))\n",
    "print(*sorted(party2))"
   ]
  }
 ],
 "metadata": {
  "kernelspec": {
   "display_name": "Python 3",
   "language": "python",
   "name": "python3"
  },
  "language_info": {
   "codemirror_mode": {
    "name": "ipython",
    "version": 3
   },
   "file_extension": ".py",
   "mimetype": "text/x-python",
   "name": "python",
   "nbconvert_exporter": "python",
   "pygments_lexer": "ipython3",
   "version": "3.9.13"
  },
  "orig_nbformat": 4
 },
 "nbformat": 4,
 "nbformat_minor": 2
}
