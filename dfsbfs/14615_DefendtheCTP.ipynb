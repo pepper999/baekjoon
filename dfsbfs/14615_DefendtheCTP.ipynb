{
 "cells": [
  {
   "cell_type": "markdown",
   "metadata": {},
   "source": [
    "### 14615 Defend the CTP!!!\n",
    "\n",
    "1. 특정좌표에서 N 까지 갈 수 있는가? -> N에서 갈 수 있는 노드를 모두 표시한다면 DFS 한번만에 다 구할 수 있음\n",
    "\n",
    "2. 1에서 갈 수 있는 노드를 모두 표시하고, N에서 갈 수 있는 노드를 모두 표시한다음 폭탄의 위치가 둘 다에 해당한다면, CTP를 구할 수 있음\n",
    "\n",
    "3. 위의 해결방법을 사용한다면, DFS 두번으로 이 문제를 해결 가능!"
   ]
  },
  {
   "cell_type": "code",
   "execution_count": null,
   "metadata": {},
   "outputs": [],
   "source": [
    "import sys\n",
    "input = sys.stdin.readline\n",
    "\n",
    "# N 에서 갈 수 있는 모든 노드를 표시\n",
    "def to_bomb():\n",
    "    stack = [N]\n",
    "    visited = [0] * (N+1)\n",
    "    visited[N] = 1\n",
    "    while stack:\n",
    "        now = stack.pop()\n",
    "        for next in CTP[now]:\n",
    "            if next and not visited[next]:\n",
    "                stack.append(next)\n",
    "                visited[next] = 1\n",
    "    return visited\n",
    "# 1 에서 갈 수 있는 모든 노드를 표시\n",
    "def to_N():\n",
    "    stack = [1]\n",
    "    visited = [0] * (N+1)\n",
    "    visited[1] = 1\n",
    "    while stack:\n",
    "        now = stack.pop()\n",
    "        for next in CTP2[now]:\n",
    "            if next and not visited[next]:\n",
    "                stack.append(next)\n",
    "                visited[next] = 1\n",
    "    return visited\n",
    "\n",
    "N, M = map(int, input().split())\n",
    "CTP = [[] for _ in range(N+1)]\n",
    "CTP2 = [[] for _ in range(N+1)]\n",
    "for _ in range(M):\n",
    "    start, end = map(int, input().split())\n",
    "    CTP[end].append(start)\n",
    "    CTP2[start].append(end)\n",
    "\n",
    "# 탐색결과를 저장\n",
    "visited = to_bomb()\n",
    "visited2 = to_N()\n",
    "\n",
    "T = int(input())\n",
    "for _ in range(T):\n",
    "    bomb = int(input())\n",
    "    # 폭탄의 위치가 1에서도 갈 수 있고 N에서도 갈 수 있다면\n",
    "    if visited[bomb] and visited2[bomb]:\n",
    "        print('Defend the CTP')\n",
    "    else:\n",
    "        print('Destroyed the CTP')"
   ]
  }
 ],
 "metadata": {
  "language_info": {
   "name": "python"
  },
  "orig_nbformat": 4
 },
 "nbformat": 4,
 "nbformat_minor": 2
}
