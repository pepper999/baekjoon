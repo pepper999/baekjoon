{
 "cells": [
  {
   "cell_type": "markdown",
   "metadata": {},
   "source": [
    "### 15971 두 로봇\n",
    "\n",
    "1. 두 로봇이 만날 수 있는 경로 중 가장 짧은 경로를 구함\n",
    "\n",
    "2. 한 경로를 사이에 두고 통신이 가능\n",
    "\n",
    "3. 만날 수 있는 경우를 dfs를 통해서 탐색 -> 가장 짧은 경로가 나올 때 마다 갱신\n",
    "\n",
    "4. 모든 경로를 탐색하여 가장 짧은 경로를 갱신한 뒤 해당 경로의 노드 거리 중 가장 긴 거리를 사이에 두고 통신을 하는 것이 최적의 경로\n",
    "\n",
    "5. [ 짧은 경로, 경로에서 가장 긴 노드의 거리 ] 의 형태로 visited에 저장한다음, 탐색과 동시에 갱신"
   ]
  },
  {
   "cell_type": "code",
   "execution_count": null,
   "metadata": {},
   "outputs": [],
   "source": [
    "N, robota, robotb = map(int, input().split())\n",
    "node = [[] for _ in range(N+1)]\n",
    "for _ in range(N-1):\n",
    "    # 거리정보도 포함한 node 정보를 저장\n",
    "    start, end, dis = map(int, input().split())\n",
    "    node[start].append([end, dis])\n",
    "    node[end].append([start, dis])\n",
    "visited = [-1] * (N+1)\n",
    "\n",
    "# dfs 함수 정의\n",
    "def dfs(start):\n",
    "    stack = [start]\n",
    "    # [ 최단경로, 경로상에서 가장 긴 노드간의 거리 ] 로 저장\n",
    "    visited[start] = [0, 0]\n",
    "    while stack:\n",
    "        now = stack.pop()\n",
    "        for i in node[now]:\n",
    "            next, dis = i\n",
    "            # 방문하지 않았다면, visited 에 저장\n",
    "            if visited[next] == -1:\n",
    "                visited[next] = [visited[now][0] + dis, max(visited[now][1], dis)]\n",
    "                stack.append(next)\n",
    "            # 방문한적이 있지만, 현재 경로가 이전 경로보다 짧을 경우 visited에 최단거리 갱신\n",
    "            elif visited[now][0] + dis < visited[next][0]:\n",
    "                visited[next] = [visited[now][0] + dis, max(visited[now][1], dis)]\n",
    "                stack.append(next)\n",
    "\n",
    "# 로봇 1 을 기준으로 dfs 시작\n",
    "dfs(robota)\n",
    "# 로봇 2까지 가는 최단 거리 - 최단 거리 내에서 가장 긴 노드경로 가 문제의 답!\n",
    "print(visited[robotb][0] - visited[robotb][1])\n"
   ]
  }
 ],
 "metadata": {
  "kernelspec": {
   "display_name": "Python 3",
   "language": "python",
   "name": "python3"
  },
  "language_info": {
   "codemirror_mode": {
    "name": "ipython",
    "version": 3
   },
   "file_extension": ".py",
   "mimetype": "text/x-python",
   "name": "python",
   "nbconvert_exporter": "python",
   "pygments_lexer": "ipython3",
   "version": "3.9.13"
  },
  "orig_nbformat": 4
 },
 "nbformat": 4,
 "nbformat_minor": 2
}
