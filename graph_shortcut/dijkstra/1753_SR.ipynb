{
 "cells": [
  {
   "cell_type": "markdown",
   "metadata": {},
   "source": [
    "### 1753 최단경로\n",
    "\n",
    "1. 기초적인 다익스트라 문제!\n",
    "\n",
    "2. 우선순위 큐 즉, heap 자료구조를 사용하여 구현할 수 있음\n",
    "\n",
    "3. heap을 통해서 노드들의 거리를 거리순으로 정렬해서 저장한다.\n",
    "\n",
    "4. 현재 노드에서의 최단거리와 노드정보를 heap에서 출력하여, 현재 노드의 인접 노드들을 순회, 더 짧은 경로를 찾은 경우에 업데이트 해나가는 과정으로 진행한다."
   ]
  },
  {
   "cell_type": "code",
   "execution_count": null,
   "metadata": {},
   "outputs": [],
   "source": [
    "import heapq\n",
    "\n",
    "def dijkstra(start):\n",
    "    heap = [(0, start)]\n",
    "    distances[start] = 0\n",
    "    while heap:\n",
    "        now_dis, now = heapq.heappop(heap)\n",
    "        if now_dis <= distances[now]:\n",
    "            for next, weight in graph[now]:\n",
    "                dis = now_dis + weight\n",
    "                if dis < distances[next]:\n",
    "                    distances[next] = dis\n",
    "                    heapq.heappush(heap, (dis, next))\n",
    "\n",
    "V, E = map(int, input().split())\n",
    "K = int(input())\n",
    "graph = [[] for _ in range(V+1)]\n",
    "for _ in range(E):\n",
    "    u, v, w = map(int, input().split())\n",
    "    graph[u].append((v,w))\n",
    "distances = [float('inf') for _ in range(V+1)]\n",
    "dijkstra(K)\n",
    "for i in range(1, V+1):\n",
    "    if distances[i] == float('inf'):\n",
    "        print('INF')\n",
    "    else:\n",
    "        print(distances[i])"
   ]
  }
 ],
 "metadata": {
  "kernelspec": {
   "display_name": "Python 3",
   "language": "python",
   "name": "python3"
  },
  "language_info": {
   "codemirror_mode": {
    "name": "ipython",
    "version": 3
   },
   "file_extension": ".py",
   "mimetype": "text/x-python",
   "name": "python",
   "nbconvert_exporter": "python",
   "pygments_lexer": "ipython3",
   "version": "3.9.13"
  },
  "orig_nbformat": 4
 },
 "nbformat": 4,
 "nbformat_minor": 2
}
