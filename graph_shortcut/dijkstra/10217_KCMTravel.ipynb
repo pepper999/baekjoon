{
 "cells": [
  {
   "cell_type": "markdown",
   "metadata": {},
   "source": [
    "### 10217 KCM Travel"
   ]
  },
  {
   "cell_type": "code",
   "execution_count": null,
   "metadata": {},
   "outputs": [],
   "source": [
    "import heapq\n",
    "\n",
    "def dijkstra():\n",
    "    heap = [(0,0,0)]\n",
    "    \n",
    "\n",
    "T = int(input())\n",
    "N, M, K = map(int, input().split())\n",
    "graph = [[] for _ in range(N+1)]\n",
    "for i in range(K):\n",
    "    u, v, c, d = map(int, input().split())\n",
    "    graph[u].append((v,c,d))\n",
    "\n"
   ]
  }
 ],
 "metadata": {
  "language_info": {
   "name": "python"
  },
  "orig_nbformat": 4
 },
 "nbformat": 4,
 "nbformat_minor": 2
}
