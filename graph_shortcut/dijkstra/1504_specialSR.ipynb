{
 "cells": [
  {
   "cell_type": "markdown",
   "metadata": {},
   "source": [
    "### 1504 특별한 최단 경로\n",
    "\n",
    "1. 다익스트라 알고리즘을 사용하여 1, v1, v2 에서의 최단거리를 모두 구한다.\n",
    "\n",
    "2. 1에서 v1, v2를 거쳐서 N 으로 가는 경로는 총 두가지임(1 -> v1 -> v2 -> N, 1 -> v2 -> v1 -> N)\n",
    "\n",
    "3. 두 경우 중 더 짧은 경로를 출력하면 된다."
   ]
  },
  {
   "cell_type": "code",
   "execution_count": 6,
   "metadata": {},
   "outputs": [
    {
     "name": "stdout",
     "output_type": "stream",
     "text": [
      "7\n"
     ]
    }
   ],
   "source": [
    "import heapq\n",
    "# 다익스트라 구현\n",
    "def dijkstra(start):\n",
    "    distances = [float('inf') for _ in range(N+1)]\n",
    "    heap = [(0, start)]\n",
    "    distances[start] = 0\n",
    "    while heap:\n",
    "        now_dis, now = heapq.heappop(heap)\n",
    "        if now_dis <= distances[now]:\n",
    "            for next, weight in graph[now]:\n",
    "                distance = weight + now_dis\n",
    "                if distances[next] > distance:\n",
    "                    distances[next] = distance\n",
    "                    heapq.heappush(heap, (distance, next))\n",
    "    return distances\n",
    "\n",
    "N, E = map(int, input().split())\n",
    "graph = [[] for _ in range(N+1)]\n",
    "for _ in range(E):\n",
    "    a, b, c = map(int, input().split())\n",
    "    graph[a].append((b,c))\n",
    "    graph[b].append((a,c))\n",
    "v1, v2 = map(int, input().split())\n",
    "# 각 노드에서의 최단거리를 계산\n",
    "distance1 = dijkstra(1)\n",
    "distance2 = dijkstra(v1)\n",
    "distance3 = dijkstra(v2)\n",
    "\n",
    "# 어떤 경로가 더 짧은지를 비교\n",
    "rlt = min(distance1[v1] + distance2[v2] + distance3[N], distance1[v2] + distance3[v1] + distance2[N])\n",
    "# 만약 경로가 없으면 -1 출력\n",
    "if rlt == float('inf'):\n",
    "    print(-1)\n",
    "else:\n",
    "    print(rlt)"
   ]
  }
 ],
 "metadata": {
  "kernelspec": {
   "display_name": "Python 3",
   "language": "python",
   "name": "python3"
  },
  "language_info": {
   "codemirror_mode": {
    "name": "ipython",
    "version": 3
   },
   "file_extension": ".py",
   "mimetype": "text/x-python",
   "name": "python",
   "nbconvert_exporter": "python",
   "pygments_lexer": "ipython3",
   "version": "3.9.13"
  },
  "orig_nbformat": 4
 },
 "nbformat": 4,
 "nbformat_minor": 2
}
