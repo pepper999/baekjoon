{
 "cells": [
  {
   "cell_type": "markdown",
   "metadata": {},
   "source": [
    "### 4485 녹색 옷 입은 애가 젤다지?\n",
    "\n",
    "1. 다익스트라로 그래프를 델타탐색\n",
    "\n",
    "2. visited 행렬의 x, y 가 x, y 까지 가는데 가장 최소의 경우의 수"
   ]
  },
  {
   "cell_type": "code",
   "execution_count": null,
   "metadata": {},
   "outputs": [],
   "source": [
    "import heapq\n",
    "\n",
    "delta = [(0,1),(0,-1),(1,0),(-1,0)]\n",
    "\n",
    "def dijkstra():\n",
    "    heap = [[graph[0][0],0,0]]\n",
    "    visited[0][0] = 0\n",
    "    while heap:\n",
    "        loss_now, x, y = heapq.heappop(heap)\n",
    "        for i in range(4):\n",
    "            nx = x + delta[i][0]\n",
    "            ny = y + delta[i][1]\n",
    "            if 0 <= nx < N and 0 <= ny < N:\n",
    "                loss = loss_now + graph[nx][ny]\n",
    "                if visited[nx][ny] > loss:\n",
    "                    visited[nx][ny] = loss\n",
    "                    heapq.heappush(heap, [loss, nx, ny])\n",
    "tc = 1\n",
    "while True:\n",
    "    N = int(input())\n",
    "    if not N:\n",
    "        break\n",
    "    graph = [list(map(int, input().split())) for _ in range(N)]\n",
    "    visited = [[float('inf') for _ in range(N)] for _ in range(N)]\n",
    "    dijkstra()\n",
    "    print('Problem', f'{tc}:', visited[-1][-1])\n",
    "    tc += 1"
   ]
  }
 ],
 "metadata": {
  "kernelspec": {
   "display_name": "Python 3",
   "language": "python",
   "name": "python3"
  },
  "language_info": {
   "codemirror_mode": {
    "name": "ipython",
    "version": 3
   },
   "file_extension": ".py",
   "mimetype": "text/x-python",
   "name": "python",
   "nbconvert_exporter": "python",
   "pygments_lexer": "ipython3",
   "version": "3.9.13"
  },
  "orig_nbformat": 4
 },
 "nbformat": 4,
 "nbformat_minor": 2
}
