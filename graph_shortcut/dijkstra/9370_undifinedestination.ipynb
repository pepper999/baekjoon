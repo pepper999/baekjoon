{
 "cells": [
  {
   "cell_type": "markdown",
   "metadata": {},
   "source": [
    "### 9370 미확인 도착지\n",
    "\n",
    "1. distances 를 float('inf')로 초기화시키면, 결과에 inf + inf = inf 로 이동 불가능한 경우를 출력하기 때문에, INF = int(1e9) 로 적는다."
   ]
  },
  {
   "cell_type": "code",
   "execution_count": null,
   "metadata": {},
   "outputs": [],
   "source": [
    "import heapq\n",
    "\n",
    "def dijkstra(start):\n",
    "    distances = [INF for _ in range(n+1)]\n",
    "    heap = [(0, start)]\n",
    "    distances[start] = 0\n",
    "    while heap:\n",
    "        now_dis, now = heapq.heappop(heap)\n",
    "        if now_dis <= distances[now]:\n",
    "            for next, weight in graph[now]:\n",
    "                dis = now_dis + weight\n",
    "                if dis < distances[next]:\n",
    "                    distances[next] = dis\n",
    "                    heapq.heappush(heap, (dis, next))\n",
    "    return distances\n",
    "\n",
    "INF = int(1e9)\n",
    "T = int(input())\n",
    "for tc in range(T):\n",
    "    n, m, t = map(int, input().split())\n",
    "    s, g, h = map(int, input().split())\n",
    "    graph = [[] for _ in range(n+1)]\n",
    "    for _ in range(m):\n",
    "        a, b, d = map(int, input().split())\n",
    "        graph[a].append([b,d])\n",
    "        graph[b].append([a,d])\n",
    "    target_list = [int(input()) for _ in range(t)]\n",
    "    distances = dijkstra(s)\n",
    "    distances_g = dijkstra(g)\n",
    "    distances_h = dijkstra(h)\n",
    "    rlt = []\n",
    "    for i in target_list:\n",
    "        if distances[g] + distances_g[h] + distances_h[i] == distances[i] or distances[h] + distances_h[g] + distances_g[i] == distances[i]:\n",
    "            rlt.append(i)\n",
    "    rlt.sort()\n",
    "    print(*rlt)"
   ]
  }
 ],
 "metadata": {
  "kernelspec": {
   "display_name": "Python 3",
   "language": "python",
   "name": "python3"
  },
  "language_info": {
   "codemirror_mode": {
    "name": "ipython",
    "version": 3
   },
   "file_extension": ".py",
   "mimetype": "text/x-python",
   "name": "python",
   "nbconvert_exporter": "python",
   "pygments_lexer": "ipython3",
   "version": "3.9.13"
  },
  "orig_nbformat": 4
 },
 "nbformat": 4,
 "nbformat_minor": 2
}
