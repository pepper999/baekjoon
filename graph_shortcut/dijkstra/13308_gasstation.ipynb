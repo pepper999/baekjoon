{
 "cells": [
  {
   "cell_type": "markdown",
   "metadata": {},
   "source": [
    "### 13308 주유소\n",
    "\n",
    "1. dp 를 사용하여 다익스트라로 해결가능함\n",
    "\n",
    "2. 거리 행렬을 2차원으로 구성하여 [현재 노드의 비용][비용별 가중치] 형태로 저장할 수 있다.\n",
    "\n",
    "3. 탐색을 갱신할 떄 마다 현재 가격과 다음 노드의 가격을 비교하여 현재 노드에서 사용할 비용을 선정"
   ]
  },
  {
   "cell_type": "code",
   "execution_count": null,
   "metadata": {},
   "outputs": [],
   "source": [
    "import heapq\n",
    "\n",
    "def dijkstra():\n",
    "    distances = [[float('inf') for _ in range(max(price)+1)] for _ in range(N+1)]\n",
    "    heap = [(0,price[1],1)]\n",
    "    distances[1][price[1]] = 0\n",
    "    while heap:\n",
    "        now_weight, now_price, now = heapq.heappop(heap)\n",
    "        if now == N:\n",
    "            return now_weight\n",
    "        if now_weight <= distances[now][now_price]:\n",
    "            for next, weight in graph[now]:\n",
    "                next_price = min(now_price, price[next])\n",
    "                next_weight = now_weight + (weight * now_price)\n",
    "                if distances[next][now_price] > next_weight:\n",
    "                    distances[next][now_price] = next_weight\n",
    "                    heapq.heappush(heap, (next_weight, next_price, next))\n",
    "\n",
    "N, M = map(int, input().split())\n",
    "price = [0] + list(map(int, input().split()))\n",
    "graph = [[] for _ in range(N+1)]\n",
    "for i in range(M):\n",
    "    a, b, w = map(int, input().split())\n",
    "    graph[a].append((b,w))\n",
    "    graph[b].append((a,w))\n",
    "print(dijkstra())"
   ]
  }
 ],
 "metadata": {
  "language_info": {
   "name": "python"
  },
  "orig_nbformat": 4
 },
 "nbformat": 4,
 "nbformat_minor": 2
}
