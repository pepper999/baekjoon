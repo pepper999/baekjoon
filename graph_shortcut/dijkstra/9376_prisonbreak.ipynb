{
 "cells": [
  {
   "cell_type": "markdown",
   "metadata": {},
   "source": [
    "### 9376 탈옥\n",
    "\n",
    "1. 밖/죄수1/죄수2 모두에서 다익스트라로 모든 좌표에 대한 가중치를 계산한다.\n",
    "\n",
    "2. 각 좌표에서 밖/죄수1/죄수2의 가중치를 모두 더한 값이 최솟값이 될 수 있게 한다."
   ]
  },
  {
   "cell_type": "code",
   "execution_count": null,
   "metadata": {},
   "outputs": [],
   "source": [
    "import heapq\n",
    "from pprint import pprint\n",
    "\n",
    "delta = [(1, 0), (-1, 0), (0, 1), (0, -1)]\n",
    "\n",
    "def dijkstra(i, j):\n",
    "    distances = [[float('inf') for _ in range(w+2)] for _ in range(h+2)]\n",
    "    heap = [(0, i, j)]\n",
    "    distances[i][j] = 0\n",
    "    while heap:\n",
    "        weight, x, y = heapq.heappop(heap)\n",
    "        if distances[x][y] >= weight:\n",
    "            for d in range(4):\n",
    "                nx = x + delta[d][0]\n",
    "                ny = y + delta[d][1]\n",
    "                if 0 <= nx < h+2 and 0 <= ny < w+2 and graph[nx][ny] != '*':\n",
    "                    if graph[nx][ny] == '#' and distances[nx][ny] > weight + 1:\n",
    "                        distances[nx][ny] = weight + 1\n",
    "                        heapq.heappush(heap, (weight + 1, nx, ny))\n",
    "                    elif graph[nx][ny] != '#' and distances[nx][ny] > weight:\n",
    "                        distances[nx][ny] = weight\n",
    "                        heapq.heappush(heap, (weight, nx, ny))\n",
    "    return distances\n",
    "\n",
    "T = int(input())\n",
    "for t in range(T):\n",
    "    h, w = map(int, input().split())\n",
    "    graph = [['.' for _ in range(w+2)]]\n",
    "    start_point = []\n",
    "    for i in range(1, h+1):\n",
    "        graph.append(['.'] + list(input()) + ['.'])\n",
    "        for j in range(w+2):\n",
    "            if graph[i][j] == '$':\n",
    "                start_point.append((i, j))\n",
    "    graph.append(['.' for _ in range(w+2)])\n",
    "    min_steps = float('inf')\n",
    "    steps1 = dijkstra(start_point[0][0], start_point[0][1])\n",
    "    steps2 = dijkstra(start_point[1][0], start_point[1][1])\n",
    "    outer = dijkstra(0, 0)\n",
    "    for i in range(h+2):\n",
    "        for j in range(w+2):\n",
    "            if graph[i][j] != \"*\":\n",
    "                total_steps = steps1[i][j] + steps2[i][j] + outer[i][j]\n",
    "                if graph[i][j] == \"#\":\n",
    "                    total_steps -= 2\n",
    "                min_steps = min(min_steps, total_steps)\n",
    "    print(min_steps)"
   ]
  }
 ],
 "metadata": {
  "language_info": {
   "name": "python"
  },
  "orig_nbformat": 4
 },
 "nbformat": 4,
 "nbformat_minor": 2
}
