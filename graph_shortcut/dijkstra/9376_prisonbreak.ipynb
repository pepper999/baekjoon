{
 "cells": [
  {
   "cell_type": "markdown",
   "metadata": {},
   "source": [
    "### 9376 탈옥"
   ]
  },
  {
   "cell_type": "code",
   "execution_count": null,
   "metadata": {},
   "outputs": [],
   "source": [
    "T = int(input())\n",
    "for t in range(T):\n",
    "    h, w = map(int, input().split())\n",
    "    graph = []\n",
    "    break_spot = []\n",
    "    for i in range(h):\n",
    "        graph.append(list(input()))\n",
    "        if i == 0 or i == h-1:\n",
    "            for j in range(w):\n",
    "                if graph[i][j] == '#':\n",
    "                    break_spot.append([i,j,1])\n",
    "                elif graph[i][j] == '.':\n",
    "                    break_spot.append([i,j,0])\n",
    "        else:\n",
    "            if graph[0] == '#':\n",
    "                break_spot.append([i,0,1])\n",
    "            elif graph[0] == '.':\n",
    "                break_spot.append([i,0,0])\n",
    "            elif graph[-1] == '#':\n",
    "                break_spot.append([i,w-1,1])\n",
    "            elif graph[-1] == '.':\n",
    "                break_spot.append([i,w-1,0])\n",
    "    print(break_spot)"
   ]
  }
 ],
 "metadata": {
  "language_info": {
   "name": "python"
  },
  "orig_nbformat": 4
 },
 "nbformat": 4,
 "nbformat_minor": 2
}
