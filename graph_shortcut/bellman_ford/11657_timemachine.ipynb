{
 "cells": [
  {
   "cell_type": "markdown",
   "metadata": {},
   "source": [
    "### 11657 타임머신\n",
    "\n",
    "1. 벨만-포드 알고리즘을 사용 -> 음수 가중치가 있을 때 사용\n",
    "\n",
    "2. 모든 간선에 대해서 거리를 비교해서 거리를 갱신해준다."
   ]
  },
  {
   "cell_type": "code",
   "execution_count": null,
   "metadata": {},
   "outputs": [],
   "source": [
    "def bellman_ford(start):\n",
    "    distances[start] = 0\n",
    "    for i in range(N):\n",
    "        for j in range(M):\n",
    "            now = graph[j][0]\n",
    "            next = graph[j][1]\n",
    "            weight = graph[j][2]\n",
    "            if distances[now] != float('inf') and distances[next] > distances[now] + weight:\n",
    "                distances[next] = distances[now] + weight\n",
    "                if i == N - 1:\n",
    "                    return True\n",
    "    return False\n",
    "N, M = map(int, input().split())\n",
    "graph = []\n",
    "for _ in range(M):\n",
    "    a, b, c = map(int, input().split())\n",
    "    graph.append((a,b,c))\n",
    "distances = [float('inf') for _ in range(N+1)]\n",
    "cycle = bellman_ford(1)\n",
    "if cycle:\n",
    "    print('-1')\n",
    "else:\n",
    "    for i in range(2, N+1):\n",
    "        if distances[i] == float('inf'):\n",
    "            print(-1)\n",
    "        else:\n",
    "            print(distances[i])"
   ]
  }
 ],
 "metadata": {
  "kernelspec": {
   "display_name": "Python 3",
   "language": "python",
   "name": "python3"
  },
  "language_info": {
   "codemirror_mode": {
    "name": "ipython",
    "version": 3
   },
   "file_extension": ".py",
   "mimetype": "text/x-python",
   "name": "python",
   "nbconvert_exporter": "python",
   "pygments_lexer": "ipython3",
   "version": "3.9.13"
  },
  "orig_nbformat": 4
 },
 "nbformat": 4,
 "nbformat_minor": 2
}
