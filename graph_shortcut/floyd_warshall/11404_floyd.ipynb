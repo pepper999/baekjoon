{
 "cells": [
  {
   "cell_type": "markdown",
   "metadata": {},
   "source": [
    "### 11404 플로이드\n",
    "\n",
    "1. 모든노드를 순회하면서, 한 노드를 거쳐서 가는 경우에 가장 빠른 노드로 가는 과정을 계산할 수 있음"
   ]
  },
  {
   "cell_type": "code",
   "execution_count": null,
   "metadata": {},
   "outputs": [],
   "source": [
    "n = int(input())\n",
    "m = int(input())\n",
    "distances = [[float('inf') for _ in range(n+1)] for _ in range(n+1)]\n",
    "for i in range(1, n+1):\n",
    "    distances[i][i] = 0\n",
    "for _ in range(m):\n",
    "    a, b, c = map(int, input().split())\n",
    "    if distances[a][b] > c:\n",
    "        distances[a][b] = c\n",
    "for i in range(1, n+1):\n",
    "    for j in range(1, n+1):\n",
    "        for k in range(1, n+1):\n",
    "            if distances[j][k] > distances[j][i] + distances[i][k]:\n",
    "                distances[j][k] = distances[j][i] + distances[i][k]\n",
    "for i in range(1, n+1):\n",
    "    for j in range(1, n+1):\n",
    "        if distances[i][j] == float('inf'):\n",
    "            print(0, end = ' ')\n",
    "        else:\n",
    "            print(distances[i][j], end = ' ')\n",
    "    print()"
   ]
  }
 ],
 "metadata": {
  "kernelspec": {
   "display_name": "Python 3",
   "language": "python",
   "name": "python3"
  },
  "language_info": {
   "codemirror_mode": {
    "name": "ipython",
    "version": 3
   },
   "file_extension": ".py",
   "mimetype": "text/x-python",
   "name": "python",
   "nbconvert_exporter": "python",
   "pygments_lexer": "ipython3",
   "version": "3.9.13"
  },
  "orig_nbformat": 4
 },
 "nbformat": 4,
 "nbformat_minor": 2
}
