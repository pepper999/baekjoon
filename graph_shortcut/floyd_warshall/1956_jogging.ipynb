{
 "cells": [
  {
   "cell_type": "markdown",
   "metadata": {},
   "source": [
    "### 1956 운동\n",
    "\n",
    "1. 일반적인 플루이드 혹은 다익스트라를 응용하면 풀 수 있음.\n",
    "\n",
    "2. 하지만 플루이드는 시간초과가 나와서 pypy로 풀어야하고 다익스트라는 메모리가 초과됨.."
   ]
  },
  {
   "cell_type": "code",
   "execution_count": null,
   "metadata": {},
   "outputs": [],
   "source": [
    "# 일반적인 플루이드 와셜 알고리즘. 시간초과가 나온다.\n",
    "\n",
    "V, E = map(int, input().split())\n",
    "distances = [[float('inf') for _ in range(V+1)] for _ in range(V+1)]\n",
    "for i in range(E):\n",
    "    a, b, c = map(int, input().split())\n",
    "    distances[a][b] = c\n",
    "for k in range(1, V+1):\n",
    "    for i in range(1, V+1):\n",
    "        for j in range(1, V+1):\n",
    "            if distances[i][j] > distances[i][k] + distances[k][j]:\n",
    "                distances[i][j] = distances[i][k] + distances[k][j]\n",
    "rlt = []\n",
    "for i in range(1, V+1):\n",
    "    rlt.append(distances[i][i])\n",
    "rlt = min(rlt)\n",
    "if rlt == float('inf'):\n",
    "    print(-1)\n",
    "else:\n",
    "    print(rlt)"
   ]
  },
  {
   "cell_type": "code",
   "execution_count": null,
   "metadata": {},
   "outputs": [],
   "source": [
    "# 변형 다익스트라 답은 잘나오는데 메모리는 초과됨...\n",
    "import heapq\n",
    "\n",
    "V, E = map(int, input().split())\n",
    "distances = [[1e9 for _ in range(V+1)] for _ in range(V+1)]\n",
    "graph = [[] for _ in range(V+1)]\n",
    "heap = []\n",
    "for _ in range(E):\n",
    "    a, b, c = map(int, input().split())\n",
    "    distances[a][b] = c\n",
    "    graph[a].append([b, c])\n",
    "    heapq.heappush(heap, (c, a, b))\n",
    "while heap:\n",
    "    weight, start, end = heapq.heappop(heap)\n",
    "    if start == end:\n",
    "        print(weight)\n",
    "        break\n",
    "    if distances[start][end] >= weight:\n",
    "        for next, next_weight in graph[end]:\n",
    "            dist = next_weight + weight\n",
    "            if dist < distances[start][next]:\n",
    "                distances[start][next] = dist\n",
    "                heapq.heappush(heap, (dist, start, next))\n",
    "else:\n",
    "    print(-1)"
   ]
  }
 ],
 "metadata": {
  "kernelspec": {
   "display_name": "Python 3",
   "language": "python",
   "name": "python3"
  },
  "language_info": {
   "codemirror_mode": {
    "name": "ipython",
    "version": 3
   },
   "file_extension": ".py",
   "mimetype": "text/x-python",
   "name": "python",
   "nbconvert_exporter": "python",
   "pygments_lexer": "ipython3",
   "version": "3.9.13"
  },
  "orig_nbformat": 4
 },
 "nbformat": 4,
 "nbformat_minor": 2
}
