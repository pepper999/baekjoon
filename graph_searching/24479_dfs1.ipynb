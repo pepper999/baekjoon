{
 "cells": [
  {
   "cell_type": "markdown",
   "metadata": {},
   "source": [
    "### 24479 알고리즘 수업 - 깊이 우선 탐색 1"
   ]
  },
  {
   "cell_type": "code",
   "execution_count": null,
   "metadata": {},
   "outputs": [],
   "source": [
    "def DFS(N, start):\n",
    "    cnt = 1\n",
    "    stack = []\n",
    "    visited = [0] * (N+1)\n",
    "    stack.append(start)\n",
    "\n",
    "    while stack:\n",
    "        now = stack.pop(0)\n",
    "        visited[now] = cnt\n",
    "        cnt += 1\n",
    "        for i in range(1, N+1):\n",
    "            if visited[i] == 0 and node[now][i]:\n",
    "                stack.append(i)\n",
    "    return visited[1:]\n",
    "\n",
    "import sys\n",
    "sys.setrecursionlimit(150000)\n",
    "\n",
    "N, M, R = map(int, sys.stdin.readline().split())\n",
    "node = [[0 for _ in range(N+1)] for _ in range(N+1)]\n",
    "for i in range(M):\n",
    "    start, end = map(int, input().split())\n",
    "    node[start][end] = 1\n",
    "rlt = DFS(M, R)\n",
    "for i in range(len(rlt)):\n",
    "    print(rlt[i])\n",
    "    "
   ]
  }
 ],
 "metadata": {
  "language_info": {
   "name": "python"
  },
  "orig_nbformat": 4
 },
 "nbformat": 4,
 "nbformat_minor": 2
}
