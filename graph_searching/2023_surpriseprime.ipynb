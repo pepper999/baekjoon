{
 "cells": [
  {
   "cell_type": "markdown",
   "metadata": {},
   "source": [
    "### 2023 신기한 소수\n",
    "\n",
    "1. 소수인지를 판단하는 함수 정의(2 ~ 루트x+1 까지의 수로 나눴는데 전부 나누어 떨어지지 않는다면 소수임)\n",
    "\n",
    "2. 간단한 백트래킹 함수를 정의\n",
    "\n",
    "3. 맨 앞의 숫자부터 문자열로 받아서, 순서대로 합칠수 있게 만든다음 int 형으로 비교\n",
    "\n",
    "4. num 를 차곡차곡 쌓다가 주어진 조건길이에 맞아 떨어지면, print하고 다시 그 전 자릿수로 돌아가서 다음번 소수 탐색"
   ]
  },
  {
   "cell_type": "code",
   "execution_count": 24,
   "metadata": {},
   "outputs": [
    {
     "name": "stdout",
     "output_type": "stream",
     "text": [
      "23399339\n",
      "29399999\n",
      "37337999\n",
      "59393339\n",
      "73939133\n"
     ]
    }
   ],
   "source": [
    "import math\n",
    "\n",
    "N = int(input())\n",
    "\n",
    "# 소수를 찾는 함수 정의\n",
    "def is_prime_number(x):\n",
    "    if x == 0 or x == 1:\n",
    "        return False\n",
    "    # 2부터 자기자신의 제곱근 + 1 까지 전부 나눴을 떄 나누어 떨어 x 면 소수임\n",
    "    for i in range(2, int(math.sqrt(x)) + 1):\n",
    "        if x % i == 0:\n",
    "            return False\n",
    "    return True\n",
    "\n",
    "# 백트래킹 함수 정의\n",
    "def back(num):\n",
    "    # 숫자의 길이가 N이면 출력\n",
    "    if len(num) == N:\n",
    "        print(num)\n",
    "        return\n",
    "    # 1-9까지 탐색\n",
    "    for i in range(10):\n",
    "        # 문자열의 형태에서 더해줘야 차곡차곡 문자열로 쌓임\n",
    "        num_i = str(num) + str(i)\n",
    "        # 쌓은 숫자가 소수인지를 확인한다음, 소수라면 다음 숫자를 쌓음\n",
    "        if is_prime_number(int(num_i)):\n",
    "            back(num_i)\n",
    "    return\n",
    "\n",
    "back('')"
   ]
  }
 ],
 "metadata": {
  "kernelspec": {
   "display_name": "Python 3",
   "language": "python",
   "name": "python3"
  },
  "language_info": {
   "codemirror_mode": {
    "name": "ipython",
    "version": 3
   },
   "file_extension": ".py",
   "mimetype": "text/x-python",
   "name": "python",
   "nbconvert_exporter": "python",
   "pygments_lexer": "ipython3",
   "version": "3.9.13"
  },
  "orig_nbformat": 4
 },
 "nbformat": 4,
 "nbformat_minor": 2
}
