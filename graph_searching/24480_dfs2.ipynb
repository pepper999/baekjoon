{
 "cells": [
  {
   "cell_type": "markdown",
   "metadata": {},
   "source": [
    "### 24480 알고리즘 수업 - 깊이 우선 탐색 2"
   ]
  },
  {
   "cell_type": "code",
   "execution_count": 2,
   "metadata": {},
   "outputs": [
    {
     "ename": "TypeError",
     "evalue": "list indices must be integers or slices, not list",
     "output_type": "error",
     "traceback": [
      "\u001b[0;31m---------------------------------------------------------------------------\u001b[0m",
      "\u001b[0;31mTypeError\u001b[0m                                 Traceback (most recent call last)",
      "Cell \u001b[0;32mIn[2], line 23\u001b[0m\n\u001b[1;32m     21\u001b[0m     node[end]\u001b[39m.\u001b[39mappend(start)\n\u001b[1;32m     22\u001b[0m cnt \u001b[39m=\u001b[39m \u001b[39m1\u001b[39m\n\u001b[0;32m---> 23\u001b[0m result \u001b[39m=\u001b[39m dfs(N, R)\n\u001b[1;32m     24\u001b[0m \u001b[39mprint\u001b[39m(result[\u001b[39m1\u001b[39m:])\n",
      "Cell \u001b[0;32mIn[2], line 8\u001b[0m, in \u001b[0;36mdfs\u001b[0;34m(N, start)\u001b[0m\n\u001b[1;32m      6\u001b[0m \u001b[39mwhile\u001b[39;00m stack:\n\u001b[1;32m      7\u001b[0m     now \u001b[39m=\u001b[39m stack\u001b[39m.\u001b[39mpop()\n\u001b[0;32m----> 8\u001b[0m     visited[now] \u001b[39m=\u001b[39m \u001b[39m1\u001b[39m\n\u001b[1;32m      9\u001b[0m     rlt[now] \u001b[39m=\u001b[39m cnt\n\u001b[1;32m     10\u001b[0m     cnt \u001b[39m+\u001b[39m\u001b[39m=\u001b[39m \u001b[39m1\u001b[39m\n",
      "\u001b[0;31mTypeError\u001b[0m: list indices must be integers or slices, not list"
     ]
    }
   ],
   "source": [
    "def dfs(N, start):\n",
    "    cnt = 1\n",
    "    stack = [start]\n",
    "    visited = [0] * (N+1)\n",
    "    rlt = [0] * (N+1)\n",
    "    while stack:\n",
    "        now = stack.pop()\n",
    "        if visited[now] == 0:\n",
    "            visited[now] = 1\n",
    "            rlt[now] = cnt\n",
    "            cnt += 1\n",
    "        for i in node[now]:\n",
    "            if visited[i] == 0:\n",
    "                stack.append(i)\n",
    "    return rlt[1:]\n",
    "\n",
    "N, M, R = map(int, input().split())\n",
    "node = [[]for _ in range(N+1)]\n",
    "for _ in range(M):\n",
    "    start, end = map(int, input().split())\n",
    "    node[start].append(end)\n",
    "    node[end].append(start)\n",
    "for i in range(1, len(node)):\n",
    "    node[i].sort()\n",
    "    \n",
    "result = dfs(N, R)\n",
    "for i in range(len(result)):\n",
    "    print(result[i])"
   ]
  }
 ],
 "metadata": {
  "kernelspec": {
   "display_name": "Python 3",
   "language": "python",
   "name": "python3"
  },
  "language_info": {
   "codemirror_mode": {
    "name": "ipython",
    "version": 3
   },
   "file_extension": ".py",
   "mimetype": "text/x-python",
   "name": "python",
   "nbconvert_exporter": "python",
   "pygments_lexer": "ipython3",
   "version": "3.9.6"
  },
  "orig_nbformat": 4
 },
 "nbformat": 4,
 "nbformat_minor": 2
}
