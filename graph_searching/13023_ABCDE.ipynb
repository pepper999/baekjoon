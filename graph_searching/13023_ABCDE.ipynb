{
 "cells": [
  {
   "cell_type": "markdown",
   "metadata": {},
   "source": [
    "### 13023 ABCDE\n",
    "\n",
    "1. 연결 된 그래프의 깊이가 4가 넘어가는 경우가 존재하면 된다.\n",
    "\n",
    "2. 재귀로 돌리면서 depth 가 4가 넘어가는 순간 1을 출력시키면 댐"
   ]
  },
  {
   "cell_type": "code",
   "execution_count": 23,
   "metadata": {},
   "outputs": [
    {
     "name": "stdout",
     "output_type": "stream",
     "text": [
      "1\n"
     ]
    }
   ],
   "source": [
    "from collections import deque\n",
    "import sys\n",
    "input = sys.stdin.readline\n",
    "\n",
    "N, M = map(int, input().split())\n",
    "node = [[] for _ in range(N)]\n",
    "for _ in range(M):\n",
    "    start, end = map(int, input().split())\n",
    "    node[start].append(end)\n",
    "    node[end].append(start)\n",
    "visited = [0] * N\n",
    "result = 0\n",
    "\n",
    "# 재귀로 너비 우선 탐색 함수 정의\n",
    "def bfs(start, depth):    \n",
    "    global result\n",
    "    # depth 가 4가 넘어가면 result = 1\n",
    "    if depth == 4:\n",
    "        result = 1\n",
    "        return\n",
    "    # 방문하지 않은 노드에 대해서 재귀로 진행\n",
    "    for next in node[start]:\n",
    "        if not visited[next]:\n",
    "            visited[next] = 1\n",
    "            bfs(next, depth + 1)\n",
    "            visited[next] = 0\n",
    "\n",
    "# 모든 노드에 대해서 bfs 진행\n",
    "for i in range(N):\n",
    "    visited[i] = 1\n",
    "    bfs(i, 0)\n",
    "    visited[i] = 0\n",
    "    # depth 가 4가 넘어가는 경우의 수가 존재할 경우, 반복문 탈출\n",
    "    if result:\n",
    "        break\n",
    "\n",
    "# 결과값에 따라 결과 출력\n",
    "if result:\n",
    "    print(1)\n",
    "else:\n",
    "    print(0)"
   ]
  }
 ],
 "metadata": {
  "kernelspec": {
   "display_name": "Python 3",
   "language": "python",
   "name": "python3"
  },
  "language_info": {
   "codemirror_mode": {
    "name": "ipython",
    "version": 3
   },
   "file_extension": ".py",
   "mimetype": "text/x-python",
   "name": "python",
   "nbconvert_exporter": "python",
   "pygments_lexer": "ipython3",
   "version": "3.9.13"
  },
  "orig_nbformat": 4
 },
 "nbformat": 4,
 "nbformat_minor": 2
}
