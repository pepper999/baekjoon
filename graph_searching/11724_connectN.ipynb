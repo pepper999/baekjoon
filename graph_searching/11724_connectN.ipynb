{
 "cells": [
  {
   "cell_type": "markdown",
   "metadata": {},
   "source": [
    "### 연결 요소의 개수\n",
    "\n",
    "1. bfs 코드는 que 에 넣을 때 방문을 기록해줘야, 다른 노드와 함께 연결 된 노드에서 한번 더 탐색을 하지 않는다 이를 조심할것..\n",
    "\n",
    "2. 연결된 노드가 몇 덩어리가 있는지 구하는 것이다.\n",
    "\n",
    "3. 연결되지 않은 노드를 다시 탐색하는 횟수를 구하면 연결 요소의 개수를 구할 수 있다."
   ]
  },
  {
   "cell_type": "code",
   "execution_count": 2,
   "metadata": {},
   "outputs": [
    {
     "name": "stdout",
     "output_type": "stream",
     "text": [
      "1\n"
     ]
    }
   ],
   "source": [
    "from collections import deque\n",
    "import sys\n",
    "input = sys.stdin.readline\n",
    "\n",
    "N, M = map(int, input().split())\n",
    "node = [[] for _ in range(N+1)]\n",
    "for _ in range(M):\n",
    "    U, V = map(int, input().split())\n",
    "    node[U].append(V)\n",
    "    node[V].append(U)\n",
    "\n",
    "# 너비 우선 탐색 함수 정의\n",
    "def bfs(start):\n",
    "    que = deque([start])\n",
    "    visited[start] = 1\n",
    "    while que:\n",
    "        now = que.popleft()\n",
    "        for next in node[now]:\n",
    "            if not visited[next]:\n",
    "                # que 에 넣을 떄 visted 에 기록해야 next와 연결된 다른 노드에서 중복해서 탐색하지 않는다\n",
    "                visited[next] = 1\n",
    "                que.append(next)\n",
    "\n",
    "visited = [0] * (N+1)\n",
    "cnt = 0\n",
    "for i in range(1, N+1):\n",
    "    # 탐색하지 않은 노드가 존재하면, 너비우선탐색을 실시한다.\n",
    "    if not visited[i]:\n",
    "        bfs(i)\n",
    "        cnt += 1\n",
    "\n",
    "print(cnt)"
   ]
  }
 ],
 "metadata": {
  "kernelspec": {
   "display_name": "Python 3",
   "language": "python",
   "name": "python3"
  },
  "language_info": {
   "codemirror_mode": {
    "name": "ipython",
    "version": 3
   },
   "file_extension": ".py",
   "mimetype": "text/x-python",
   "name": "python",
   "nbconvert_exporter": "python",
   "pygments_lexer": "ipython3",
   "version": "3.9.13"
  },
  "orig_nbformat": 4
 },
 "nbformat": 4,
 "nbformat_minor": 2
}
