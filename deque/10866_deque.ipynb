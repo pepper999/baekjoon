{
 "cells": [
  {
   "cell_type": "markdown",
   "metadata": {},
   "source": [
    "### 10866 덱\n",
    "\n",
    "1. 기본적인 덱을 구현하는 문제\n",
    "\n",
    "2. python 에서는 deque 모듈을 임포트하여 쉽게 해결 가능\n",
    "\n",
    "3. 보통은 linked list 를 사용해서 구현을 할 수 있다."
   ]
  },
  {
   "cell_type": "code",
   "execution_count": 2,
   "metadata": {},
   "outputs": [
    {
     "name": "stdout",
     "output_type": "stream",
     "text": [
      "-1\n",
      "-1\n",
      "0\n",
      "1\n",
      "-1\n",
      "-1\n",
      "-1\n",
      "0\n",
      "1\n",
      "-1\n",
      "1\n",
      "-1\n"
     ]
    }
   ],
   "source": [
    "from collections import deque\n",
    "\n",
    "N = int(input())\n",
    "que = deque()\n",
    "for _ in range(N):\n",
    "    val = input().split()\n",
    "    if val[0] == 'push_back':\n",
    "        que.append(val[1])\n",
    "    elif val[0] == 'push_front':\n",
    "        que.appendleft(val[1])\n",
    "    elif val[0] == 'pop_front':\n",
    "        if que:\n",
    "            print(que.popleft())\n",
    "        else:\n",
    "            print(-1)\n",
    "    elif val[0] == 'pop_back':\n",
    "        if que:\n",
    "            print(que.pop())\n",
    "        else:\n",
    "            print(-1)\n",
    "    elif val[0] == 'size':\n",
    "        print(len(que))\n",
    "    elif val[0] == 'empty':\n",
    "        if len(que) == 0:\n",
    "            print(1)\n",
    "        else:\n",
    "            print(0)\n",
    "    elif val[0] == 'front':\n",
    "        if que:\n",
    "            print(que[0])\n",
    "        else:\n",
    "            print(-1)\n",
    "    elif val[0] == 'back':\n",
    "        if que:\n",
    "            print(que[-1])\n",
    "        else:\n",
    "            print(-1)\n",
    "    "
   ]
  }
 ],
 "metadata": {
  "kernelspec": {
   "display_name": "Python 3",
   "language": "python",
   "name": "python3"
  },
  "language_info": {
   "codemirror_mode": {
    "name": "ipython",
    "version": 3
   },
   "file_extension": ".py",
   "mimetype": "text/x-python",
   "name": "python",
   "nbconvert_exporter": "python",
   "pygments_lexer": "ipython3",
   "version": "3.9.13"
  },
  "orig_nbformat": 4
 },
 "nbformat": 4,
 "nbformat_minor": 2
}
