{
 "cells": [
  {
   "cell_type": "markdown",
   "metadata": {},
   "source": [
    "# 누적 합"
   ]
  },
  {
   "cell_type": "markdown",
   "metadata": {},
   "source": [
    "### 2559 수열\n",
    "\n",
    "1. 간단한 누적합을 통해서 계산 가능!\n",
    "\n",
    "2. 누적합 리스트에서 i - j 구간합을 구하고 싶다면, list[j] - list[i-1] 을 구하면 된다."
   ]
  },
  {
   "cell_type": "code",
   "execution_count": 14,
   "metadata": {},
   "outputs": [
    {
     "name": "stdout",
     "output_type": "stream",
     "text": [
      "0\n"
     ]
    }
   ],
   "source": [
    "import sys\n",
    "input = sys.stdin.readline\n",
    "\n",
    "N, K = map(int, input().split())\n",
    "num = list(map(int, input().split()))\n",
    "c_num = [0]\n",
    "for i in range(1, N+1):\n",
    "    c_num.append(num[i-1] + c_num[i-1])\n",
    "temp_max = float('-inf')\n",
    "for i in range(K, N+1):\n",
    "    if temp_max < c_num[i] - c_num[i-K]:\n",
    "        temp_max = c_num[i] - c_num[i-K]\n",
    "print(temp_max)"
   ]
  },
  {
   "cell_type": "markdown",
   "metadata": {},
   "source": [
    "### 16139 인간-컴퓨터 상호작용"
   ]
  },
  {
   "cell_type": "code",
   "execution_count": null,
   "metadata": {},
   "outputs": [],
   "source": [
    "S = list(input())\n",
    "q = int(input())\n",
    "for i in range(q):\n",
    "    a, l, r = input().split()\n",
    "    l, r = int(l), int(r)\n",
    "    "
   ]
  }
 ],
 "metadata": {
  "kernelspec": {
   "display_name": "Python 3",
   "language": "python",
   "name": "python3"
  },
  "language_info": {
   "codemirror_mode": {
    "name": "ipython",
    "version": 3
   },
   "file_extension": ".py",
   "mimetype": "text/x-python",
   "name": "python",
   "nbconvert_exporter": "python",
   "pygments_lexer": "ipython3",
   "version": "3.9.13"
  },
  "orig_nbformat": 4
 },
 "nbformat": 4,
 "nbformat_minor": 2
}
