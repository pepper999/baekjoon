{
 "cells": [
  {
   "cell_type": "markdown",
   "metadata": {},
   "source": [
    "### 2110 공유기 설치\n",
    "\n",
    "1. 가능한 간격의 범위를 지정하여(1 ~ 가장 먼집끼리의 간격) 이분탐색을 실시\n",
    "\n",
    "2. 이분탐색으로 설정된 간격하에서 설치할 수 있는 공유기의 수를 센다.\n",
    "\n",
    "3. 공유기의 수가 목표치보다 적으면 간격이 좁은 쪽에서 다시 이분탐색을 실시하고, 공유기의 수가 목표치보다 크면 결과에 저장하고 간격이 큰 쪽에서 다시 이분탐색을 실시한다.\n",
    "\n",
    "4. 최종 결과값을 print한다."
   ]
  },
  {
   "cell_type": "code",
   "execution_count": 15,
   "metadata": {},
   "outputs": [],
   "source": [
    "import sys\n",
    "input = sys.stdin.readline\n",
    "\n",
    "N, C = map(int, input().split())\n",
    "cood = [int(input()) for i in range(N)]\n",
    "cood.sort()\n",
    "\n",
    "# 바이너리 서치 함수 설정\n",
    "def binary(start, end):\n",
    "    while start <= end:\n",
    "        mid = (start + end) // 2\n",
    "        # mid 간격으로 설정시의 공유기 갯수 함수 할당\n",
    "        cnt = 1\n",
    "        prev = cood[0]\n",
    "        for i in range(1, N):\n",
    "            # 이전집과 비교해서, 설정한 간격보다 멀리 떨어져 있다면 공유기를 놓음\n",
    "            if cood[i] - prev >= mid:\n",
    "                cnt += 1\n",
    "                # 공유기를 놓은 집을 이전집으로 설정\n",
    "                prev = cood[i]\n",
    "        # 공유기의 총 갯수가 목표치보다 크거나 같으면, 최종결과에 간격을 저장하고 큰쪽에서 이분탐색\n",
    "        if cnt >= C:\n",
    "            rlt = mid\n",
    "            start = mid + 1\n",
    "        # 반대의 경우에는 작은쪽에서 이분탐색실시\n",
    "        elif cnt < C:\n",
    "            end = mid - 1\n",
    "    # 결과값 반환\n",
    "    return rlt\n",
    "\n",
    "print(binary(1, cood[-1]))"
   ]
  }
 ],
 "metadata": {
  "kernelspec": {
   "display_name": "Python 3",
   "language": "python",
   "name": "python3"
  },
  "language_info": {
   "codemirror_mode": {
    "name": "ipython",
    "version": 3
   },
   "file_extension": ".py",
   "mimetype": "text/x-python",
   "name": "python",
   "nbconvert_exporter": "python",
   "pygments_lexer": "ipython3",
   "version": "3.9.13"
  },
  "orig_nbformat": 4
 },
 "nbformat": 4,
 "nbformat_minor": 2
}
