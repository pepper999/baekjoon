{
 "cells": [
  {
   "cell_type": "markdown",
   "metadata": {},
   "source": [
    "### 1654 랜선 자르기\n",
    "\n",
    "1. 가능한 모든 랜선의 최대 길이(K 개의 랜선 중 가장 긴 랜선)를 기준으로 이분탐색 실시\n",
    "\n",
    "2. 최대 길이의 절반으로 랜선들을 자른다고 가정했을 때, 만들 수 있는 랜선의 숫자를 탐색\n",
    "\n",
    "3. 만약 만들수 있는 랜선의 수가 목표치보다 적으면, 더 적은 쪽으로 탐색 대상을 이동\n",
    "\n",
    "4. 반대의 경우에는 더 큰 쪽으로 탐색 대상을 이동\n",
    "\n",
    "5. 목표치와 같더라도, 랜선을 조금 더 길게 자를 수 있는 경우가 존재할 수 있기 때문에 더 큰 쪽으로 탐색 대상을 이동시킨다.\n",
    "\n",
    "6. 마지막까지 탐색해서 결과값을 출력한다."
   ]
  },
  {
   "cell_type": "code",
   "execution_count": 15,
   "metadata": {},
   "outputs": [
    {
     "name": "stdout",
     "output_type": "stream",
     "text": [
      "10\n"
     ]
    }
   ],
   "source": [
    "K, N = map(int, input().split())\n",
    "lan = [int(input()) for _ in range(K)]\n",
    "target = max(lan) + 1\n",
    "\n",
    "# 이분탐색 함수 정의\n",
    "def binary(start, end):\n",
    "    while start < end:\n",
    "        # mid 값은 자를 수 있는 가장 긴 길이(K개의 랜선 중 가장 긴 랜선)를 기준으로 // 2 한 값\n",
    "        mid = (start + end) // 2\n",
    "        temp_N = 0\n",
    "        # K개의 랜선에 대해서 mid 값으로 랜선을 잘랐을 떄 얻을 수 있는 랜선의 갯수를 임시N 값에 저장\n",
    "        for i in range(len(lan)):\n",
    "            temp_N += lan[i] // mid\n",
    "        # 만약 임시 N 값이 목표 N 값보다 작다면, 자르는 길이를 줄여서 더 많은 랜선을 얻어야 하기 때문에, 더 작은 길이를 탐색\n",
    "        if temp_N < N:\n",
    "            end = mid\n",
    "        # 반대의 경우에는 임시 N 값이 목표 N값보다 작을 때까지 반복해서 최대한 긴 길이의 결과값을 탐색한다.\n",
    "        elif temp_N > N:\n",
    "            temp_rlt = mid\n",
    "            start = mid + 1\n",
    "        elif temp_N == N:\n",
    "            temp_rlt = mid\n",
    "            start = mid + 1\n",
    "    return temp_rlt\n",
    "\n",
    "print(binary(0, target))"
   ]
  }
 ],
 "metadata": {
  "kernelspec": {
   "display_name": "Python 3",
   "language": "python",
   "name": "python3"
  },
  "language_info": {
   "codemirror_mode": {
    "name": "ipython",
    "version": 3
   },
   "file_extension": ".py",
   "mimetype": "text/x-python",
   "name": "python",
   "nbconvert_exporter": "python",
   "pygments_lexer": "ipython3",
   "version": "3.9.13"
  },
  "orig_nbformat": 4
 },
 "nbformat": 4,
 "nbformat_minor": 2
}
