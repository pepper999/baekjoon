{
 "cells": [
  {
   "cell_type": "markdown",
   "metadata": {},
   "source": [
    "### 2805 나무 자르기\n",
    "\n",
    "1. 설정할 수 있는 나무의 높이의 범위(0~가장 높은 나무의 높이)를 범위로 이분탐색을 실시\n",
    "\n",
    "2. 범위의 절반에 해당하는 값을 기준으로 해서, 값을 구함\n",
    "\n",
    "3. 구한 값이 N보다 크거나 같다면, 가능한 최대값을 구해야하기 떄문에, 높은쪽 범위로 설정\n",
    "\n",
    "4. 구한 값이 N보다 작다면, 낮은 쪽으로 범위를 설정해서 탐색"
   ]
  },
  {
   "cell_type": "code",
   "execution_count": 3,
   "metadata": {},
   "outputs": [
    {
     "name": "stdout",
     "output_type": "stream",
     "text": [
      "36\n"
     ]
    }
   ],
   "source": [
    "N, M = map(int, input().split())\n",
    "wood = list(map(int, input().split()))\n",
    "end = max(wood)\n",
    "# 이분탐색 함수 정의\n",
    "def binary(start, end):\n",
    "    while start < end:\n",
    "        mid = (start + end) // 2\n",
    "        temp_sum = 0\n",
    "        # 설정한 높이보다 높은 나무를 다 자르는 것이기 때문에, 0보다 작은 값은 무시\n",
    "        for i in range(N):\n",
    "            wood_cut = wood[i] - mid\n",
    "            if wood_cut >= 0:\n",
    "                temp_sum += wood_cut\n",
    "        # 모든 잘린 나무들의 합이 목표값보다 크다면, 높은 범위에서 다시 탐색\n",
    "        if temp_sum >= M:\n",
    "            temp_rlt = mid\n",
    "            start = mid + 1\n",
    "        # 목표값보다 작다면, 낮은 범위에서 다시 탐색\n",
    "        else:\n",
    "            end = mid\n",
    "    # 최종 결과값 출력\n",
    "    return temp_rlt\n",
    "\n",
    "print(binary(0, end))"
   ]
  }
 ],
 "metadata": {
  "kernelspec": {
   "display_name": "Python 3",
   "language": "python",
   "name": "python3"
  },
  "language_info": {
   "codemirror_mode": {
    "name": "ipython",
    "version": 3
   },
   "file_extension": ".py",
   "mimetype": "text/x-python",
   "name": "python",
   "nbconvert_exporter": "python",
   "pygments_lexer": "ipython3",
   "version": "3.9.13"
  },
  "orig_nbformat": 4
 },
 "nbformat": 4,
 "nbformat_minor": 2
}
