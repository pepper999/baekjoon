{
 "cells": [
  {
   "cell_type": "markdown",
   "metadata": {},
   "source": [
    "### 12015 가장 긴 증가하는 부분 수열 2\n",
    "\n",
    "1. 리스트를 순회하면서 왼쪽에 자신보다 작은 수가 있는지 모든 수를 확인한다면 시간복잡도가 O(N ** 2)가 된다.\n",
    "\n",
    "2. 새로운 리스트 A를 설정한다. A[i] 는 길이가 i 인 증가수열의 맨 마지막 원소이다.\n",
    "\n",
    "3. 초기 리스트 A 는 0이다 원본 리스트를 돌면서 A[-1] 값보다 원본 리스트의 값이 크면 A에 append 한다.(더 긴 수열을 만들 수 있으므로)\n",
    "\n",
    "4. 그게 아니라면 A를 이진탐색(A는 크기순으로 정렬되어 있을것이므로)\n",
    "\n",
    "5. 작은값이 나오면 start + 1 을 하고, 반대면 end = mid 를 하여 자기보다 작은 값과 큰 값의 사이 좌표를 구함\n",
    "\n",
    "6. 그 오른쪽에 존재하는 자기보다 큰 값을 자신으로 갱신하면서 진행\n",
    "\n",
    "7. 원 리스트를 끝까지 돌면, 만들 수 있는 가장 긴 길이의 증가하는 수열을 구할 수 있음"
   ]
  },
  {
   "cell_type": "code",
   "execution_count": 1,
   "metadata": {},
   "outputs": [
    {
     "name": "stdout",
     "output_type": "stream",
     "text": [
      "4\n"
     ]
    }
   ],
   "source": [
    "N = int(input())\n",
    "num_list = list(map(int, input().split()))\n",
    "val = [0]\n",
    "for i in range(N):\n",
    "    # 가장 긴 증가하는 수열의 마지막 값보다 원 리스트의 i 번쨰 값이 크면, 더 긴 수열을 만들 수 있으므로 append\n",
    "    if val[-1] < num_list[i]:\n",
    "        val.append(num_list[i])\n",
    "    # 그게 아니라면 이진탐색을 통해서 자기자신보다 작은값과 큰값 사이좌표를 구함\n",
    "    else:\n",
    "        start = 0\n",
    "        end = len(val)\n",
    "        while start < end:\n",
    "            mid = (start + end) // 2\n",
    "            # 수열의 값보다 현재 좌표 값이 크면 오른쪽으로 이동\n",
    "            if val[mid] < num_list[i]:\n",
    "                start = mid + 1\n",
    "            # 아니라면 왼쪽으로 이동\n",
    "            else:\n",
    "                end = mid\n",
    "        # 이동이 끝나서 왼쪽에는 나보다 작은 값 오른쪽에는 나보다 큰 값이 있다면, 오른쪽 값에 자기자신을 넣음\n",
    "        val[end] = num_list[i]\n",
    "# 가장 긴 수열 print\n",
    "print(len(val)-1)"
   ]
  }
 ],
 "metadata": {
  "kernelspec": {
   "display_name": "Python 3",
   "language": "python",
   "name": "python3"
  },
  "language_info": {
   "codemirror_mode": {
    "name": "ipython",
    "version": 3
   },
   "file_extension": ".py",
   "mimetype": "text/x-python",
   "name": "python",
   "nbconvert_exporter": "python",
   "pygments_lexer": "ipython3",
   "version": "3.9.13"
  },
  "orig_nbformat": 4
 },
 "nbformat": 4,
 "nbformat_minor": 2
}
