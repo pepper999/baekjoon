{
 "cells": [
  {
   "cell_type": "markdown",
   "metadata": {},
   "source": [
    "### k 번째 수\n",
    "\n",
    "1. N x N 배열 A 의 A[i][j] = i x j 를 오름차순 정렬했을 때 특정한 위치에 있는 값을 구하는 것!\n",
    "\n",
    "2. 오름차순 정렬했을 경우, K 번째에 올수 있는 수는 K보다 작거나 같음 행렬안에 중복된 원소가 포함되기 때문(1 x 2 와 2 x 1 은 같음)\n",
    "\n",
    "3. 이분탐색으로 해결이 가능한데, 나올 수 있는 최솟값(0) 과 최댓값(K)을 기준으로 mid 값을 구한다.\n",
    "\n",
    "4. cnt 로 앞에서부터 순서를 샌다. min(mid//i, N) 을 해서 줄 끝까지 가면 다음 줄로 가고 줄 중간에서 멈춘다면, 멈춘곳까지 더해준다.\n",
    "\n",
    "5. mid 값의 순서가 목표치 K 보다 뒤에 있다면, result로 설정하고 더 작은 값이 있는지를 탐색한다.\n",
    "\n",
    "6. mid 값의 순서가 목표치 보다 앞이라면, 더 뒤에 있는 값을 대상으로 이분탐색을 실시한다."
   ]
  },
  {
   "cell_type": "code",
   "execution_count": 1,
   "metadata": {},
   "outputs": [
    {
     "name": "stdout",
     "output_type": "stream",
     "text": [
      "6\n"
     ]
    }
   ],
   "source": [
    "N = int(input())\n",
    "K = int(input())\n",
    "\n",
    "start = 0\n",
    "end = K\n",
    "while start <= end:\n",
    "    mid = (start + end) // 2\n",
    "    cnt = 0\n",
    "    \n",
    "    for i in range(1, N+1):\n",
    "        cnt += min(mid//i, N)\n",
    "    if cnt >= K:\n",
    "        answer = mid\n",
    "        end = mid - 1\n",
    "    else:\n",
    "        start = mid + 1\n",
    "print(answer)"
   ]
  }
 ],
 "metadata": {
  "kernelspec": {
   "display_name": "Python 3",
   "language": "python",
   "name": "python3"
  },
  "language_info": {
   "codemirror_mode": {
    "name": "ipython",
    "version": 3
   },
   "file_extension": ".py",
   "mimetype": "text/x-python",
   "name": "python",
   "nbconvert_exporter": "python",
   "pygments_lexer": "ipython3",
   "version": "3.9.13"
  },
  "orig_nbformat": 4
 },
 "nbformat": 4,
 "nbformat_minor": 2
}
