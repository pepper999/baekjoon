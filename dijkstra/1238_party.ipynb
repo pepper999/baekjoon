{
 "cells": [
  {
   "cell_type": "markdown",
   "metadata": {},
   "source": [
    "### 1238 파티\n",
    "\n",
    "1. 모든 노드에서의 다익스트라 시행\n",
    "\n",
    "2. 목표점 X를 제외한 노드에서 X까지의 최단경로를 조사한 뒤, X에서 노드까지의 거리를 더해서 그 중 최댓값을 결과값으로 출력"
   ]
  },
  {
   "cell_type": "code",
   "execution_count": 1,
   "metadata": {},
   "outputs": [
    {
     "name": "stdout",
     "output_type": "stream",
     "text": [
      "10\n"
     ]
    }
   ],
   "source": [
    "import heapq\n",
    "\n",
    "def dijkstra(start):\n",
    "    distances = [float('inf') for _ in range(N+1)]\n",
    "    heap = [(0, start)]\n",
    "    distances[start] = 0\n",
    "    while heap:\n",
    "        now_dis, now = heapq.heappop(heap)\n",
    "        if now_dis <= distances[now]:\n",
    "            for next, weight in graph[now]:\n",
    "                dis = weight + now_dis\n",
    "                if dis < distances[next]:\n",
    "                    distances[next] = dis\n",
    "                    heapq.heappush(heap, (dis, next))\n",
    "    return distances\n",
    "\n",
    "N, M, X = map(int, input().split())\n",
    "graph = [[] for _ in range(N+1)]\n",
    "for _ in range(M):\n",
    "    s, e, t = map(int, input().split())\n",
    "    graph[s].append((e, t))\n",
    "rlt = [[] for _ in range(N+1)]\n",
    "max_route = []\n",
    "for i in range(1, N+1):\n",
    "    rlt[i] = dijkstra(i)\n",
    "for i in range(1, N+1):\n",
    "    max_route.append(rlt[i][X] + rlt[X][i])\n",
    "\n",
    "print(max(max_route))"
   ]
  }
 ],
 "metadata": {
  "kernelspec": {
   "display_name": "Python 3",
   "language": "python",
   "name": "python3"
  },
  "language_info": {
   "codemirror_mode": {
    "name": "ipython",
    "version": 3
   },
   "file_extension": ".py",
   "mimetype": "text/x-python",
   "name": "python",
   "nbconvert_exporter": "python",
   "pygments_lexer": "ipython3",
   "version": "3.9.13"
  },
  "orig_nbformat": 4
 },
 "nbformat": 4,
 "nbformat_minor": 2
}
