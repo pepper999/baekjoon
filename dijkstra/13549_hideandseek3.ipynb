{
 "cells": [
  {
   "cell_type": "markdown",
   "metadata": {},
   "source": [
    "### 숨바꼭질 3\n",
    "\n",
    "1. 기본적인 다익스트라/가중치가 있는 BFS문제\n",
    "\n",
    "2. 다익스트라를 사용해서 시작지점 N에서 K까지 갈 수 있는 경우의 수들중 최선의 수를 구하면 됨!"
   ]
  },
  {
   "cell_type": "code",
   "execution_count": null,
   "metadata": {},
   "outputs": [],
   "source": [
    "import heapq\n",
    "\n",
    "def dijkstra(start):\n",
    "    heap = [(0, start)]\n",
    "    distances[start] = 0\n",
    "    while heap:\n",
    "        now_dis, now = heapq.heappop(heap)\n",
    "        if now_dis <= distances[now]:\n",
    "            for next, weight in ([now+1, 1], [now-1, 1], [now*2, 0]):\n",
    "                dis = now_dis + weight\n",
    "                if 0 <= next < 2*K and distances[next] > dis:\n",
    "                    distances[next] = dis\n",
    "                    heapq.heappush(heap, (dis, next))\n",
    "\n",
    "N, K = map(int, input().split())\n",
    "distances = [float('inf')] * (2*K)\n",
    "# 만약 시작점이 도착점과 같거나 더 뒤라면, N-K가 답임\n",
    "if K <= N:\n",
    "    print(N-K)\n",
    "else:\n",
    "    dijkstra(N)\n",
    "    print(distances[K])"
   ]
  }
 ],
 "metadata": {
  "kernelspec": {
   "display_name": "Python 3",
   "language": "python",
   "name": "python3"
  },
  "language_info": {
   "codemirror_mode": {
    "name": "ipython",
    "version": 3
   },
   "file_extension": ".py",
   "mimetype": "text/x-python",
   "name": "python",
   "nbconvert_exporter": "python",
   "pygments_lexer": "ipython3",
   "version": "3.9.13"
  },
  "orig_nbformat": 4
 },
 "nbformat": 4,
 "nbformat_minor": 2
}
